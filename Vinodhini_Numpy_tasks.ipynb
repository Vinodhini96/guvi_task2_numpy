{
  "cells": [
    {
      "cell_type": "markdown",
      "metadata": {
        "id": "Nzj_-TOSYqd1"
      },
      "source": [
        "# Numpy\n",
        "\n"
      ]
    },
    {
      "cell_type": "markdown",
      "metadata": {
        "id": "ax2o4JA9YqeA"
      },
      "source": [
        "#### 1. Import the numpy package under the name `np` (★☆☆) \n",
        "(**hint**: import … as …)"
      ]
    },
    {
      "cell_type": "code",
      "execution_count": 2,
      "metadata": {
        "collapsed": true,
        "id": "UR8Regv6YqeF"
      },
      "outputs": [],
      "source": [
        "import numpy as np"
      ]
    },
    {
      "cell_type": "markdown",
      "metadata": {
        "id": "AzlSrtboYqeJ"
      },
      "source": [
        "#### 2. Print the numpy version and the configuration (★☆☆) \n",
        "(**hint**: np.\\_\\_version\\_\\_, np.show\\_config)"
      ]
    },
    {
      "cell_type": "code",
      "execution_count": null,
      "metadata": {
        "id": "t_uopEehYqeL",
        "outputId": "a723b73a-375d-4a53-9a19-196052994f2d",
        "colab": {
          "base_uri": "https://localhost:8080/"
        }
      },
      "outputs": [
        {
          "output_type": "stream",
          "name": "stdout",
          "text": [
            "1.21.6\n",
            "blas_mkl_info:\n",
            "  NOT AVAILABLE\n",
            "blis_info:\n",
            "  NOT AVAILABLE\n",
            "openblas_info:\n",
            "    libraries = ['openblas', 'openblas']\n",
            "    library_dirs = ['/usr/local/lib']\n",
            "    language = c\n",
            "    define_macros = [('HAVE_CBLAS', None)]\n",
            "    runtime_library_dirs = ['/usr/local/lib']\n",
            "blas_opt_info:\n",
            "    libraries = ['openblas', 'openblas']\n",
            "    library_dirs = ['/usr/local/lib']\n",
            "    language = c\n",
            "    define_macros = [('HAVE_CBLAS', None)]\n",
            "    runtime_library_dirs = ['/usr/local/lib']\n",
            "lapack_mkl_info:\n",
            "  NOT AVAILABLE\n",
            "openblas_lapack_info:\n",
            "    libraries = ['openblas', 'openblas']\n",
            "    library_dirs = ['/usr/local/lib']\n",
            "    language = c\n",
            "    define_macros = [('HAVE_CBLAS', None)]\n",
            "    runtime_library_dirs = ['/usr/local/lib']\n",
            "lapack_opt_info:\n",
            "    libraries = ['openblas', 'openblas']\n",
            "    library_dirs = ['/usr/local/lib']\n",
            "    language = c\n",
            "    define_macros = [('HAVE_CBLAS', None)]\n",
            "    runtime_library_dirs = ['/usr/local/lib']\n",
            "Supported SIMD extensions in this NumPy install:\n",
            "    baseline = SSE,SSE2,SSE3\n",
            "    found = SSSE3,SSE41,POPCNT,SSE42,AVX,F16C,FMA3,AVX2\n",
            "    not found = AVX512F,AVX512CD,AVX512_KNL,AVX512_KNM,AVX512_SKX,AVX512_CLX,AVX512_CNL,AVX512_ICL\n"
          ]
        }
      ],
      "source": [
        "print(np.__version__)\n",
        "np.show_config()"
      ]
    },
    {
      "cell_type": "markdown",
      "metadata": {
        "id": "pixDKM-KYqeM"
      },
      "source": [
        "#### 3. Create a null vector of size 10 (★☆☆) \n",
        "(**hint**: np.zeros)"
      ]
    },
    {
      "cell_type": "code",
      "execution_count": null,
      "metadata": {
        "id": "ZIen-Y--YqeN",
        "outputId": "d467d229-7e64-4c27-aa56-aea7a186bf0c",
        "colab": {
          "base_uri": "https://localhost:8080/"
        }
      },
      "outputs": [
        {
          "output_type": "stream",
          "name": "stdout",
          "text": [
            "[0. 0. 0. 0. 0. 0. 0. 0. 0. 0.]\n"
          ]
        }
      ],
      "source": [
        "a = np.zeros(10)\n",
        "print(a)"
      ]
    },
    {
      "cell_type": "markdown",
      "metadata": {
        "id": "20nl-jAZYqeO"
      },
      "source": [
        "#### 4.  How to find the memory size of any array (★☆☆) \n",
        "(**hint**: size, itemsize)"
      ]
    },
    {
      "cell_type": "code",
      "execution_count": null,
      "metadata": {
        "id": "9_IoYhXGYqeO",
        "colab": {
          "base_uri": "https://localhost:8080/"
        },
        "outputId": "e7c52b7b-bc23-42a4-b1b7-c6fd10cc278d"
      },
      "outputs": [
        {
          "output_type": "execute_result",
          "data": {
            "text/plain": [
              "7"
            ]
          },
          "metadata": {},
          "execution_count": 3
        }
      ],
      "source": [
        "my_data = np.array([1,2,3,4,5,6,7])\n",
        "np.size(my_data)"
      ]
    },
    {
      "cell_type": "markdown",
      "metadata": {
        "id": "rUEvUQHeYqeQ"
      },
      "source": [
        "#### 5.  How to get the documentation of the numpy add function from the command line? (★☆☆) \n",
        "(**hint**: np.info)"
      ]
    },
    {
      "cell_type": "code",
      "execution_count": null,
      "metadata": {
        "collapsed": true,
        "id": "hDL-VejjYqeQ",
        "outputId": "8e6904bf-6ccf-4b23-b033-80e735cdb9b3",
        "colab": {
          "base_uri": "https://localhost:8080/"
        }
      },
      "outputs": [
        {
          "output_type": "stream",
          "name": "stdout",
          "text": [
            "add(x1, x2, /, out=None, *, where=True, casting='same_kind', order='K', dtype=None, subok=True[, signature, extobj])\n",
            "\n",
            "Add arguments element-wise.\n",
            "\n",
            "Parameters\n",
            "----------\n",
            "x1, x2 : array_like\n",
            "    The arrays to be added.\n",
            "    If ``x1.shape != x2.shape``, they must be broadcastable to a common\n",
            "    shape (which becomes the shape of the output).\n",
            "out : ndarray, None, or tuple of ndarray and None, optional\n",
            "    A location into which the result is stored. If provided, it must have\n",
            "    a shape that the inputs broadcast to. If not provided or None,\n",
            "    a freshly-allocated array is returned. A tuple (possible only as a\n",
            "    keyword argument) must have length equal to the number of outputs.\n",
            "where : array_like, optional\n",
            "    This condition is broadcast over the input. At locations where the\n",
            "    condition is True, the `out` array will be set to the ufunc result.\n",
            "    Elsewhere, the `out` array will retain its original value.\n",
            "    Note that if an uninitialized `out` array is created via the default\n",
            "    ``out=None``, locations within it where the condition is False will\n",
            "    remain uninitialized.\n",
            "**kwargs\n",
            "    For other keyword-only arguments, see the\n",
            "    :ref:`ufunc docs <ufuncs.kwargs>`.\n",
            "\n",
            "Returns\n",
            "-------\n",
            "add : ndarray or scalar\n",
            "    The sum of `x1` and `x2`, element-wise.\n",
            "    This is a scalar if both `x1` and `x2` are scalars.\n",
            "\n",
            "Notes\n",
            "-----\n",
            "Equivalent to `x1` + `x2` in terms of array broadcasting.\n",
            "\n",
            "Examples\n",
            "--------\n",
            ">>> np.add(1.0, 4.0)\n",
            "5.0\n",
            ">>> x1 = np.arange(9.0).reshape((3, 3))\n",
            ">>> x2 = np.arange(3.0)\n",
            ">>> np.add(x1, x2)\n",
            "array([[  0.,   2.,   4.],\n",
            "       [  3.,   5.,   7.],\n",
            "       [  6.,   8.,  10.]])\n",
            "\n",
            "The ``+`` operator can be used as a shorthand for ``np.add`` on ndarrays.\n",
            "\n",
            ">>> x1 = np.arange(9.0).reshape((3, 3))\n",
            ">>> x2 = np.arange(3.0)\n",
            ">>> x1 + x2\n",
            "array([[ 0.,  2.,  4.],\n",
            "       [ 3.,  5.,  7.],\n",
            "       [ 6.,  8., 10.]])\n"
          ]
        }
      ],
      "source": [
        "np.info(np.add)"
      ]
    },
    {
      "cell_type": "markdown",
      "metadata": {
        "id": "w2aB0ltQYqeR"
      },
      "source": [
        "#### 6.  Create a null vector of size 10 but the fifth value which is 1 (★☆☆) \n",
        "(**hint**: array\\[4\\])"
      ]
    },
    {
      "cell_type": "code",
      "execution_count": null,
      "metadata": {
        "id": "bdOW3otDYqeR",
        "outputId": "52d22dd2-e195-457b-d07f-05f5042b7107",
        "colab": {
          "base_uri": "https://localhost:8080/"
        }
      },
      "outputs": [
        {
          "output_type": "stream",
          "name": "stdout",
          "text": [
            "[0. 0. 0. 0. 1. 0. 0. 0. 0. 0.]\n"
          ]
        }
      ],
      "source": [
        "b = np.zeros(10)\n",
        "b[4]=1\n",
        "print(b)"
      ]
    },
    {
      "cell_type": "markdown",
      "metadata": {
        "id": "o6L5CL4HYqeS"
      },
      "source": [
        "#### 7.  Create a vector with values ranging from 10 to 49 (★☆☆) \n",
        "(**hint**: np.arange)"
      ]
    },
    {
      "cell_type": "code",
      "execution_count": null,
      "metadata": {
        "id": "6Zb5dwbrYqeT",
        "outputId": "244446f5-438d-42b9-feb6-96b7e27ecc40",
        "colab": {
          "base_uri": "https://localhost:8080/"
        }
      },
      "outputs": [
        {
          "output_type": "stream",
          "name": "stdout",
          "text": [
            "[10 11 12 13 14 15 16 17 18 19 20 21 22 23 24 25 26 27 28 29 30 31 32 33\n",
            " 34 35 36 37 38 39 40 41 42 43 44 45 46 47 48 49]\n"
          ]
        }
      ],
      "source": [
        "c = np.arange(10,50)\n",
        "print(c)"
      ]
    },
    {
      "cell_type": "markdown",
      "metadata": {
        "id": "XV0P8zIaYqeT"
      },
      "source": [
        "#### 8.  Reverse a vector (first element becomes last) (★☆☆) \n",
        "(**hint**: array\\[::-1\\])"
      ]
    },
    {
      "cell_type": "code",
      "execution_count": null,
      "metadata": {
        "id": "kGbQovTmYqeU",
        "outputId": "bc71a105-3afa-403e-a141-f48f947145be",
        "colab": {
          "base_uri": "https://localhost:8080/"
        }
      },
      "outputs": [
        {
          "output_type": "stream",
          "name": "stdout",
          "text": [
            "[19 18 17 16 15 14 13 12 11 10  9  8  7  6  5  4  3  2  1  0]\n"
          ]
        }
      ],
      "source": [
        "d = np.arange(20)\n",
        "d = d[::-1]\n",
        "print(d)"
      ]
    },
    {
      "cell_type": "markdown",
      "metadata": {
        "id": "FJHBszynYqeU"
      },
      "source": [
        "#### 9.  Create a 3x3 matrix with values ranging from 0 to 8 (★☆☆) \n",
        "(**hint**: reshape)"
      ]
    },
    {
      "cell_type": "code",
      "execution_count": null,
      "metadata": {
        "id": "hWoAcV6eYqeU",
        "outputId": "c7295045-03a7-421a-b279-fe0a3ddafb15",
        "colab": {
          "base_uri": "https://localhost:8080/"
        }
      },
      "outputs": [
        {
          "output_type": "stream",
          "name": "stdout",
          "text": [
            "[[0 1 2]\n",
            " [3 4 5]\n",
            " [6 7 8]]\n"
          ]
        }
      ],
      "source": [
        "e = np.arange(9).reshape(3,3)\n",
        "print(e)"
      ]
    },
    {
      "cell_type": "markdown",
      "metadata": {
        "id": "hTKDTQ_vYqeV"
      },
      "source": [
        "#### 10. Find indices of non-zero elements from \\[1,2,0,0,4,0\\] (★☆☆) \n",
        "(**hint**: np.nonzero)"
      ]
    },
    {
      "cell_type": "code",
      "execution_count": null,
      "metadata": {
        "id": "Gg9PTqfKYqeX",
        "outputId": "26faaf4a-aa56-44b2-cac4-01d355b5a3c4",
        "colab": {
          "base_uri": "https://localhost:8080/"
        }
      },
      "outputs": [
        {
          "output_type": "stream",
          "name": "stdout",
          "text": [
            "(array([0, 1, 4]),)\n"
          ]
        }
      ],
      "source": [
        "non_zero = np.nonzero([1,2,0,0,4,0])\n",
        "print(non_zero)"
      ]
    },
    {
      "cell_type": "markdown",
      "metadata": {
        "id": "IBoomguHYqeY"
      },
      "source": [
        "#### 11. Create a 3x3 identity matrix (★☆☆) \n",
        "(**hint**: np.eye)"
      ]
    },
    {
      "cell_type": "code",
      "execution_count": null,
      "metadata": {
        "id": "vu6WQL3eYqeY",
        "outputId": "40e96b34-38c4-49eb-eb3b-45c60d2912db",
        "colab": {
          "base_uri": "https://localhost:8080/"
        }
      },
      "outputs": [
        {
          "output_type": "stream",
          "name": "stdout",
          "text": [
            "[[1. 0. 0.]\n",
            " [0. 1. 0.]\n",
            " [0. 0. 1.]]\n"
          ]
        }
      ],
      "source": [
        "f = np.eye(3)\n",
        "print(f)"
      ]
    },
    {
      "cell_type": "markdown",
      "metadata": {
        "id": "tb0HGE2gYqeY"
      },
      "source": [
        "#### 12. Create a 3x3x3 array with random values (★☆☆) \n",
        "(**hint**: np.random.random)"
      ]
    },
    {
      "cell_type": "code",
      "execution_count": null,
      "metadata": {
        "collapsed": true,
        "id": "4WS1LcT2YqeZ",
        "outputId": "1a417cde-3a60-4eb6-bb32-36f6b5db1d74",
        "colab": {
          "base_uri": "https://localhost:8080/"
        }
      },
      "outputs": [
        {
          "output_type": "stream",
          "name": "stdout",
          "text": [
            "[[[0.53548888 0.21961543 0.42337513]\n",
            "  [0.59008418 0.40453362 0.16750286]\n",
            "  [0.58700599 0.87328492 0.56332174]]\n",
            "\n",
            " [[0.32641015 0.31405926 0.45787865]\n",
            "  [0.79989476 0.78548379 0.4155725 ]\n",
            "  [0.80391093 0.30585522 0.48790527]]\n",
            "\n",
            " [[0.4726368  0.81237115 0.49117122]\n",
            "  [0.95166407 0.58739349 0.16784503]\n",
            "  [0.73148316 0.6207542  0.32053702]]]\n"
          ]
        }
      ],
      "source": [
        "g = np.random.random((3,3,3))\n",
        "print(g)"
      ]
    },
    {
      "cell_type": "markdown",
      "metadata": {
        "id": "9uZPvVmyYqea"
      },
      "source": [
        "#### 13. Create a 10x10 array with random values and find the minimum and maximum values (★☆☆) \n",
        "(**hint**: min, max)"
      ]
    },
    {
      "cell_type": "code",
      "execution_count": null,
      "metadata": {
        "id": "6_T5jMI4Yqea",
        "outputId": "e0acd07f-45e2-4e44-b99e-903d682a8ae4",
        "colab": {
          "base_uri": "https://localhost:8080/"
        }
      },
      "outputs": [
        {
          "output_type": "stream",
          "name": "stdout",
          "text": [
            "0.0007923170130764712 0.9962637241189543\n"
          ]
        }
      ],
      "source": [
        "h = np.random.random((10,10))\n",
        "hmin = h.min()\n",
        "hmax = h.max()\n",
        "print(hmin, hmax)"
      ]
    },
    {
      "cell_type": "markdown",
      "metadata": {
        "id": "kqALzPz3Yqea"
      },
      "source": [
        "#### 14. Create a random vector of size 30 and find the mean value (★☆☆) \n",
        "(**hint**: mean)"
      ]
    },
    {
      "cell_type": "code",
      "execution_count": null,
      "metadata": {
        "id": "DjVmicy2Yqeb",
        "outputId": "d236c008-891b-4943-b585-bc46ce7c6f0f",
        "colab": {
          "base_uri": "https://localhost:8080/"
        }
      },
      "outputs": [
        {
          "output_type": "stream",
          "name": "stdout",
          "text": [
            "0.4186437040152827\n"
          ]
        }
      ],
      "source": [
        "k = np.random.random(30)\n",
        "kmean = k.mean()\n",
        "print(kmean)"
      ]
    },
    {
      "cell_type": "markdown",
      "metadata": {
        "id": "WiYaMx-KYqec"
      },
      "source": [
        "#### 15. Create a 2d array with 1 on the border and 0 inside (★☆☆) \n",
        "(**hint**: array\\[1:-1, 1:-1\\])"
      ]
    },
    {
      "cell_type": "code",
      "execution_count": null,
      "metadata": {
        "id": "klCDP8TaYqec",
        "outputId": "7a500942-c989-470d-f798-8fe7d9fdb3a2",
        "colab": {
          "base_uri": "https://localhost:8080/"
        }
      },
      "outputs": [
        {
          "output_type": "stream",
          "name": "stdout",
          "text": [
            "[[1. 1. 1. 1. 1.]\n",
            " [1. 0. 0. 0. 1.]\n",
            " [1. 0. 0. 0. 1.]\n",
            " [1. 0. 0. 0. 1.]\n",
            " [1. 1. 1. 1. 1.]]\n"
          ]
        }
      ],
      "source": [
        "l = np.ones((5,5))\n",
        "l[1:-1, 1:-1]=0\n",
        "print(l)"
      ]
    },
    {
      "cell_type": "markdown",
      "metadata": {
        "id": "d4Rce1bnYqec"
      },
      "source": [
        "#### 16. How to add a border (filled with 0's) around an existing array? (★☆☆) \n",
        "(**hint**: np.pad)"
      ]
    },
    {
      "cell_type": "code",
      "execution_count": 79,
      "metadata": {
        "id": "khIrk_RqYqed",
        "colab": {
          "base_uri": "https://localhost:8080/"
        },
        "outputId": "386e4b30-6067-4cef-835f-0911d8802c10"
      },
      "outputs": [
        {
          "output_type": "stream",
          "name": "stdout",
          "text": [
            "[[0. 0. 0. 0. 0.]\n",
            " [0. 1. 1. 1. 0.]\n",
            " [0. 1. 1. 1. 0.]\n",
            " [0. 1. 1. 1. 0.]\n",
            " [0. 0. 0. 0. 0.]]\n"
          ]
        }
      ],
      "source": [
        "x = np.ones((3,3))\n",
        "x = np.pad(x, pad_width=1, mode='constant', constant_values=0)\n",
        "print(x)"
      ]
    },
    {
      "cell_type": "markdown",
      "metadata": {
        "id": "x5dIadh4Yqed"
      },
      "source": [
        "#### 17. What is the result of the following expression? (★☆☆) \n",
        "(**hint**: NaN = not a number, inf = infinity)"
      ]
    },
    {
      "cell_type": "markdown",
      "metadata": {
        "id": "IcBhou80Yqed"
      },
      "source": [
        "```python\n",
        "0 * np.nan\n",
        "np.nan == np.nan\n",
        "np.inf > np.nan\n",
        "np.nan - np.nan\n",
        "0.3 == 3 * 0.1\n",
        "```"
      ]
    },
    {
      "cell_type": "code",
      "execution_count": 81,
      "metadata": {
        "id": "zMXGeganYqee",
        "colab": {
          "base_uri": "https://localhost:8080/"
        },
        "outputId": "3afbd8e2-c49c-4c9c-af0e-df247f3a82b5"
      },
      "outputs": [
        {
          "output_type": "stream",
          "name": "stdout",
          "text": [
            "nan\n",
            "False\n",
            "False\n",
            "nan\n",
            "False\n"
          ]
        }
      ],
      "source": [
        "print(0 * np.nan)\n",
        "print(np.nan == np.nan)\n",
        "print(np.inf > np.nan)\n",
        "print(np.nan - np.nan)\n",
        "print(0.3 == 3 * 0.1)"
      ]
    },
    {
      "cell_type": "markdown",
      "metadata": {
        "id": "oDUSI9WDYqee"
      },
      "source": [
        "#### 18. Create a 5x5 matrix with values 1,2,3,4 just below the diagonal (★☆☆) \n",
        "(**hint**: np.diag)"
      ]
    },
    {
      "cell_type": "code",
      "execution_count": null,
      "metadata": {
        "id": "8Mrt5HAcYqef",
        "outputId": "3c33d018-296a-4610-d565-85e169f1cced",
        "colab": {
          "base_uri": "https://localhost:8080/"
        }
      },
      "outputs": [
        {
          "output_type": "stream",
          "name": "stdout",
          "text": [
            "[[0 0 0 0 0]\n",
            " [1 0 0 0 0]\n",
            " [0 2 0 0 0]\n",
            " [0 0 3 0 0]\n",
            " [0 0 0 4 0]]\n"
          ]
        }
      ],
      "source": [
        "m = np.diag(1 + np.arange(4),k=-1)\n",
        "print(m)"
      ]
    },
    {
      "cell_type": "markdown",
      "metadata": {
        "id": "JbFLszKHYqef"
      },
      "source": [
        "#### 19. Create a 8x8 matrix and fill it with a checkerboard pattern (★☆☆) \n",
        "(**hint**: array\\[::2\\])"
      ]
    },
    {
      "cell_type": "code",
      "execution_count": null,
      "metadata": {
        "id": "-7jjnwUUYqef",
        "outputId": "e2049682-a7f3-4f97-8904-7c4f21453291",
        "colab": {
          "base_uri": "https://localhost:8080/"
        }
      },
      "outputs": [
        {
          "output_type": "stream",
          "name": "stdout",
          "text": [
            "[[0 1 0 1 0 1 0 1]\n",
            " [1 0 1 0 1 0 1 0]\n",
            " [0 1 0 1 0 1 0 1]\n",
            " [1 0 1 0 1 0 1 0]\n",
            " [0 1 0 1 0 1 0 1]\n",
            " [1 0 1 0 1 0 1 0]\n",
            " [0 1 0 1 0 1 0 1]\n",
            " [1 0 1 0 1 0 1 0]]\n"
          ]
        }
      ],
      "source": [
        "n = np.zeros((8,8),dtype=int)\n",
        "n[1::2,::2] = 1\n",
        "n[::2,1::2] = 1\n",
        "print(n)"
      ]
    },
    {
      "cell_type": "markdown",
      "metadata": {
        "id": "ZiL-KLDwYqef"
      },
      "source": [
        "#### 20. Consider a (6,7,8) shape array, what is the index (x,y,z) of the 100th element? \n",
        "(**hint**: np.unravel_index)"
      ]
    },
    {
      "cell_type": "code",
      "execution_count": null,
      "metadata": {
        "id": "gPXpOey9Yqeg",
        "outputId": "7f78cf14-a924-4ee3-e70c-8a2cc592def1",
        "colab": {
          "base_uri": "https://localhost:8080/"
        }
      },
      "outputs": [
        {
          "output_type": "stream",
          "name": "stdout",
          "text": [
            "(1, 5, 4)\n"
          ]
        }
      ],
      "source": [
        "p = np.unravel_index(100, (6,7,8))\n",
        "print(p)"
      ]
    },
    {
      "cell_type": "markdown",
      "metadata": {
        "id": "Hk1O3nlNYqeg"
      },
      "source": [
        "#### 21. Create a checkerboard 8x8 matrix using the tile function (★☆☆) \n",
        "(**hint**: np.tile)"
      ]
    },
    {
      "cell_type": "code",
      "execution_count": null,
      "metadata": {
        "id": "O7azCzUqYqeg",
        "outputId": "d84bcd77-32e5-41f3-c3e2-d3336aa97944",
        "colab": {
          "base_uri": "https://localhost:8080/"
        }
      },
      "outputs": [
        {
          "output_type": "stream",
          "name": "stdout",
          "text": [
            "[[0 1 0 1 0 1 0 1]\n",
            " [1 0 1 0 1 0 1 0]\n",
            " [0 1 0 1 0 1 0 1]\n",
            " [1 0 1 0 1 0 1 0]\n",
            " [0 1 0 1 0 1 0 1]\n",
            " [1 0 1 0 1 0 1 0]\n",
            " [0 1 0 1 0 1 0 1]\n",
            " [1 0 1 0 1 0 1 0]]\n"
          ]
        }
      ],
      "source": [
        "q = np.tile(np.array([[0,1],[1,0]]), (4,4))\n",
        "print(q)"
      ]
    },
    {
      "cell_type": "markdown",
      "metadata": {
        "id": "ePBwZYhGYqeg"
      },
      "source": [
        "#### 22. Normalize a 5x5 random matrix (★☆☆) \n",
        "(**hint**: (x - min) / (max - min))"
      ]
    },
    {
      "cell_type": "code",
      "execution_count": null,
      "metadata": {
        "id": "nMcndMIGYqeh",
        "colab": {
          "base_uri": "https://localhost:8080/"
        },
        "outputId": "667af0ca-112e-4842-9cbe-09b3f8fbe89e"
      },
      "outputs": [
        {
          "output_type": "stream",
          "name": "stdout",
          "text": [
            "[[0.38620348 0.04330015 0.00485454 0.45431698 0.32069393]\n",
            " [0.03490943 0.38903628 0.00159338 0.89813599 0.57393654]\n",
            " [0.82513676 1.         0.68886328 0.31341288 0.46481091]\n",
            " [0.12037496 0.77883079 0.         0.72096585 0.25266793]\n",
            " [0.1177594  0.71000739 0.28697571 0.97529902 0.92322179]]\n"
          ]
        }
      ],
      "source": [
        "r = np.random.random((5,5))\n",
        "rmax, rmin = r.max(), r.min()\n",
        "r = (r - rmin)/(rmax - rmin)\n",
        "print(r)"
      ]
    },
    {
      "cell_type": "markdown",
      "metadata": {
        "id": "435Rk1rMYqeh"
      },
      "source": [
        "#### 23. Create a custom dtype that describes a color as four unsigned bytes (RGBA) (★☆☆) \n",
        "(**hint**: np.dtype)"
      ]
    },
    {
      "cell_type": "code",
      "execution_count": null,
      "metadata": {
        "collapsed": true,
        "id": "kd5F05X-Yqeh",
        "colab": {
          "base_uri": "https://localhost:8080/"
        },
        "outputId": "02418686-bffe-4ac5-ab92-e667793f06d7"
      },
      "outputs": [
        {
          "output_type": "stream",
          "name": "stderr",
          "text": [
            "<ipython-input-4-b9f1a6f5df9c>:1: FutureWarning: Passing (type, 1) or '1type' as a synonym of type is deprecated; in a future version of numpy, it will be understood as (type, (1,)) / '(1,)type'.\n",
            "  color = np.dtype([(\"r\", np.ubyte, 1),\n"
          ]
        }
      ],
      "source": [
        "color = np.dtype([(\"r\", np.ubyte, 1),\n",
        "                  (\"g\", np.ubyte, 1),\n",
        "                  (\"b\", np.ubyte, 1),\n",
        "                  (\"a\", np.ubyte, 1)])"
      ]
    },
    {
      "cell_type": "markdown",
      "metadata": {
        "id": "EhTd158EYqei"
      },
      "source": [
        "#### 24. Multiply a 5x3 matrix by a 3x2 matrix (real matrix product) (★☆☆) \n",
        "(**hint**: np.dot | @)"
      ]
    },
    {
      "cell_type": "code",
      "execution_count": null,
      "metadata": {
        "id": "wShtiWVHYqei",
        "colab": {
          "base_uri": "https://localhost:8080/"
        },
        "outputId": "e735fa89-c2cc-4254-d0e7-469414fdbdfe"
      },
      "outputs": [
        {
          "output_type": "stream",
          "name": "stdout",
          "text": [
            "[[3. 3.]\n",
            " [3. 3.]\n",
            " [3. 3.]\n",
            " [3. 3.]\n",
            " [3. 3.]]\n"
          ]
        }
      ],
      "source": [
        "s = np.dot(np.ones((5,3)), np.ones((3,2)))\n",
        "print(s)"
      ]
    },
    {
      "cell_type": "markdown",
      "metadata": {
        "id": "DFUjMVkNYqei"
      },
      "source": [
        "#### 25. Given a 1D array, negate all elements which are between 3 and 8, in place. (★☆☆) \n",
        "(**hint**: >, <=)"
      ]
    },
    {
      "cell_type": "code",
      "execution_count": null,
      "metadata": {
        "id": "AVYi8JPqYqei"
      },
      "outputs": [],
      "source": [
        "t = np.arange(11)\n",
        "t[(3 < t) & (t <= 8)] *= -1"
      ]
    },
    {
      "cell_type": "markdown",
      "metadata": {
        "id": "cQ4VsBqXYqej"
      },
      "source": [
        "#### 26. What is the output of the following script? (★☆☆) \n",
        "(**hint**: np.sum)"
      ]
    },
    {
      "cell_type": "markdown",
      "metadata": {
        "id": "9P_Ecl8JYqej"
      },
      "source": [
        "```python\n",
        "# Author: Jake VanderPlas\n",
        "\n",
        "print(sum(range(5),-1))\n",
        "from numpy import *\n",
        "print(sum(range(5),-1))\n",
        "```"
      ]
    },
    {
      "cell_type": "code",
      "execution_count": 83,
      "metadata": {
        "id": "3W07IKSuYqek",
        "colab": {
          "base_uri": "https://localhost:8080/"
        },
        "outputId": "3874ec66-edec-48c7-e0fc-56ff41ba0ef6"
      },
      "outputs": [
        {
          "output_type": "stream",
          "name": "stdout",
          "text": [
            "10\n"
          ]
        }
      ],
      "source": [
        "\n",
        "print(sum(range(5),-1))"
      ]
    },
    {
      "cell_type": "markdown",
      "metadata": {
        "id": "waVbI95XYqek"
      },
      "source": [
        "#### 27. Consider an integer vector Z, which of these expressions are legal? (★☆☆)"
      ]
    },
    {
      "cell_type": "markdown",
      "metadata": {
        "id": "89gp8GwjYqek"
      },
      "source": [
        "```python\n",
        "Z**Z\n",
        "2 << Z >> 2\n",
        "Z <- Z\n",
        "1j*Z\n",
        "Z/1/1\n",
        "Z<Z>Z\n",
        "```"
      ]
    },
    {
      "cell_type": "code",
      "execution_count": 88,
      "metadata": {
        "id": "h5iSGWDZYqel",
        "colab": {
          "base_uri": "https://localhost:8080/"
        },
        "outputId": "9eae740d-80fe-4756-c819-0b7b8891dd3f"
      },
      "outputs": [
        {
          "output_type": "stream",
          "name": "stdout",
          "text": [
            "[[1 1 1]\n",
            " [1 1 1]\n",
            " [1 1 1]\n",
            " [1 1 1]\n",
            " [1 1 1]\n",
            " [1 1 1]]\n"
          ]
        }
      ],
      "source": [
        "z = np.array([1,2,3,4,5,6])\n",
        "print(Z**Z)\n"
      ]
    },
    {
      "cell_type": "code",
      "source": [
        "z = np.array([1,2,3,4,5,6])\n",
        "print(2 << Z >> 2)"
      ],
      "metadata": {
        "colab": {
          "base_uri": "https://localhost:8080/"
        },
        "id": "bz9TWsy5ymEA",
        "outputId": "10f130b6-ffc2-4e7a-c40f-65fe277002fd"
      },
      "execution_count": 89,
      "outputs": [
        {
          "output_type": "stream",
          "name": "stdout",
          "text": [
            "[[0 0 0]\n",
            " [1 0 0]\n",
            " [0 0 0]\n",
            " [0 0 0]\n",
            " [1 0 0]\n",
            " [0 1 1]]\n"
          ]
        }
      ]
    },
    {
      "cell_type": "code",
      "source": [
        "z = np.array([1,2,3,4,5,6])\n",
        "print(Z <- Z)\n"
      ],
      "metadata": {
        "colab": {
          "base_uri": "https://localhost:8080/"
        },
        "id": "mDLvpgH-ymkE",
        "outputId": "8fcdc9c3-52ce-40e8-f2a5-5019f8572e83"
      },
      "execution_count": 90,
      "outputs": [
        {
          "output_type": "stream",
          "name": "stdout",
          "text": [
            "[[False False False]\n",
            " [False False False]\n",
            " [False False False]\n",
            " [False False False]\n",
            " [False False False]\n",
            " [False False False]]\n"
          ]
        }
      ]
    },
    {
      "cell_type": "code",
      "source": [
        "z = np.array([1,2,3,4,5,6])\n",
        "print(1j*Z)"
      ],
      "metadata": {
        "colab": {
          "base_uri": "https://localhost:8080/"
        },
        "id": "6NVGgfTVynK-",
        "outputId": "0ce182e4-31f2-4547-d941-21f30b8c9c1c"
      },
      "execution_count": 91,
      "outputs": [
        {
          "output_type": "stream",
          "name": "stdout",
          "text": [
            "[[0.+0.j 0.+0.j 0.+0.j]\n",
            " [0.+1.j 0.+0.j 0.+0.j]\n",
            " [0.+0.j 0.+0.j 0.+0.j]\n",
            " [0.+0.j 0.+0.j 0.+0.j]\n",
            " [0.+1.j 0.+0.j 0.+0.j]\n",
            " [0.+0.j 0.+1.j 0.+1.j]]\n"
          ]
        }
      ]
    },
    {
      "cell_type": "code",
      "source": [
        "z = np.array([1,2,3,4,5,6])\n",
        "print(Z/1/1)"
      ],
      "metadata": {
        "colab": {
          "base_uri": "https://localhost:8080/"
        },
        "id": "TJgjtNCTyn1U",
        "outputId": "c63b4798-5342-445e-95d7-3380a41ca4ed"
      },
      "execution_count": 92,
      "outputs": [
        {
          "output_type": "stream",
          "name": "stdout",
          "text": [
            "[[0. 0. 0.]\n",
            " [1. 0. 0.]\n",
            " [0. 0. 0.]\n",
            " [0. 0. 0.]\n",
            " [1. 0. 0.]\n",
            " [0. 1. 1.]]\n"
          ]
        }
      ]
    },
    {
      "cell_type": "code",
      "source": [
        "z = np.array([1,2,3,4,5,6])\n",
        "print(Z<Z>Z)"
      ],
      "metadata": {
        "colab": {
          "base_uri": "https://localhost:8080/",
          "height": 183
        },
        "id": "ortm_iG0y8MB",
        "outputId": "1beb049d-1843-492b-e299-8f053058396f"
      },
      "execution_count": 93,
      "outputs": [
        {
          "output_type": "error",
          "ename": "ValueError",
          "evalue": "ignored",
          "traceback": [
            "\u001b[0;31m---------------------------------------------------------------------------\u001b[0m",
            "\u001b[0;31mValueError\u001b[0m                                Traceback (most recent call last)",
            "\u001b[0;32m<ipython-input-93-37eaa7c73d37>\u001b[0m in \u001b[0;36m<module>\u001b[0;34m\u001b[0m\n\u001b[1;32m      1\u001b[0m \u001b[0mz\u001b[0m \u001b[0;34m=\u001b[0m \u001b[0mnp\u001b[0m\u001b[0;34m.\u001b[0m\u001b[0marray\u001b[0m\u001b[0;34m(\u001b[0m\u001b[0;34m[\u001b[0m\u001b[0;36m1\u001b[0m\u001b[0;34m,\u001b[0m\u001b[0;36m2\u001b[0m\u001b[0;34m,\u001b[0m\u001b[0;36m3\u001b[0m\u001b[0;34m,\u001b[0m\u001b[0;36m4\u001b[0m\u001b[0;34m,\u001b[0m\u001b[0;36m5\u001b[0m\u001b[0;34m,\u001b[0m\u001b[0;36m6\u001b[0m\u001b[0;34m]\u001b[0m\u001b[0;34m)\u001b[0m\u001b[0;34m\u001b[0m\u001b[0;34m\u001b[0m\u001b[0m\n\u001b[0;32m----> 2\u001b[0;31m \u001b[0mprint\u001b[0m\u001b[0;34m(\u001b[0m\u001b[0mZ\u001b[0m\u001b[0;34m<\u001b[0m\u001b[0mZ\u001b[0m\u001b[0;34m>\u001b[0m\u001b[0mZ\u001b[0m\u001b[0;34m)\u001b[0m\u001b[0;34m\u001b[0m\u001b[0;34m\u001b[0m\u001b[0m\n\u001b[0m",
            "\u001b[0;31mValueError\u001b[0m: The truth value of an array with more than one element is ambiguous. Use a.any() or a.all()"
          ]
        }
      ]
    },
    {
      "cell_type": "markdown",
      "metadata": {
        "id": "znd00ZBAYqel"
      },
      "source": [
        "#### 28. What are the result of the following expressions?"
      ]
    },
    {
      "cell_type": "markdown",
      "metadata": {
        "id": "GRFvV-djYqel"
      },
      "source": [
        "```python\n",
        "np.array(0) / np.array(0)\n",
        "np.array(0) // np.array(0)\n",
        "np.array([np.nan]).astype(int).astype(float)\n",
        "```"
      ]
    },
    {
      "cell_type": "code",
      "execution_count": 94,
      "metadata": {
        "id": "a2xwYJ5XYqel",
        "colab": {
          "base_uri": "https://localhost:8080/"
        },
        "outputId": "7f76a151-f163-4a98-d3c6-39b65a908eb9"
      },
      "outputs": [
        {
          "output_type": "stream",
          "name": "stdout",
          "text": [
            "nan\n"
          ]
        },
        {
          "output_type": "stream",
          "name": "stderr",
          "text": [
            "<ipython-input-94-a69a51a14444>:1: RuntimeWarning: invalid value encountered in true_divide\n",
            "  print(np.array(0) / np.array(0))\n"
          ]
        }
      ],
      "source": [
        "print(np.array(0) / np.array(0))"
      ]
    },
    {
      "cell_type": "code",
      "source": [
        "print(np.array(0) // np.array(0))"
      ],
      "metadata": {
        "colab": {
          "base_uri": "https://localhost:8080/"
        },
        "id": "__xSf1yhwZTg",
        "outputId": "54bdda50-7374-474e-f77f-4db6868b88da"
      },
      "execution_count": 95,
      "outputs": [
        {
          "output_type": "stream",
          "name": "stdout",
          "text": [
            "0\n"
          ]
        },
        {
          "output_type": "stream",
          "name": "stderr",
          "text": [
            "<ipython-input-95-e29d1dbbd607>:1: RuntimeWarning: divide by zero encountered in floor_divide\n",
            "  print(np.array(0) // np.array(0))\n"
          ]
        }
      ]
    },
    {
      "cell_type": "code",
      "source": [
        "print(np.array([np.nan]).astype(int).astype(float))"
      ],
      "metadata": {
        "colab": {
          "base_uri": "https://localhost:8080/"
        },
        "id": "eMvQDKymwfcc",
        "outputId": "6b7e2dc2-d993-4a23-bc47-418b5d463a58"
      },
      "execution_count": 96,
      "outputs": [
        {
          "output_type": "stream",
          "name": "stdout",
          "text": [
            "[-9.22337204e+18]\n"
          ]
        }
      ]
    },
    {
      "cell_type": "markdown",
      "metadata": {
        "id": "hi43-sCpYqe2"
      },
      "source": [
        "#### 29. How to round away from zero a float array ? (★☆☆) \n",
        "(**hint**: np.uniform, np.copysign, np.ceil, np.abs)"
      ]
    },
    {
      "cell_type": "code",
      "source": [
        "u= np.random.uniform(-10,+10,10)\n",
        "print(np.copysign(np.ceil(np.abs(u)), u))"
      ],
      "metadata": {
        "colab": {
          "base_uri": "https://localhost:8080/"
        },
        "id": "Zw9Ywfdlwdze",
        "outputId": "82859cec-a411-4b48-c6b0-6e8a76e1b412"
      },
      "execution_count": 4,
      "outputs": [
        {
          "output_type": "stream",
          "name": "stdout",
          "text": [
            "[-4. -3.  1.  5.  9.  3.  5. -6. -5. -9.]\n"
          ]
        }
      ]
    },
    {
      "cell_type": "code",
      "execution_count": null,
      "metadata": {
        "id": "h8SCkhP2Yqe4"
      },
      "outputs": [],
      "source": []
    },
    {
      "cell_type": "markdown",
      "metadata": {
        "id": "TkPbv_rFYqe4"
      },
      "source": [
        "#### 30. How to find common values between two arrays? (★☆☆) \n",
        "(**hint**: np.intersect1d)"
      ]
    },
    {
      "cell_type": "code",
      "execution_count": 97,
      "metadata": {
        "id": "xoqfZCpmYqe4",
        "colab": {
          "base_uri": "https://localhost:8080/"
        },
        "outputId": "9da12611-d6de-4eb7-91fe-9a11a8256ece"
      },
      "outputs": [
        {
          "output_type": "stream",
          "name": "stdout",
          "text": [
            "[2 7]\n"
          ]
        }
      ],
      "source": [
        "a = np.array([2, 4, 7, 1, 4])\n",
        "b = np.array([7, 2, 9, 0, 5])\n",
        "\n",
        "c = np.intersect1d(a, b)\n",
        "print(c)"
      ]
    },
    {
      "cell_type": "markdown",
      "metadata": {
        "id": "Kr8zwS1PYqe4"
      },
      "source": [
        "#### 31. How to ignore all numpy warnings (not recommended)? (★☆☆) \n",
        "(**hint**: np.seterr, np.errstate)"
      ]
    },
    {
      "cell_type": "code",
      "execution_count": 99,
      "metadata": {
        "id": "IZ2eRmGDYqe5",
        "colab": {
          "base_uri": "https://localhost:8080/"
        },
        "outputId": "30c1b9f4-1afc-4f3c-eb16-9c20e36d9841"
      },
      "outputs": [
        {
          "output_type": "stream",
          "name": "stdout",
          "text": [
            "[inf]\n"
          ]
        }
      ],
      "source": [
        "np.seterr(all=\"ignore\")\n",
        "Arr1 = np.array([1])\n",
        "Arr2 = np.array([0])\n",
        "result = Arr1 / Arr2\n",
        "print(result)"
      ]
    },
    {
      "cell_type": "markdown",
      "metadata": {
        "id": "xL6xTFP5Yqe5"
      },
      "source": [
        "#### 32. Is the following expressions true? (★☆☆) \n",
        "(**hint**: imaginary number)"
      ]
    },
    {
      "cell_type": "markdown",
      "metadata": {
        "id": "MduHMFPYYqe5"
      },
      "source": [
        "```python\n",
        "np.sqrt(-1) == np.emath.sqrt(-1)\n",
        "```"
      ]
    },
    {
      "cell_type": "code",
      "execution_count": 98,
      "metadata": {
        "id": "7PfgZqUQYqe5",
        "colab": {
          "base_uri": "https://localhost:8080/"
        },
        "outputId": "ce294daa-93b5-4a72-9be0-9cfbcba1fe55"
      },
      "outputs": [
        {
          "output_type": "stream",
          "name": "stdout",
          "text": [
            "False\n"
          ]
        },
        {
          "output_type": "stream",
          "name": "stderr",
          "text": [
            "<ipython-input-98-c6ff0ad7fd7b>:1: RuntimeWarning: invalid value encountered in sqrt\n",
            "  print(np.sqrt(-1) == np.emath.sqrt(-1))\n"
          ]
        }
      ],
      "source": [
        "print(np.sqrt(-1) == np.emath.sqrt(-1))"
      ]
    },
    {
      "cell_type": "markdown",
      "metadata": {
        "id": "YFycRfF3Yqe6"
      },
      "source": [
        "#### 33. How to get the dates of yesterday, today and tomorrow? (★☆☆) \n",
        "(**hint**: np.datetime64, np.timedelta64)"
      ]
    },
    {
      "cell_type": "code",
      "execution_count": 100,
      "metadata": {
        "collapsed": true,
        "id": "ZgEvAsmMYqe6",
        "colab": {
          "base_uri": "https://localhost:8080/"
        },
        "outputId": "800a64dc-965f-400b-f281-dbdfcfa31b13"
      },
      "outputs": [
        {
          "output_type": "stream",
          "name": "stdout",
          "text": [
            "Yesterday was =  20-01-2023\n",
            "Today is=  21-01-2023\n",
            "Tomorrow is =  22-01-2023\n"
          ]
        }
      ],
      "source": [
        "from datetime import datetime, timedelta\n",
        "\n",
        "present = datetime.now() \n",
        "  \n",
        "yesterday = present - timedelta(1)\n",
        "  \n",
        "tomorrow = present + timedelta(1)\n",
        "\n",
        "print(\"Yesterday was = \", yesterday.strftime('%d-%m-%Y'))\n",
        "print(\"Today is= \", present.strftime('%d-%m-%Y'))\n",
        "print(\"Tomorrow is = \", tomorrow.strftime('%d-%m-%Y'))"
      ]
    },
    {
      "cell_type": "markdown",
      "metadata": {
        "id": "S7A1I5amYqe6"
      },
      "source": [
        "#### 34. How to get all the dates corresponding to the month of July 2016? (★★☆) \n",
        "(**hint**: np.arange(dtype=datetime64\\['D'\\]))"
      ]
    },
    {
      "cell_type": "code",
      "execution_count": 106,
      "metadata": {
        "id": "uQfIfPHPYqe6",
        "colab": {
          "base_uri": "https://localhost:8080/"
        },
        "outputId": "f6742157-bf44-4c76-f21f-adf8f71a759b"
      },
      "outputs": [
        {
          "output_type": "stream",
          "name": "stdout",
          "text": [
            "['2016-07-01' '2016-07-02' '2016-07-03' '2016-07-04' '2016-07-05'\n",
            " '2016-07-06' '2016-07-07' '2016-07-08' '2016-07-09' '2016-07-10'\n",
            " '2016-07-11' '2016-07-12' '2016-07-13' '2016-07-14' '2016-07-15'\n",
            " '2016-07-16' '2016-07-17' '2016-07-18' '2016-07-19' '2016-07-20'\n",
            " '2016-07-21' '2016-07-22' '2016-07-23' '2016-07-24' '2016-07-25'\n",
            " '2016-07-26' '2016-07-27' '2016-07-28' '2016-07-29' '2016-07-30'\n",
            " '2016-07-31']\n"
          ]
        }
      ],
      "source": [
        "# dates of july  2020\n",
        "print(np.arange('2016-07','2016-08', dtype='datetime64[D]'))"
      ]
    },
    {
      "cell_type": "markdown",
      "metadata": {
        "id": "JgiObojUYqe7"
      },
      "source": [
        "#### 35. How to compute ((A+B)\\*(-A/2)) in place (without copy)? (★★☆) \n",
        "(**hint**: np.add(out=), np.negative(out=), np.multiply(out=), np.divide(out=))"
      ]
    },
    {
      "cell_type": "code",
      "execution_count": 107,
      "metadata": {
        "id": "9qxrLqP6Yqe7",
        "colab": {
          "base_uri": "https://localhost:8080/"
        },
        "outputId": "84a7dda8-16ef-4a6b-8a6a-cbc3679b91f0"
      },
      "outputs": [
        {
          "output_type": "stream",
          "name": "stdout",
          "text": [
            "[3. 3. 3.]\n",
            "[0.5 0.5 0.5]\n",
            "[-0.5 -0.5 -0.5]\n",
            "[-1.5 -1.5 -1.5]\n"
          ]
        }
      ],
      "source": [
        "A = np.ones(3)*1\n",
        "B = np.ones(3)*2\n",
        "print(np.add(A,B,out=B))\n",
        "print(np.divide(A,2,out=A))\n",
        "print(np.negative(A,out=A))\n",
        "print(np.multiply(A,B,out=A))"
      ]
    },
    {
      "cell_type": "markdown",
      "metadata": {
        "id": "oCUUEgaSYqe7"
      },
      "source": [
        "#### 36. Extract the integer part of a random array using 5 different methods (★★☆) \n",
        "(**hint**: %, np.floor, np.ceil, astype, np.trunc)"
      ]
    },
    {
      "cell_type": "code",
      "execution_count": null,
      "metadata": {
        "id": "EsWsLb61Yqe7",
        "colab": {
          "base_uri": "https://localhost:8080/"
        },
        "outputId": "a88eafd9-8539-4dc6-92dd-dbbca022609f"
      },
      "outputs": [
        {
          "output_type": "stream",
          "name": "stdout",
          "text": [
            "[6. 6. 6. 7. 2. 1. 8. 8. 3. 7.]\n",
            "[6. 6. 6. 7. 2. 1. 8. 8. 3. 7.]\n",
            "[6. 6. 6. 7. 2. 1. 8. 8. 3. 7.]\n",
            "[6 6 6 7 2 1 8 8 3 7]\n",
            "[6. 6. 6. 7. 2. 1. 8. 8. 3. 7.]\n"
          ]
        }
      ],
      "source": [
        "x = np.random.uniform(0,10,10)\n",
        "print (x - x%1)\n",
        "print (np.floor(x))\n",
        "print (np.ceil(x)-1)\n",
        "print (x.astype(int))\n",
        "print (np.trunc(x))"
      ]
    },
    {
      "cell_type": "markdown",
      "metadata": {
        "id": "WLU_MJ3mYqe7"
      },
      "source": [
        "#### 37. Create a 5x5 matrix with row values ranging from 0 to 4 (★★☆) \n",
        "(**hint**: np.arange)"
      ]
    },
    {
      "cell_type": "code",
      "execution_count": null,
      "metadata": {
        "id": "T6kuJrx-Yqe8",
        "colab": {
          "base_uri": "https://localhost:8080/"
        },
        "outputId": "927c906b-2bcd-4b32-88ec-47635d1401aa"
      },
      "outputs": [
        {
          "output_type": "stream",
          "name": "stdout",
          "text": [
            "[[0. 1. 2. 3. 4.]\n",
            " [0. 1. 2. 3. 4.]\n",
            " [0. 1. 2. 3. 4.]\n",
            " [0. 1. 2. 3. 4.]\n",
            " [0. 1. 2. 3. 4.]]\n"
          ]
        }
      ],
      "source": [
        "y = np.zeros((5,5))\n",
        "y += np.arange(5)\n",
        "print(y)"
      ]
    },
    {
      "cell_type": "markdown",
      "metadata": {
        "id": "mufM1_oqYqe8"
      },
      "source": [
        "#### 38. Consider a generator function that generates 10 integers and use it to build an array (★☆☆) \n",
        "(**hint**: np.fromiter)"
      ]
    },
    {
      "cell_type": "code",
      "execution_count": null,
      "metadata": {
        "id": "VNpSmLw5Yqe8",
        "colab": {
          "base_uri": "https://localhost:8080/"
        },
        "outputId": "622b9453-7e6e-4c37-89ea-a2e269d18f96"
      },
      "outputs": [
        {
          "output_type": "stream",
          "name": "stdout",
          "text": [
            "[0 1 2 3 4 5 6 7 8 9]\n"
          ]
        }
      ],
      "source": [
        "def generate():\n",
        "  for i in range(10):\n",
        "    yield i\n",
        "z = np.fromiter(generate(),dtype=int,count=-1)\n",
        "print(z)"
      ]
    },
    {
      "cell_type": "markdown",
      "metadata": {
        "id": "pIDQHeadYqe8"
      },
      "source": [
        "#### 39. Create a vector of size 10 with values ranging from 0 to 1, both excluded (★★☆) \n",
        "(**hint**: np.linspace)"
      ]
    },
    {
      "cell_type": "code",
      "execution_count": null,
      "metadata": {
        "id": "dF8AWckvYqe8",
        "colab": {
          "base_uri": "https://localhost:8080/"
        },
        "outputId": "150207af-c997-4d4f-8e7f-771451daf7d3"
      },
      "outputs": [
        {
          "output_type": "stream",
          "name": "stdout",
          "text": [
            "[0.09090909 0.18181818 0.27272727 0.36363636 0.45454545 0.54545455\n",
            " 0.63636364 0.72727273 0.81818182 0.90909091]\n"
          ]
        }
      ],
      "source": [
        "a = np.linspace(0,1,12,endpoint=True)[1:-1]\n",
        "print(a)"
      ]
    },
    {
      "cell_type": "markdown",
      "metadata": {
        "id": "A0Sej7VVYqe9"
      },
      "source": [
        "#### 40. Create a random vector of size 10 and sort it (★★☆) \n",
        "(**hint**: sort)"
      ]
    },
    {
      "cell_type": "code",
      "execution_count": null,
      "metadata": {
        "id": "E4BWPBTZYqe9",
        "colab": {
          "base_uri": "https://localhost:8080/"
        },
        "outputId": "05b86beb-e5bb-4cdf-c043-377aceceb0d5"
      },
      "outputs": [
        {
          "output_type": "stream",
          "name": "stdout",
          "text": [
            "[0.06874177 0.11823347 0.26913951 0.36060069 0.58551975 0.58880901\n",
            " 0.73527264 0.78672276 0.87603326 0.91127054]\n"
          ]
        }
      ],
      "source": [
        "b = np.random.random(10)\n",
        "b.sort()\n",
        "print(b)"
      ]
    },
    {
      "cell_type": "markdown",
      "metadata": {
        "id": "cmtYElqiYqe9"
      },
      "source": [
        "#### 41. How to sum a small array faster than np.sum? (★★☆) \n",
        "(**hint**: np.add.reduce)"
      ]
    },
    {
      "cell_type": "code",
      "execution_count": null,
      "metadata": {
        "id": "cyoAVp6LYqe-",
        "colab": {
          "base_uri": "https://localhost:8080/"
        },
        "outputId": "b5575d52-25ab-4a02-d107-b2a0d9c97f14"
      },
      "outputs": [
        {
          "output_type": "execute_result",
          "data": {
            "text/plain": [
              "45"
            ]
          },
          "metadata": {},
          "execution_count": 26
        }
      ],
      "source": [
        "c = np.arange(10)\n",
        "np.add.reduce(c)"
      ]
    },
    {
      "cell_type": "markdown",
      "metadata": {
        "id": "IqnTrgABYqe-"
      },
      "source": [
        "#### 42. Consider two random array A and B, check if they are equal (★★☆) \n",
        "(**hint**: np.allclose, np.array\\_equal)"
      ]
    },
    {
      "cell_type": "code",
      "execution_count": null,
      "metadata": {
        "id": "FnzOGhXNYqe-",
        "colab": {
          "base_uri": "https://localhost:8080/"
        },
        "outputId": "e5720682-b9d5-46c3-8427-97c2bb7564eb"
      },
      "outputs": [
        {
          "output_type": "stream",
          "name": "stdout",
          "text": [
            "False\n"
          ]
        }
      ],
      "source": [
        "d = np.random.randint(0,5,5)\n",
        "e = np.random.randint(0,5,5)\n",
        "equal = np.allclose(d,e)\n",
        "print(equal)\n"
      ]
    },
    {
      "cell_type": "markdown",
      "metadata": {
        "id": "MCOhGGaZYqe-"
      },
      "source": [
        "#### 43. Make an array immutable (read-only) (★★☆) \n",
        "(**hint**: flags.writeable)"
      ]
    },
    {
      "cell_type": "code",
      "execution_count": null,
      "metadata": {
        "id": "EH0Glrt1Yqe-"
      },
      "outputs": [],
      "source": [
        "f = np.zeros(10)\n",
        "f.flags.writeable = False\n"
      ]
    },
    {
      "cell_type": "code",
      "source": [
        "#checking if it is immutable\n",
        "f[0]=1"
      ],
      "metadata": {
        "colab": {
          "base_uri": "https://localhost:8080/",
          "height": 183
        },
        "id": "CirK8Wl02u7R",
        "outputId": "8af0dd8f-e939-43b2-af7b-df8f0a44ece0"
      },
      "execution_count": null,
      "outputs": [
        {
          "output_type": "error",
          "ename": "ValueError",
          "evalue": "ignored",
          "traceback": [
            "\u001b[0;31m---------------------------------------------------------------------------\u001b[0m",
            "\u001b[0;31mValueError\u001b[0m                                Traceback (most recent call last)",
            "\u001b[0;32m<ipython-input-31-e840fc25e30c>\u001b[0m in \u001b[0;36m<module>\u001b[0;34m\u001b[0m\n\u001b[1;32m      1\u001b[0m \u001b[0;31m#checking if it is immutable\u001b[0m\u001b[0;34m\u001b[0m\u001b[0;34m\u001b[0m\u001b[0;34m\u001b[0m\u001b[0m\n\u001b[0;32m----> 2\u001b[0;31m \u001b[0mf\u001b[0m\u001b[0;34m[\u001b[0m\u001b[0;36m0\u001b[0m\u001b[0;34m]\u001b[0m\u001b[0;34m=\u001b[0m\u001b[0;36m1\u001b[0m\u001b[0;34m\u001b[0m\u001b[0;34m\u001b[0m\u001b[0m\n\u001b[0m",
            "\u001b[0;31mValueError\u001b[0m: assignment destination is read-only"
          ]
        }
      ]
    },
    {
      "cell_type": "code",
      "source": [
        "#answer :  it is not immutable"
      ],
      "metadata": {
        "id": "hAcWbm5hcA9U"
      },
      "execution_count": null,
      "outputs": []
    },
    {
      "cell_type": "markdown",
      "metadata": {
        "id": "QIavjm8eYqe-"
      },
      "source": [
        "#### 44. Consider a random 10x2 matrix representing cartesian coordinates, convert them to polar coordinates (★★☆) \n",
        "(**hint**: np.sqrt, np.arctan2)"
      ]
    },
    {
      "cell_type": "code",
      "execution_count": null,
      "metadata": {
        "id": "Y3QXB_6UYqe_",
        "colab": {
          "base_uri": "https://localhost:8080/"
        },
        "outputId": "daf9ae83-f70e-41f9-ea91-7d62f6fc8a53"
      },
      "outputs": [
        {
          "output_type": "stream",
          "name": "stdout",
          "text": [
            "[1.2416087  0.80672867 0.97802263 0.88702931 0.80653646 0.55822504\n",
            " 0.67544418 0.78951112 0.63593036 0.89638809]\n",
            "[0.73968533 0.5386279  0.68628921 1.11998019 1.46320756 1.38533083\n",
            " 0.43255878 1.21456726 0.62880512 0.35314511]\n"
          ]
        }
      ],
      "source": [
        "g = np.random.random((10,2))\n",
        "x = g[:,0]\n",
        "y = g[:,1]\n",
        "h = np.sqrt(x**2+y**2)\n",
        "k = np.arctan2(y,x)\n",
        "print(h)\n",
        "print(k)\n"
      ]
    },
    {
      "cell_type": "markdown",
      "metadata": {
        "id": "BEFNLfA-Yqe_"
      },
      "source": [
        "#### 45. Create random vector of size 10 and replace the maximum value by 0 (★★☆) \n",
        "(**hint**: argmax)"
      ]
    },
    {
      "cell_type": "code",
      "execution_count": null,
      "metadata": {
        "id": "aovUHmRNYqe_",
        "colab": {
          "base_uri": "https://localhost:8080/"
        },
        "outputId": "96af7c57-4631-4ff1-c094-825824cb54e7"
      },
      "outputs": [
        {
          "output_type": "stream",
          "name": "stdout",
          "text": [
            "[0.42052099 0.72662141 0.778347   0.33750293 0.         0.751442\n",
            " 0.61234511 0.18076855 0.46779254 0.72149564]\n"
          ]
        }
      ],
      "source": [
        "l = np.random.random(10)\n",
        "l[l.argmax()] = 0\n",
        "print(l)"
      ]
    },
    {
      "cell_type": "markdown",
      "metadata": {
        "id": "4JKPtxQKYqe_"
      },
      "source": [
        "#### 46. Create a structured array with `x` and `y` coordinates covering the \\[0,1\\]x\\[0,1\\] area (★★☆) \n",
        "(**hint**: np.meshgrid)"
      ]
    },
    {
      "cell_type": "code",
      "execution_count": null,
      "metadata": {
        "id": "0VGnSnmgYqe_",
        "colab": {
          "base_uri": "https://localhost:8080/"
        },
        "outputId": "fa5018c2-33a4-416d-8a65-7274bb142d92"
      },
      "outputs": [
        {
          "output_type": "stream",
          "name": "stdout",
          "text": [
            "[[(0.  , 0.  ) (0.25, 0.  ) (0.5 , 0.  ) (0.75, 0.  ) (1.  , 0.  )]\n",
            " [(0.  , 0.25) (0.25, 0.25) (0.5 , 0.25) (0.75, 0.25) (1.  , 0.25)]\n",
            " [(0.  , 0.5 ) (0.25, 0.5 ) (0.5 , 0.5 ) (0.75, 0.5 ) (1.  , 0.5 )]\n",
            " [(0.  , 0.75) (0.25, 0.75) (0.5 , 0.75) (0.75, 0.75) (1.  , 0.75)]\n",
            " [(0.  , 1.  ) (0.25, 1.  ) (0.5 , 1.  ) (0.75, 1.  ) (1.  , 1.  )]]\n"
          ]
        }
      ],
      "source": [
        "m = np.zeros((5,5), [('x',float),('y',float)])\n",
        "m['x'], m['y'] = np.meshgrid(np.linspace(0,1,5),np.linspace(0,1,5))\n",
        "\n",
        "print(m)\n",
        "\n"
      ]
    },
    {
      "cell_type": "markdown",
      "metadata": {
        "id": "YnN3Yi2lYqe_"
      },
      "source": [
        "####  47. Given two arrays, X and Y, construct the Cauchy matrix C (Cij =1/(xi - yj)) \n",
        "(**hint**: np.subtract.outer)"
      ]
    },
    {
      "cell_type": "code",
      "execution_count": 5,
      "metadata": {
        "id": "ubfWZ59uYqfA",
        "colab": {
          "base_uri": "https://localhost:8080/"
        },
        "outputId": "ce85a81a-3885-4150-9039-26265fd28320"
      },
      "outputs": [
        {
          "output_type": "stream",
          "name": "stdout",
          "text": [
            "33961.93294480236\n"
          ]
        }
      ],
      "source": [
        "a = np.arange(10)\n",
        "b = a + 0.5\n",
        "c = 1.0 / np.subtract.outer(a, b)\n",
        "print(np.linalg.det(c))"
      ]
    },
    {
      "cell_type": "markdown",
      "metadata": {
        "id": "TE8GTlb0YqfA"
      },
      "source": [
        "#### 48. Print the minimum and maximum representable value for each numpy scalar type (★★☆) \n",
        "(**hint**: np.iinfo, np.finfo, eps)"
      ]
    },
    {
      "cell_type": "code",
      "execution_count": 4,
      "metadata": {
        "id": "vWM-S5VCYqfA",
        "colab": {
          "base_uri": "https://localhost:8080/"
        },
        "outputId": "fba802d5-5ae0-44ab-a539-24231fe034d6"
      },
      "outputs": [
        {
          "output_type": "stream",
          "name": "stdout",
          "text": [
            "-128\n",
            "127\n",
            "-2147483648\n",
            "2147483647\n",
            "-9223372036854775808\n",
            "9223372036854775807\n",
            "-3.4028235e+38\n",
            "3.4028235e+38\n",
            "1.1920929e-07\n",
            "-1.7976931348623157e+308\n",
            "1.7976931348623157e+308\n",
            "2.220446049250313e-16\n"
          ]
        }
      ],
      "source": [
        "for dtype in [np.int8, np.int32, np.int64]:\n",
        "  print(np.iinfo(dtype).min)\n",
        "  print(np.iinfo(dtype).max)\n",
        "for dtype in [np.float32, np.float64]:\n",
        "  print(np.finfo(dtype).min)\n",
        "  print(np.finfo(dtype).max)\n",
        "  print(np.finfo(dtype).eps)"
      ]
    },
    {
      "cell_type": "markdown",
      "metadata": {
        "id": "iaYfLIUzYqfA"
      },
      "source": [
        "#### 49. How to print all the values of an array? (★★☆) \n",
        "(**hint**: np.set\\_printoptions)"
      ]
    },
    {
      "cell_type": "code",
      "execution_count": 7,
      "metadata": {
        "id": "6OUipySxYqfA",
        "colab": {
          "base_uri": "https://localhost:8080/"
        },
        "outputId": "5be98184-f224-44c6-9759-ac8f1e0bdc62"
      },
      "outputs": [
        {
          "output_type": "stream",
          "name": "stdout",
          "text": [
            "[[0. 0. 0. 0. 0. 0. 0. 0. 0. 0.]\n",
            " [0. 0. 0. 0. 0. 0. 0. 0. 0. 0.]\n",
            " [0. 0. 0. 0. 0. 0. 0. 0. 0. 0.]\n",
            " [0. 0. 0. 0. 0. 0. 0. 0. 0. 0.]\n",
            " [0. 0. 0. 0. 0. 0. 0. 0. 0. 0.]\n",
            " [0. 0. 0. 0. 0. 0. 0. 0. 0. 0.]\n",
            " [0. 0. 0. 0. 0. 0. 0. 0. 0. 0.]\n",
            " [0. 0. 0. 0. 0. 0. 0. 0. 0. 0.]\n",
            " [0. 0. 0. 0. 0. 0. 0. 0. 0. 0.]\n",
            " [0. 0. 0. 0. 0. 0. 0. 0. 0. 0.]]\n"
          ]
        }
      ],
      "source": [
        "np.set_printoptions(threshold=float(\"inf\"))\n",
        "a = np.zeros((10,10))\n",
        "print(a)\n"
      ]
    },
    {
      "cell_type": "markdown",
      "metadata": {
        "id": "HKAJu24pYqfB"
      },
      "source": [
        "#### 50. How to find the closest value (to a given scalar) in a vector? (★★☆) \n",
        "(**hint**: argmin)"
      ]
    },
    {
      "cell_type": "code",
      "execution_count": 8,
      "metadata": {
        "id": "4X3XGufTYqfB",
        "colab": {
          "base_uri": "https://localhost:8080/"
        },
        "outputId": "4a94bfbd-07b1-477d-a256-985f43183dc3"
      },
      "outputs": [
        {
          "output_type": "stream",
          "name": "stdout",
          "text": [
            "24\n"
          ]
        }
      ],
      "source": [
        "a = np.arange(100)\n",
        "b = np.random.uniform(0,100)\n",
        "index = (np.abs(a-b)).argmin()\n",
        "print(a[index])\n"
      ]
    },
    {
      "cell_type": "markdown",
      "metadata": {
        "id": "kZwRukGGYqfB"
      },
      "source": [
        "#### 51. Create a structured array representing a position (x,y) and a color (r,g,b) (★★☆) \n",
        "(**hint**: dtype)"
      ]
    },
    {
      "cell_type": "code",
      "execution_count": 8,
      "metadata": {
        "id": "9vrDNljlYqfB",
        "colab": {
          "base_uri": "https://localhost:8080/"
        },
        "outputId": "3dbe246b-b0b6-47f4-d072-05345ebc9092"
      },
      "outputs": [
        {
          "output_type": "stream",
          "name": "stdout",
          "text": [
            "[((0., 0.), (0., 0., 0.)) ((0., 0.), (0., 0., 0.))\n",
            " ((0., 0.), (0., 0., 0.)) ((0., 0.), (0., 0., 0.))\n",
            " ((0., 0.), (0., 0., 0.)) ((0., 0.), (0., 0., 0.))\n",
            " ((0., 0.), (0., 0., 0.)) ((0., 0.), (0., 0., 0.))\n",
            " ((0., 0.), (0., 0., 0.)) ((0., 0.), (0., 0., 0.))]\n"
          ]
        },
        {
          "output_type": "stream",
          "name": "stderr",
          "text": [
            "<ipython-input-8-dead18e6d453>:1: FutureWarning: Passing (type, 1) or '1type' as a synonym of type is deprecated; in a future version of numpy, it will be understood as (type, (1,)) / '(1,)type'.\n",
            "  a = np.zeros(10, [ ('position', [ ('x', float, 1),('y', float, 1)]),\n"
          ]
        }
      ],
      "source": [
        "a = np.zeros(10, [ ('position', [ ('x', float, 1),('y', float, 1)]),\n",
        "                   ('color', [ ('r', float, 1), ('g', float, 1),('b', float, 1)])])\n",
        "print(a)"
      ]
    },
    {
      "cell_type": "markdown",
      "metadata": {
        "id": "rERnPk_AYqfB"
      },
      "source": [
        "#### 52. Consider a random vector with shape (100,2) representing coordinates, find point by point distances (★★☆) \n",
        "(**hint**: np.atleast\\_2d, T, np.sqrt)"
      ]
    },
    {
      "cell_type": "code",
      "execution_count": 9,
      "metadata": {
        "id": "Wcn5VUsiYqfC",
        "colab": {
          "base_uri": "https://localhost:8080/"
        },
        "outputId": "b6a5d893-0670-4faa-9621-caa45b73cd9e"
      },
      "outputs": [
        {
          "output_type": "stream",
          "name": "stdout",
          "text": [
            "[[0.         0.14008169 0.44638505 0.37428996 0.35370654 0.39942019\n",
            "  0.55373937 0.57799332 0.53068266 0.54180024 0.41855121 0.36631979\n",
            "  0.48147872 0.48862064 0.48574601 0.42035962 0.40440848 0.65688247\n",
            "  0.41291606 0.41731701 0.49875793 0.39286753 0.46292577 0.39844442\n",
            "  0.20571826 0.54653047 0.39372235 0.60554049 0.02100952 0.20526029\n",
            "  0.37613148 0.4199608  0.6869859  0.41876198 0.56363739 0.6133488\n",
            "  0.67778778 0.46073427 0.48232686 0.42931493 0.52687997 0.58354355\n",
            "  0.21881235 0.40735612 0.47170429 0.47971966 0.40147426 0.44192652\n",
            "  0.33969978 0.24731832 0.49489926 0.05687592 0.45839713 0.60922251\n",
            "  0.46417613 0.28476736 0.54678401 0.55445656 0.51281305 0.2240827\n",
            "  0.35502514 0.28189989 0.45140609 0.30741614 0.27638084 0.73024323\n",
            "  0.34997399 0.31633644 0.60299383 0.31222301 0.53500786 0.4757983\n",
            "  0.20375592 0.22451704 0.65983651 0.25583138 0.20407354 0.55970226\n",
            "  0.33466684 0.62123708 0.45122859 0.3077506  0.4737142  0.68999724\n",
            "  0.42983483 0.47781094 0.7554288  0.20682533 0.30457339 0.25204592\n",
            "  0.14310797 0.58703182 0.24909902 0.5410251  0.44146045 0.57472198\n",
            "  0.18485947 0.39957971 0.39309884 0.37746622]\n",
            " [0.14008169 0.         0.55865545 0.25838246 0.38884249 0.2593957\n",
            "  0.58957565 0.55071095 0.47459944 0.41242864 0.55165689 0.49632727\n",
            "  0.41261605 0.34853901 0.34730489 0.29114823 0.36373623 0.672028\n",
            "  0.29035891 0.5325939  0.48197098 0.42706784 0.39865358 0.44646743\n",
            "  0.21918102 0.41027357 0.4739561  0.64534236 0.1321164  0.22109375\n",
            "  0.37614107 0.32327281 0.55256192 0.46679798 0.50484898 0.59526025\n",
            "  0.68846019 0.48124727 0.48180396 0.5692019  0.40087882 0.44551787\n",
            "  0.33447635 0.31002528 0.43697191 0.3639584  0.47362443 0.47600914\n",
            "  0.3478132  0.11874286 0.38749185 0.0985803  0.42467054 0.64251583\n",
            "  0.5655399  0.21868636 0.41940724 0.42154891 0.39504419 0.33533269\n",
            "  0.21526685 0.26040764 0.42815605 0.32935759 0.26591997 0.59787251\n",
            "  0.22060026 0.40601766 0.56099621 0.23746266 0.49761942 0.37117932\n",
            "  0.06677159 0.36219136 0.51983716 0.12169072 0.25845297 0.59200708\n",
            "  0.21257816 0.50518522 0.44365487 0.42586612 0.60856665 0.55373657\n",
            "  0.38273397 0.34910673 0.62001221 0.17142661 0.1850595  0.15982519\n",
            "  0.13351893 0.52008509 0.10968183 0.68110197 0.40604006 0.58183858\n",
            "  0.10465062 0.25998146 0.44040972 0.29986802]\n",
            " [0.44638505 0.55865545 0.         0.67603379 0.72047307 0.79371469\n",
            "  0.35879645 0.98994914 0.62444278 0.85141095 0.45095953 0.1391357\n",
            "  0.92345577 0.87370311 0.8905204  0.74882824 0.51820448 0.48845444\n",
            "  0.72232303 0.03292566 0.90582265 0.7528307  0.90359272 0.73565545\n",
            "  0.39468198 0.95894756 0.16323427 0.37366437 0.46594805 0.39101836\n",
            "  0.40910489 0.86607854 1.00521509 0.75142248 0.99943698 0.56544357\n",
            "  0.51706836 0.37151603 0.44252526 0.28794891 0.95936233 0.93378506\n",
            "  0.48125691 0.65349878 0.89564139 0.92053437 0.19167628 0.79291817\n",
            "  0.74026084 0.61552783 0.74125543 0.4631979  0.88236551 0.39808508\n",
            "  0.06227513 0.52828527 0.84779576 0.87782463 0.95253672 0.22432153\n",
            "  0.75656195 0.71209697 0.86777484 0.69983099 0.70085691 1.03347637\n",
            "  0.77896811 0.17339512 1.02646824 0.75810717 0.57478675 0.92087955\n",
            "  0.60083011 0.2704182  1.03032054 0.67945247 0.59048021 0.37381273\n",
            "  0.66284761 0.86948493 0.85335609 0.49998199 0.45833811 1.01939515\n",
            "  0.86362858 0.90702387 1.07457545 0.46826966 0.74192262 0.55932619\n",
            "  0.44925008 0.69240596 0.66051782 0.35913622 0.86758975 0.46412342\n",
            "  0.52285417 0.80008594 0.27673131 0.59075624]\n",
            " [0.37428996 0.25838246 0.67603379 0.         0.63467127 0.19453094\n",
            "  0.5543069  0.73828324 0.28926792 0.17905859 0.79151888 0.662214\n",
            "  0.55930747 0.23394313 0.27949157 0.07676662 0.24075185 0.58752925\n",
            "  0.04633832 0.65928517 0.68580274 0.67089342 0.55462823 0.69575397\n",
            "  0.28339619 0.3486813  0.54029979 0.60971911 0.37533772 0.28709591\n",
            "  0.3272096  0.43734835 0.33299665 0.71556013 0.65504698 0.46022719\n",
            "  0.59396596 0.43820882 0.39976472 0.77442469 0.40467824 0.25994964\n",
            "  0.58768952 0.08074087 0.62613616 0.41663371 0.52542743 0.71794864\n",
            "  0.58192065 0.14159948 0.13106732 0.31789679 0.61628061 0.59511746\n",
            "  0.65902414 0.14847534 0.17938163 0.20232314 0.43300995 0.48396129\n",
            "  0.19334982 0.48493486 0.63030809 0.57227147 0.49706157 0.3682582\n",
            "  0.27928873 0.50280666 0.72966038 0.41429082 0.34292734 0.45426368\n",
            "  0.19742125 0.56313459 0.36176561 0.23795012 0.51498464 0.54982389\n",
            "  0.04937551 0.24797566 0.65883343 0.67869726 0.84499986 0.34445897\n",
            "  0.56418967 0.35436877 0.40307641 0.21397798 0.30029344 0.12912538\n",
            "  0.25804407 0.30911831 0.20678278 0.88884857 0.59790984 0.49476192\n",
            "  0.19184446 0.2108786  0.45559457 0.12660487]\n",
            " [0.35370654 0.38884249 0.72047307 0.63467127 0.         0.54459851\n",
            "  0.90298718 0.28242414 0.86094351 0.75497864 0.42029438 0.59659336\n",
            "  0.31447428 0.62142552 0.58229486 0.64443022 0.74305131 1.01005676\n",
            "  0.65639341 0.68764305 0.19920312 0.03938515 0.29182864 0.06440869\n",
            "  0.55735868 0.6090895  0.72085551 0.95260679 0.3356876  0.55729616\n",
            "  0.72848347 0.36074281 0.86605025 0.08234845 0.34209309 0.96348358\n",
            "  1.03131978 0.81404394 0.83531029 0.55500229 0.53269642 0.74410652\n",
            "  0.24310371 0.6959751  0.22148832 0.45739871 0.73515515 0.0889633\n",
            "  0.07515611 0.49461278 0.76568881 0.39143485 0.21141373 0.9586842\n",
            "  0.75836766 0.60449229 0.76681528 0.7515596  0.48735015 0.53334978\n",
            "  0.50425025 0.16433689 0.1823432  0.06328752 0.14583894 0.91820081\n",
            "  0.43373841 0.64021539 0.33303625 0.27192192 0.87689066 0.41625535\n",
            "  0.43937193 0.45006626 0.77789095 0.40802449 0.14987284 0.90999033\n",
            "  0.58557741 0.86991497 0.1468495  0.26856802 0.47557227 0.85647374\n",
            "  0.23097809 0.51051922 0.9237442  0.54158337 0.37996279 0.54866139\n",
            "  0.4829632  0.90865271 0.43277375 0.62959602 0.20676017 0.92842521\n",
            "  0.48954724 0.53319386 0.74117084 0.68863348]\n",
            " [0.39942019 0.2593957  0.79371469 0.19453094 0.54459851 0.\n",
            "  0.73287863 0.58291682 0.48259719 0.22039088 0.80259443 0.74859854\n",
            "  0.39094633 0.08974342 0.09819965 0.14391758 0.42980837 0.77752941\n",
            "  0.17740919 0.77123902 0.544578   0.57504351 0.39127984 0.60895106\n",
            "  0.4073066  0.16923763 0.68082489 0.7894075  0.39011891 0.41067632\n",
            "  0.50189    0.26506831 0.32211556 0.62663119 0.48309976 0.65454292\n",
            "  0.78550931 0.61598118 0.58615331 0.82858811 0.21044534 0.20207881\n",
            "  0.5754355  0.27414573 0.47763897 0.22587395 0.67199198 0.61643155\n",
            "  0.47824264 0.17842087 0.28897117 0.35483451 0.47015506 0.77759993\n",
            "  0.78934638 0.30623346 0.23539261 0.20989328 0.2394436  0.57814003\n",
            "  0.0457975  0.38089502 0.49111845 0.4819639  0.39876036 0.37374747\n",
            "  0.11708367 0.62716898 0.56365935 0.28249741 0.5374438  0.26885835\n",
            "  0.19981134 0.62066894 0.2618583  0.15415573 0.46174347 0.73017511\n",
            "  0.16593131 0.35022148 0.52893233 0.66464774 0.86102873 0.3150223\n",
            "  0.41512061 0.15988408 0.38281995 0.33366924 0.16523832 0.24806206\n",
            "  0.34453913 0.49578242 0.15089043 0.94042363 0.45329687 0.6840421\n",
            "  0.27108914 0.01756351 0.61453219 0.31832207]\n",
            " [0.55373937 0.58957565 0.35879645 0.5543069  0.90298718 0.73287863\n",
            "  0.         1.12722764 0.35954816 0.69243923 0.76572287 0.46544459\n",
            "  1.00218947 0.78754713 0.82747684 0.62947662 0.31850922 0.13148529\n",
            "  0.59297727 0.37298646 1.05050787 0.94131957 0.98793467 0.93983503\n",
            "  0.3708271  0.89855318 0.22240437 0.05691017 0.57371232 0.36920995\n",
            "  0.23106217 0.90688586 0.8305755  0.95918329 1.093845   0.22909452\n",
            "  0.15979507 0.11691529 0.1644157  0.63011815 0.93717182 0.79977667\n",
            "  0.7042593  0.49365709 1.01686969 0.92602001 0.19502905 0.98903697\n",
            "  0.89342849 0.57484756 0.55411465 0.53076874 1.00387685 0.05570204\n",
            "  0.29965628 0.42735413 0.68193319 0.72658554 0.95122634 0.39134225\n",
            "  0.71224527 0.82888686 1.0009221  0.86063761 0.82662802 0.84212584\n",
            "  0.77218318 0.28905605 1.14547681 0.82685144 0.28941905 0.94686622\n",
            "  0.59366001 0.51583495 0.90581696 0.68242398 0.75370629 0.01549332\n",
            "  0.56867333 0.65652936 1.00431766 0.75974572 0.78843859 0.8534385\n",
            "  0.9676352  0.88315202 0.89288038 0.42533268 0.75903076 0.49151631\n",
            "  0.45683854 0.41608466 0.65129683 0.71509761 0.98592988 0.11946996\n",
            "  0.50017926 0.74591963 0.16187767 0.4310111 ]\n",
            " [0.57799332 0.55071095 0.98994914 0.73828324 0.28242414 0.58291682\n",
            "  1.12722764 0.         1.00951012 0.80165281 0.69686329 0.87248364\n",
            "  0.19803287 0.62974812 0.57256688 0.71795271 0.91063112 1.21976299\n",
            "  0.74295012 0.95754127 0.08463237 0.26253365 0.19272105 0.29970972\n",
            "  0.76016525 0.56518082 0.96894809 1.18072512 0.5572054  0.76120647\n",
            "  0.92537703 0.32065251 0.87010241 0.29616562 0.13326518 1.14491616\n",
            "  1.23745882 1.02571758 1.03189166 0.83739987 0.46495649 0.75000808\n",
            "  0.52259425 0.81427151 0.11440885 0.39523511 0.9786974  0.24707555\n",
            "  0.24968928 0.61911212 0.85978285 0.59647053 0.1261979  1.18203115\n",
            "  1.02233087 0.76251008 0.8174636  0.78565516 0.40953465 0.78727571\n",
            "  0.55848049 0.29834141 0.12662205 0.2904183  0.30168186 0.92392582\n",
            "  0.4690686  0.88947569 0.06460191 0.32658699 1.04262247 0.34104549\n",
            "  0.57390078 0.72167117 0.7444092  0.50376509 0.39961817 1.13177004\n",
            "  0.69101801 0.9331063  0.13787412 0.5497708  0.74913975 0.85130108\n",
            "  0.17441997 0.4730092  0.91247283 0.72192006 0.43821954 0.69551094\n",
            "  0.67576083 1.04313347 0.53759652 0.90940784 0.14495104 1.13115639\n",
            "  0.6536841  0.56644943 0.96893769 0.82877669]\n",
            " [0.53068266 0.47459944 0.62444278 0.28926792 0.86094351 0.48259719\n",
            "  0.35954816 1.00951012 0.         0.36469342 0.89741765 0.67114291\n",
            "  0.8408026  0.50555838 0.55980779 0.34553947 0.13048456 0.3389428\n",
            "  0.30817095 0.62158861 0.94870348 0.89977844 0.83378925 0.91540331\n",
            "  0.33897461 0.62452807 0.4618528  0.4039068  0.54239344 0.34108404\n",
            "  0.21908336 0.72230277 0.48461981 0.93595149 0.93712085 0.18581875\n",
            "  0.33643656 0.27024742 0.20052436 0.82138107 0.69110247 0.47927678\n",
            "  0.74374527 0.20869645 0.89538783 0.70590159 0.43516223 0.94912931\n",
            "  0.82237832 0.39040708 0.22343842 0.47964806 0.88433477 0.37999913\n",
            "  0.58314863 0.25653625 0.35044924 0.40082064 0.72185566 0.51404928\n",
            "  0.48211845 0.73256036 0.89350257 0.80312441 0.73980257 0.48920313\n",
            "  0.56558737 0.46994825 1.00764801 0.68304243 0.0733727  0.74280975\n",
            "  0.43737716 0.63441918 0.58383244 0.50702559 0.72059906 0.34870456\n",
            "  0.32853499 0.30149779 0.91468273 0.82626878 0.93976562 0.51065729\n",
            "  0.83550921 0.64230927 0.54210414 0.32467687 0.57852095 0.3172042\n",
            "  0.3878446  0.06853532 0.47271776 0.92912167 0.86557534 0.25867779\n",
            "  0.37159728 0.49938073 0.34896582 0.18075851]\n",
            " [0.54180024 0.41242864 0.85141095 0.17905859 0.75497864 0.22039088\n",
            "  0.69243923 0.80165281 0.36469342 0.         0.96027827 0.84124146\n",
            "  0.60708582 0.18267448 0.24536148 0.12163391 0.37530919 0.69936102\n",
            "  0.13373463 0.8359155  0.7649612  0.78763994 0.60921701 0.8187504\n",
            "  0.46143122 0.29186737 0.70977643 0.74464473 0.53971508 0.46512245\n",
            "  0.47931361 0.48165535 0.15430036 0.83732442 0.69621626 0.55050742\n",
            "  0.69950555 0.58133977 0.52931035 0.95189392 0.38207451 0.11503246\n",
            "  0.74688685 0.20451064 0.69776737 0.42530833 0.69235889 0.83103495\n",
            "  0.69235742 0.29546421 0.14214934 0.48706686 0.69045075 0.72554466\n",
            "  0.83098924 0.32349568 0.01797181 0.03616683 0.42792432 0.66297782\n",
            "  0.25354668 0.59387314 0.71148109 0.69172811 0.61013955 0.19013257\n",
            "  0.33730294 0.67802598 0.77904815 0.50103542 0.43479578 0.47528664\n",
            "  0.3459341  0.74017129 0.21920233 0.34803372 0.65488422 0.68526857\n",
            "  0.20856692 0.13451936 0.74876048 0.83826248 1.01540836 0.16852776\n",
            "  0.63535191 0.34720743 0.22425903 0.39299818 0.38175675 0.30708739\n",
            "  0.43560289 0.34902724 0.32791049 1.06629672 0.67366477 0.61221601\n",
            "  0.36597105 0.23600315 0.61670588 0.27023338]\n",
            " [0.41855121 0.55165689 0.45095953 0.79151888 0.42029438 0.80259443\n",
            "  0.76572287 0.69686329 0.89741765 0.96027827 0.         0.31398644\n",
            "  0.72009984 0.89209811 0.87691361 0.83874922 0.76732545 0.89543437\n",
            "  0.8312014  0.4223453  0.61683501 0.43455656 0.69697682 0.39797463\n",
            "  0.56216697 0.92713883 0.54377762 0.79747826 0.42103952 0.55954487\n",
            "  0.69423724 0.72652281 1.103948   0.40462806 0.76097897 0.91936153\n",
            "  0.92269406 0.72535764 0.77890055 0.1796311  0.8796646  0.99642439\n",
            "  0.23252783 0.81634726 0.64062988 0.81396076 0.57069824 0.45421123\n",
            "  0.47880353 0.66523065 0.90719736 0.47403944 0.62975435 0.81580926\n",
            "  0.50938031 0.68385597 0.9653297  0.9721111  0.84771591 0.39461463\n",
            "  0.75682626 0.51428763 0.60223082 0.44009419 0.4939718  1.14823063\n",
            "  0.72573327 0.4802831  0.75169993 0.61225823 0.87829951 0.78771928\n",
            "  0.61815271 0.26585471 1.06405095 0.64930664 0.37500941 0.77832214\n",
            "  0.7531202  1.03648865 0.5660735  0.1579051  0.06015116 1.10537091\n",
            "  0.63932772 0.84089918 1.17164919 0.60078266 0.67037    0.66564077\n",
            "  0.54168776 0.96212801 0.65327712 0.21549423 0.62259664 0.8419021\n",
            "  0.59999198 0.79908735 0.62459532 0.77564805]\n",
            " [0.36631979 0.49632727 0.1391357  0.662214   0.59659336 0.74859854\n",
            "  0.46544459 0.87248364 0.67114291 0.84124146 0.31398644 0.\n",
            "  0.82419996 0.83414525 0.8415264  0.7288393  0.55056284 0.59690013\n",
            "  0.70800094 0.10882477 0.78787909 0.62677356 0.80313119 0.60629805\n",
            "  0.38210996 0.90627352 0.24514693 0.49079186 0.38308352 0.37849856\n",
            "  0.45252186 0.78099262 0.99515575 0.62104706 0.89365016 0.6477156\n",
            "  0.62507237 0.44848465 0.51294015 0.16489978 0.89284515 0.91009348\n",
            "  0.35398861 0.65636899 0.78435399 0.84563091 0.27465257 0.66441239\n",
            "  0.62385256 0.57559829 0.7484605  0.39775041 0.77130566 0.51173231\n",
            "  0.1955566  0.52192735 0.84055749 0.86333494 0.87890756 0.17826973\n",
            "  0.70736016 0.60782128 0.75375145 0.58244973 0.59414738 1.02942033\n",
            "  0.7145516  0.20375597 0.91324399 0.66787946 0.63360473 0.8389177\n",
            "  0.54924494 0.15412957 0.99942409 0.61749996 0.47663523 0.47928772\n",
            "  0.63942946 0.88056064 0.73478533 0.36362913 0.3268043  1.0053225\n",
            "  0.75822747 0.84300888 1.06525121 0.44824387 0.67079722 0.53602955\n",
            "  0.41167091 0.73954033 0.60458841 0.26068669 0.75781004 0.55645782\n",
            "  0.4862665  0.75211292 0.34560682 0.59951214]\n",
            " [0.48147872 0.41261605 0.92345577 0.55930747 0.31447428 0.39094633\n",
            "  1.00218947 0.19803287 0.8408026  0.60708582 0.72009984 0.82419996\n",
            "  0.         0.43254302 0.37469842 0.53040044 0.75367178 1.08143019\n",
            "  0.55834131 0.89283796 0.18814143 0.31993707 0.0231362  0.36465541\n",
            "  0.63158767 0.36843741 0.87186762 1.05789366 0.46085026 0.63337229\n",
            "  0.78542984 0.12589183 0.6720707  0.37252197 0.09634335 0.98989867\n",
            "  1.09627255 0.8931823  0.88858722 0.82737223 0.27000491 0.55209709\n",
            "  0.50537166 0.63817399 0.11837682 0.19792444 0.87619475 0.33604257\n",
            "  0.24453437 0.45456645 0.67461908 0.48230217 0.11985319 1.05506033\n",
            "  0.94517141 0.6061629  0.62333368 0.58958326 0.21508673 0.7047943\n",
            "  0.37140515 0.21800859 0.15312518 0.28061679 0.23452797 0.72589848\n",
            "  0.28185711 0.79663452 0.17273395 0.17566274 0.88129606 0.1439136\n",
            "  0.41795256 0.67020881 0.54806466 0.33625706 0.35876473 1.0045663\n",
            "  0.51452119 0.73986007 0.20364955 0.56244777 0.77838453 0.65340448\n",
            "  0.08350122 0.27504037 0.71498534 0.5805266  0.26235412 0.53690669\n",
            "  0.54563546 0.86799156 0.37072517 0.91758839 0.1143519  0.98964879\n",
            "  0.50717277 0.37394493 0.85128779 0.66113744]\n",
            " [0.48862064 0.34853901 0.87370311 0.23394313 0.62142552 0.08974342\n",
            "  0.78754713 0.62974812 0.50555838 0.18267448 0.89209811 0.83414525\n",
            "  0.43254302 0.         0.06268943 0.16254459 0.47447513 0.82003886\n",
            "  0.20068603 0.85240938 0.60108132 0.64975955 0.43724443 0.68579723\n",
            "  0.48240685 0.11904964 0.75392227 0.84324641 0.47966237 0.48592427\n",
            "  0.55862547 0.30955373 0.24732174 0.70267845 0.51821726 0.6860468\n",
            "  0.82524858 0.67104593 0.63365473 0.91752414 0.20002461 0.1242855\n",
            "  0.66430422 0.30474272 0.53142918 0.24413704 0.74295261 0.6887829\n",
            "  0.55219633 0.25950645 0.29126909 0.44291637 0.52559375 0.82900191\n",
            "  0.8660741  0.36810352 0.20033105 0.15924658 0.24529755 0.66159972\n",
            "  0.13535133 0.45709311 0.54994486 0.5597571  0.47614998 0.30081104\n",
            "  0.1876907  0.70464762 0.60249725 0.35254242 0.56763733 0.29565418\n",
            "  0.28735735 0.70887176 0.17212693 0.24305551 0.54730221 0.78341407\n",
            "  0.2221418  0.31698648 0.59157442 0.75307918 0.95062628 0.23529295\n",
            "  0.47042299 0.16511188 0.30234373 0.40803756 0.2426221  0.31850202\n",
            "  0.42616208 0.50667191 0.24055421 1.02963629 0.51009643 0.72781891\n",
            "  0.35149791 0.09373174 0.68018478 0.36005917]\n",
            " [0.48574601 0.34730489 0.8905204  0.27949157 0.58229486 0.09819965\n",
            "  0.82747684 0.57256688 0.55980779 0.24536148 0.87691361 0.8415264\n",
            "  0.37469842 0.06268943 0.         0.21430687 0.5194925  0.86688615\n",
            "  0.25200476 0.86753131 0.54794318 0.60840622 0.38082942 0.64630666\n",
            "  0.50545129 0.07147414 0.7790103  0.88375608 0.47440229 0.50880933\n",
            "  0.59689425 0.2542497  0.29861677 0.66230296 0.45817422 0.7376184\n",
            "  0.87344896 0.71058317 0.67760291 0.91452441 0.13782924 0.17745112\n",
            "  0.64613464 0.35499302 0.47744889 0.18280386 0.77016632 0.6451513\n",
            "  0.51083109 0.27605484 0.35006155 0.44500966 0.47240657 0.87099418\n",
            "  0.88710719 0.40234656 0.26301922 0.22127167 0.18267688 0.67328306\n",
            "  0.1345191  0.4188386  0.4982673  0.52209403 0.43888438 0.35253664\n",
            "  0.1543908  0.72485178 0.54305511 0.31061762 0.61945427 0.23528123\n",
            "  0.2925642  0.7093833  0.19614473 0.23121126 0.52072521 0.82423973\n",
            "  0.25881247 0.37963137 0.54173616 0.73272713 0.93623669 0.28245511\n",
            "  0.41760798 0.10321786 0.3472997  0.43186596 0.21138502 0.34591617\n",
            "  0.44129658 0.56449899 0.23771776 1.02492734 0.45767804 0.77389907\n",
            "  0.36852682 0.09043785 0.7120779  0.40594202]\n",
            " [0.42035962 0.29114823 0.74882824 0.07676662 0.64443022 0.14391758\n",
            "  0.62947662 0.71795271 0.34553947 0.12163391 0.83874922 0.7288393\n",
            "  0.53040044 0.16254459 0.21430687 0.         0.31352779 0.65775852\n",
            "  0.03814937 0.73104964 0.672835   0.67861582 0.52874722 0.70743431\n",
            "  0.35456092 0.28040211 0.61584934 0.68452475 0.41809066 0.35825128\n",
            "  0.40354498 0.40518089 0.26936418 0.7265379  0.62416474 0.52403191\n",
            "  0.66273276 0.51379942 0.47289043 0.83382245 0.34673074 0.18508403\n",
            "  0.62561197 0.14219822 0.60900637 0.36952518 0.6015252  0.72366592\n",
            "  0.5854047  0.17383331 0.14527163 0.365948   0.60032782 0.66915578\n",
            "  0.73363507 0.22362272 0.12834044 0.13604006 0.38133211 0.55109424\n",
            "  0.15957542 0.48682854 0.61799418 0.58119888 0.50156148 0.31021432\n",
            "  0.24929586 0.57602101 0.70290436 0.40267718 0.40569188 0.41262806\n",
            "  0.22490138 0.6219072  0.28538022 0.23670985 0.53739255 0.62457904\n",
            "  0.08981173 0.22571191 0.65127503 0.71700705 0.89405005 0.27689094\n",
            "  0.54629488 0.30007032 0.33908208 0.28256405 0.28340334 0.19289\n",
            "  0.31906736 0.35339586 0.21240993 0.94810124 0.5826     0.56583151\n",
            "  0.24719611 0.16146611 0.53231359 0.19918482]\n",
            " [0.40440848 0.36373623 0.51820448 0.24075185 0.74305131 0.42980837\n",
            "  0.31850922 0.91063112 0.13048456 0.37530919 0.76732545 0.55056284\n",
            "  0.75367178 0.47447513 0.5194925  0.31352779 0.         0.34777657\n",
            "  0.27620442 0.51117262 0.84485153 0.78224515 0.74404362 0.79517849\n",
            "  0.20870927 0.58925271 0.36015189 0.37236144 0.41739176 0.21074047\n",
            "  0.11184041 0.64202931 0.51855432 0.81573885 0.84960522 0.23622722\n",
            "  0.35598378 0.20603083 0.15936327 0.6961526  0.63954783 0.48131127\n",
            "  0.61485812 0.17523297 0.79625441 0.64106037 0.33699351 0.83182544\n",
            "  0.70962083 0.29962021 0.24105077 0.35566438 0.7845007  0.35590248\n",
            "  0.48415726 0.14834727 0.36581791 0.40883214 0.66184021 0.38737095\n",
            "  0.41763947 0.62414209 0.79044917 0.68733266 0.62923465 0.53605586\n",
            "  0.49149419 0.35415266 0.91472192 0.58717307 0.13421997 0.67110762\n",
            "  0.33780311 0.50517877 0.58731406 0.41765025 0.5992968  0.31247373\n",
            "  0.2641846  0.35836446 0.80737957 0.69644169 0.81033825 0.53941619\n",
            "  0.73869104 0.58714515 0.58381802 0.20171666 0.49342932 0.21693077\n",
            "  0.26298175 0.1950803  0.38333643 0.80564337 0.76571752 0.25447948\n",
            "  0.25909127 0.44472155 0.25353553 0.1144571 ]\n",
            " [0.65688247 0.672028   0.48845444 0.58752925 1.01005676 0.77752941\n",
            "  0.13148529 1.21976299 0.3389428  0.69936102 0.89543437 0.59690013\n",
            "  1.08143019 0.82003886 0.86688615 0.65775852 0.34777657 0.\n",
            "  0.61976001 0.50384284 1.14618432 1.04897704 1.06908108 1.05078087\n",
            "  0.46011895 0.93616801 0.3532566  0.12217883 0.67580337 0.45931624\n",
            "  0.29616135 0.97773988 0.82355113 1.07056891 1.17550412 0.16206682\n",
            "  0.02861906 0.19616799 0.19441919 0.76159982 0.98695991 0.81226811\n",
            "  0.82289203 0.51594656 1.10724771 0.98532828 0.32518932 1.09756441\n",
            "  0.99421758 0.63666592 0.55724243 0.62659995 1.09459327 0.0932694\n",
            "  0.42818734 0.4828889  0.68628189 0.73511344 1.00754248 0.51475226\n",
            "  0.76385491 0.92273012 1.09464961 0.96388411 0.92270363 0.82667765\n",
            "  0.83336484 0.41640206 1.23292518 0.90831263 0.26610868 1.0120056\n",
            "  0.66479093 0.641897   0.91808274 0.75113269 0.86018406 0.11772041\n",
            "  0.61174224 0.63889237 1.1023503  0.88297951 0.91928814 0.84953532\n",
            "  1.05458676 0.93421184 0.88022074 0.50138488 0.82826451 0.55159101\n",
            "  0.54400226 0.37897699 0.71801679 0.84595845 1.07620939 0.09376401\n",
            "  0.57425745 0.79229825 0.27884334 0.46096282]\n",
            " [0.41291606 0.29035891 0.72232303 0.04633832 0.65639341 0.17740919\n",
            "  0.59297727 0.74295012 0.30817095 0.13373463 0.8312014  0.70800094\n",
            "  0.55834131 0.20068603 0.25200476 0.03814937 0.27620442 0.61976001\n",
            "  0.         0.70562292 0.69483084 0.6915852  0.55556176 0.71859376\n",
            "  0.32969576 0.3184987  0.58580576 0.64777614 0.41254203 0.3333958\n",
            "  0.36842537 0.4339932  0.28716556 0.73805668 0.65297542 0.4859826\n",
            "  0.62462195 0.4776871  0.43552135 0.81841969 0.38326539 0.21473988\n",
            "  0.62322443 0.10406042 0.63258212 0.40321682 0.57047352 0.73762638\n",
            "  0.60014205 0.17162961 0.11683356 0.35716665 0.62341587 0.63203428\n",
            "  0.70495454 0.19449185 0.13547219 0.15602187 0.41636143 0.52979003\n",
            "  0.18709836 0.50202881 0.63963133 0.59342645 0.51562736 0.32361627\n",
            "  0.27648575 0.54906691 0.73031814 0.4234316  0.36767371 0.44471405\n",
            "  0.22608872 0.60682196 0.31778789 0.25171789 0.5429998  0.58782297\n",
            "  0.07853922 0.21588748 0.67098045 0.7145227  0.88542714 0.29818895\n",
            "  0.57005302 0.33561551 0.35726484 0.25987293 0.30565402 0.17336302\n",
            "  0.30200168 0.31838372 0.22392285 0.9328386  0.60539478 0.52795994\n",
            "  0.23343226 0.19477318 0.49937385 0.16212753]\n",
            " [0.41731701 0.5325939  0.03292566 0.65928517 0.68764305 0.77123902\n",
            "  0.37298646 0.95754127 0.62158861 0.8359155  0.4223453  0.10882477\n",
            "  0.89283796 0.85240938 0.86753131 0.73104964 0.51117262 0.50384284\n",
            "  0.70562292 0.         0.87336014 0.71993835 0.87281932 0.70273208\n",
            "  0.37649062 0.93540899 0.16533372 0.39200705 0.43660452 0.37279925\n",
            "  0.40408635 0.83725765 0.99003471 0.71851159 0.96811586 0.57240103\n",
            "  0.53237917 0.37574203 0.44530658 0.26382913 0.93347246 0.91567449\n",
            "  0.44833126 0.64022768 0.86372285 0.89327048 0.195093   0.75999316\n",
            "  0.70785412 0.59348529 0.72925049 0.4362404  0.85046237 0.41512901\n",
            "  0.08710788 0.51242257 0.83291318 0.86148304 0.92550559 0.19732602\n",
            "  0.73327386 0.68075363 0.83560435 0.66733969 0.66925829 1.0196248\n",
            "  0.75315138 0.15971316 0.9944186  0.72846606 0.57497589 0.89256152\n",
            "  0.57668198 0.23757721 1.01093628 0.65381967 0.5581745  0.38765053\n",
            "  0.64411333 0.85868779 0.82083676 0.46763623 0.43218017 1.00339407\n",
            "  0.83227907 0.88147735 1.05965533 0.44922491 0.71497721 0.54018254\n",
            "  0.42677096 0.68990861 0.63582674 0.34213427 0.8358004  0.47385327\n",
            "  0.50100725 0.77711094 0.27730818 0.57852729]\n",
            " [0.49875793 0.48197098 0.90582265 0.68580274 0.19920312 0.544578\n",
            "  1.05050787 0.08463237 0.94870348 0.7649612  0.61683501 0.78787909\n",
            "  0.18814143 0.60108132 0.54794318 0.672835   0.84485153 1.14618432\n",
            "  0.69483084 0.87336014 0.         0.18263938 0.17361033 0.22278933\n",
            "  0.68606723 0.55108342 0.88767129 1.10336882 0.47817723 0.68690686\n",
            "  0.85342389 0.29413978 0.84640763 0.22229123 0.16544704 1.07721798\n",
            "  1.16467114 0.95118767 0.96047646 0.75403614 0.45578297 0.72421685\n",
            "  0.43811572 0.75912052 0.0714704  0.38119454 0.89817493 0.1755026\n",
            "  0.16572359 0.55971717 0.81115472 0.52049898 0.07555267 1.10560473\n",
            "  0.93883996 0.69761593 0.77987808 0.75225874 0.40169123 0.70479469\n",
            "  0.51515346 0.22364833 0.05554652 0.20604895 0.22395896 0.9003015\n",
            "  0.42793488 0.80787075 0.13491125 0.27170152 0.97802201 0.32858783\n",
            "  0.5113497  0.63723781 0.73047273 0.44825188 0.3158322  1.05554003\n",
            "  0.63738644 0.89334329 0.05329466 0.46750416 0.67033819 0.83012881\n",
            "  0.13065938 0.45402654 0.89378649 0.65190807 0.38955541 0.63229363\n",
            "  0.60284629 0.98589754 0.48092573 0.82805989 0.09136155 1.05879594\n",
            "  0.58619496 0.52909408 0.89114739 0.76857671]\n",
            " [0.39286753 0.42706784 0.7528307  0.67089342 0.03938515 0.57504351\n",
            "  0.94131957 0.26253365 0.89977844 0.78763994 0.43455656 0.62677356\n",
            "  0.31993707 0.64975955 0.60840622 0.67861582 0.78224515 1.04897704\n",
            "  0.6915852  0.71993835 0.18263938 0.         0.29807725 0.04473657\n",
            "  0.5967032  0.63180016 0.75735868 0.99065352 0.37495669 0.59662839\n",
            "  0.76782252 0.37874567 0.89552995 0.05511478 0.33629434 1.00286873\n",
            "  1.07034429 0.85301747 0.87461857 0.57733271 0.5515955  0.77312175\n",
            "  0.27280787 0.73326746 0.21707855 0.47552396 0.77215751 0.04961469\n",
            "  0.09765044 0.53141184 0.80180105 0.43081993 0.20877235 0.99702118\n",
            "  0.79210943 0.64327797 0.79985003 0.78315678 0.50419505 0.56950607\n",
            "  0.53571407 0.19424381 0.17687651 0.09869608 0.17751626 0.94805082\n",
            "  0.46237562 0.67673388 0.3175286  0.2979481  0.91612773 0.43168882\n",
            "  0.47642358 0.48252638 0.8031795  0.44192699 0.18888139 0.94845321\n",
            "  0.62168382 0.90428464 0.13380144 0.2881394  0.48771139 0.88504298\n",
            "  0.23716345 0.53260137 0.95202606 0.58083472 0.40988764 0.58688358\n",
            "  0.52232446 0.94707105 0.46770474 0.64689993 0.20762341 0.96758564\n",
            "  0.5282764  0.56303962 0.77946427 0.72693169]\n",
            " [0.46292577 0.39865358 0.90359272 0.55462823 0.29182864 0.39127984\n",
            "  0.98793467 0.19272105 0.83378925 0.60921701 0.69697682 0.80313119\n",
            "  0.0231362  0.43724443 0.38082942 0.52874722 0.74404362 1.06908108\n",
            "  0.55556176 0.87281932 0.17361033 0.29807725 0.         0.34275495\n",
            "  0.61713356 0.3786762  0.85437468 1.04342336 0.44218783 0.61882397\n",
            "  0.77293983 0.12793254 0.6791105  0.35104655 0.10642338 0.98020941\n",
            "  1.08436624 0.87978344 0.87677806 0.80481024 0.2822414  0.5582277\n",
            "  0.48263244 0.63278155 0.10246504 0.20822545 0.85923236 0.31553249\n",
            "  0.22152419 0.44577988 0.67218481 0.46554168 0.10202824 1.04111188\n",
            "  0.92609448 0.5961151  0.62516621 0.5929396  0.22808689 0.68574374\n",
            "  0.36925985 0.1961429  0.13449088 0.25748485 0.21221619 0.73301121\n",
            "  0.27949141 0.77863126 0.1750512  0.1611932  0.87271451 0.15510877\n",
            "  0.40715952 0.64906842 0.55833945 0.32760599 0.33628449 0.99059279\n",
            "  0.50900346 0.74117037 0.184756   0.5393385  0.75525045 0.66129159\n",
            "  0.06105112 0.28321986 0.72373307 0.56778743 0.2555572  0.52711652\n",
            "  0.53112148 0.86261625 0.36211393 0.89468219 0.09435333 0.9776836\n",
            "  0.49502406 0.37457589 0.83592499 0.65361517]\n",
            " [0.39844442 0.44646743 0.73565545 0.69575397 0.06440869 0.60895106\n",
            "  0.93983503 0.29970972 0.91540331 0.8187504  0.39797463 0.60629805\n",
            "  0.36465541 0.68579723 0.64630666 0.70743431 0.79517849 1.05078087\n",
            "  0.71859376 0.70273208 0.22278933 0.04473657 0.34275495 0.\n",
            "  0.60395894 0.67198427 0.74952745 0.98780213 0.38190608 0.6036123\n",
            "  0.77457567 0.42102701 0.93045302 0.0205642  0.37970162 1.01142777\n",
            "  1.07293102 0.8554659  0.88060267 0.5471449  0.59364179 0.80851403\n",
            "  0.25450638 0.7553013  0.26113042 0.51783951 0.76582098 0.05883232\n",
            "  0.13664349 0.55503283 0.82682127 0.44067254 0.25313214 0.9954873\n",
            "  0.77751885 0.65951485 0.83042258 0.81567887 0.54699919 0.56127149\n",
            "  0.56845026 0.22872578 0.22090346 0.1271832  0.21020946 0.98258345\n",
            "  0.4981159  0.66915461 0.35707866 0.3357607  0.928413   0.47489883\n",
            "  0.4994762  0.46656052 0.84172718 0.47136724 0.19613045 0.94761185\n",
            "  0.6468503  0.93270341 0.17623537 0.25723259 0.44948423 0.92086936\n",
            "  0.28180674 0.57310154 0.98812496 0.59346813 0.44436671 0.60591982\n",
            "  0.53316551 0.96485842 0.49539148 0.61195213 0.25230842 0.97152858\n",
            "  0.54506687 0.59759177 0.77806009 0.74545243]\n",
            " [0.20571826 0.21918102 0.39468198 0.28339619 0.55735868 0.4073066\n",
            "  0.3708271  0.76016525 0.33897461 0.46143122 0.56216697 0.38210996\n",
            "  0.63158767 0.48240685 0.50545129 0.35456092 0.20870927 0.46011895\n",
            "  0.32969576 0.37649062 0.68606723 0.5967032  0.61713356 0.60395894\n",
            "  0.         0.5759651  0.27370231 0.42632501 0.2221629  0.00370026\n",
            "  0.17113327 0.54011401 0.61572607 0.62432767 0.72301803 0.40763055\n",
            "  0.47895067 0.26556547 0.27819174 0.50868204 0.59293003 0.53928908\n",
            "  0.40767742 0.27486986 0.64833582 0.56958996 0.26663841 0.64608164\n",
            "  0.53562424 0.23035528 0.36751415 0.16749031 0.63552526 0.42434391\n",
            "  0.38370579 0.13982344 0.45969893 0.48571455 0.59786066 0.20474873\n",
            "  0.37506317 0.46266935 0.63470078 0.50725299 0.46265102 0.64813\n",
            "  0.41718624 0.22294376 0.77571597 0.45610979 0.33329166 0.58417637\n",
            "  0.23258353 0.30560385 0.63579223 0.32100736 0.40868896 0.37382176\n",
            "  0.26817935 0.50002816 0.64247351 0.48792033 0.60783927 0.62785197\n",
            "  0.59754531 0.53870299 0.68567518 0.07438233 0.39530112 0.16503276\n",
            "  0.08601407 0.40140545 0.29345382 0.62186137 0.61730886 0.37374558\n",
            "  0.14087587 0.41604939 0.22240899 0.22154563]\n",
            " [0.54653047 0.41027357 0.95894756 0.3486813  0.6090895  0.16923763\n",
            "  0.89855318 0.56518082 0.62452807 0.29186737 0.92713883 0.90627352\n",
            "  0.36843741 0.11904964 0.07147414 0.28040211 0.58925271 0.93616801\n",
            "  0.3184987  0.93540899 0.55108342 0.63180016 0.3786762  0.67198427\n",
            "  0.5759651  0.         0.84963554 0.95475541 0.53387902 0.57928852\n",
            "  0.66811663 0.25962803 0.31125063 0.6866034  0.44239459 0.80441691\n",
            "  0.94215525 0.78168528 0.74778299 0.97343544 0.10251643 0.20120182\n",
            "  0.69498115 0.42231963 0.47963729 0.1706048  0.84113779 0.66477415\n",
            "  0.53536002 0.34601111 0.40966551 0.50870374 0.47650224 0.94171671\n",
            "  0.95677011 0.47378451 0.30983846 0.26241511 0.15716682 0.74021358\n",
            "  0.20248361 0.44917681 0.50523234 0.55156054 0.47013112 0.36401895\n",
            "  0.20189572 0.7944481  0.5285734  0.33874837 0.68605053 0.22452744\n",
            "  0.35902375 0.77095514 0.17969374 0.29070224 0.56289914 0.89517265\n",
            "  0.32990408 0.4228124  0.5517869  0.77914224 0.98691489 0.28908952\n",
            "  0.42354417 0.09953812 0.34780891 0.50263216 0.25677507 0.4172272\n",
            "  0.5100765  0.62528888 0.30173884 1.08249367 0.4637208  0.84344004\n",
            "  0.43810507 0.15996514 0.7835051  0.47528597]\n",
            " [0.39372235 0.4739561  0.16323427 0.54029979 0.72085551 0.68082489\n",
            "  0.22240437 0.96894809 0.4618528  0.70977643 0.54377762 0.24514693\n",
            "  0.87186762 0.75392227 0.7790103  0.61584934 0.36015189 0.3532566\n",
            "  0.58580576 0.16533372 0.88767129 0.75735868 0.85437468 0.74952745\n",
            "  0.27370231 0.84963554 0.         0.25495169 0.41473065 0.2704173\n",
            "  0.24915667 0.79579435 0.86175392 0.7677656  0.9566389  0.40776369\n",
            "  0.38111514 0.21041931 0.2802067  0.41000388 0.86439348 0.80024869\n",
            "  0.50233982 0.50726005 0.86485985 0.83604999 0.030088   0.8026697\n",
            "  0.7239731  0.50401131 0.59109297 0.39039187 0.85151588 0.27209341\n",
            "  0.12407106 0.39222663 0.70437571 0.73863912 0.8658244  0.18825632\n",
            "  0.64866399 0.67529431 0.84282738 0.68705049 0.66856674 0.88631645\n",
            "  0.68627041 0.08064022 0.99638374 0.69828924 0.41157415 0.84512131\n",
            "  0.501749   0.30102193 0.90093898 0.58772969 0.5763615  0.23557386\n",
            "  0.5348797  0.71609264 0.83785424 0.54791897 0.56608195 0.87828562\n",
            "  0.82345754 0.810436   0.93008477 0.34718473 0.65819071 0.43543843\n",
            "  0.34691878 0.52959475 0.5630828  0.50111276 0.83484028 0.31214574\n",
            "  0.4133607  0.68974276 0.11350258 0.44251132]\n",
            " [0.60554049 0.64534236 0.37366437 0.60971911 0.95260679 0.7894075\n",
            "  0.05691017 1.18072512 0.4039068  0.74464473 0.79747826 0.49079186\n",
            "  1.05789366 0.84324641 0.88375608 0.68452475 0.37236144 0.12217883\n",
            "  0.64777614 0.39200705 1.10336882 0.99065352 1.04342336 0.98780213\n",
            "  0.42632501 0.95475541 0.25495169 0.         0.62575556 0.4246011\n",
            "  0.28774708 0.96337369 0.88051784 1.00692019 1.14919945 0.25574263\n",
            "  0.14986393 0.17347038 0.21533948 0.65395942 0.99398778 0.85308497\n",
            "  0.74858876 0.54758163 1.070896   0.98291714 0.23065671 1.03795619\n",
            "  0.94513812 0.63175628 0.60520261 0.58452314 1.05785037 0.03010334\n",
            "  0.3121202  0.48409132 0.73366998 0.77913618 1.00813634 0.43361542\n",
            "  0.76904879 0.88242894 1.05427895 0.91165312 0.87967151 0.89029877\n",
            "  0.82907471 0.32809604 1.19993026 0.88243394 0.3318733  1.00362351\n",
            "  0.65032351 0.55444978 0.95924782 0.73913948 0.80383279 0.05995318\n",
            "  0.62494524 0.70368318 1.05663975 0.80035521 0.81675421 0.90404049\n",
            "  1.02231115 0.93998893 0.94176764 0.48192765 0.81568184 0.54841081\n",
            "  0.51232011 0.45660519 0.70810064 0.73273069 1.04000406 0.15004354\n",
            "  0.55678064 0.80254232 0.21244416 0.48566761]\n",
            " [0.02100952 0.1321164  0.46594805 0.37533772 0.3356876  0.39011891\n",
            "  0.57371232 0.5572054  0.54239344 0.53971508 0.42103952 0.38308352\n",
            "  0.46085026 0.47966237 0.47440229 0.41809066 0.41739176 0.67580337\n",
            "  0.41254203 0.43660452 0.47817723 0.37495669 0.44218783 0.38190608\n",
            "  0.2221629  0.53387902 0.41473065 0.62575556 0.         0.22192798\n",
            "  0.39310431 0.40097275 0.6830315  0.40231616 0.54271606 0.62952169\n",
            "  0.69643492 0.47963584 0.49970591 0.44013276 0.51129203 0.57748822\n",
            "  0.21350476 0.41226439 0.45073651 0.46254847 0.42244532 0.42419954\n",
            "  0.31976417 0.24433846 0.49828923 0.06335958 0.4374333  0.62913682\n",
            "  0.48455775 0.29333713 0.54536029 0.5510716  0.49584077 0.24430666\n",
            "  0.34521422 0.2609212  0.43060269 0.28812632 0.25555302 0.72721407\n",
            "  0.33573205 0.33729007 0.5820033  0.29227079 0.54897231 0.45734881\n",
            "  0.19773843 0.23852883 0.65137979 0.24355045 0.18656061 0.57950391\n",
            "  0.33403678 0.62303134 0.43089778 0.30383874 0.47725861 0.68510064\n",
            "  0.40884498 0.46293045 0.75101208 0.2177729  0.28879376 0.25618068\n",
            "  0.15466647 0.5974794  0.23928193 0.55083318 0.42047458 0.59294293\n",
            "  0.18888457 0.38944947 0.41333947 0.38537331]\n",
            " [0.20526029 0.22109375 0.39101836 0.28709591 0.55729616 0.41067632\n",
            "  0.36920995 0.76120647 0.34108404 0.46512245 0.55954487 0.37849856\n",
            "  0.63337229 0.48592427 0.50880933 0.35825128 0.21074047 0.45931624\n",
            "  0.3333958  0.37279925 0.68690686 0.59662839 0.61882397 0.6036123\n",
            "  0.00370026 0.57928852 0.2704173  0.4246011  0.22192798 0.\n",
            "  0.17120595 0.54235823 0.6194179  0.62396369 0.72465429 0.40813891\n",
            "  0.47831414 0.26451525 0.2781029  0.50536719 0.59592421 0.54297106\n",
            "  0.40616629 0.2784005  0.6494999  0.57228934 0.26355828 0.64597714\n",
            "  0.53604878 0.23360512 0.37101668 0.16787932 0.63666856 0.4228559\n",
            "  0.38017003 0.14344623 0.4633774  0.48941448 0.60064105 0.20119811\n",
            "  0.37829508 0.46358099 0.63565609 0.50746066 0.46339533 0.65179632\n",
            "  0.41999514 0.21933485 0.77704304 0.45784886 0.33469567 0.58663634\n",
            "  0.23531935 0.30258401 0.63943584 0.32364092 0.40848405 0.37234199\n",
            "  0.27183681 0.50351903 0.64314662 0.48608272 0.60504752 0.63155144\n",
            "  0.59891571 0.54171339 0.68936516 0.07792537 0.39777656 0.16864425\n",
            "  0.0877372  0.40373895 0.29625738 0.61849818 0.61847844 0.3732671\n",
            "  0.1438672  0.41936043 0.22009441 0.22486432]\n",
            " [0.37613148 0.37614107 0.40910489 0.3272096  0.72848347 0.50189\n",
            "  0.23106217 0.92537703 0.21908336 0.47931361 0.69423724 0.45252186\n",
            "  0.78542984 0.55862547 0.59689425 0.40354498 0.11184041 0.29616135\n",
            "  0.36842537 0.40408635 0.85342389 0.76782252 0.77293983 0.77457567\n",
            "  0.17113327 0.66811663 0.24915667 0.28774708 0.39310431 0.17120595\n",
            "  0.         0.68359514 0.62632895 0.7948848  0.87936126 0.23876906\n",
            "  0.31235342 0.11430781 0.10740468 0.60542152 0.70635592 0.58041774\n",
            "  0.56843778 0.27515599 0.81229979 0.69722029 0.22533842 0.81718136\n",
            "  0.70581813 0.34598043 0.35005897 0.33817306 0.79977678 0.27773559\n",
            "  0.3729387  0.19635908 0.47128678 0.51135621 0.72159418 0.30225571\n",
            "  0.48140123 0.62978494 0.80103834 0.6781455  0.63110001 0.64602785\n",
            "  0.54372295 0.2508682  0.93713729 0.61215213 0.18501819 0.72044826\n",
            "  0.36983128 0.42846294 0.68532145 0.4573135  0.57966481 0.22902885\n",
            "  0.33826174 0.47004051 0.81119849 0.64246423 0.73237314 0.64584537\n",
            "  0.75886009 0.65243531 0.69270127 0.20522932 0.53443979 0.26166304\n",
            "  0.25074896 0.28761409 0.4249612  0.71149204 0.78128421 0.20582789\n",
            "  0.27833367 0.51486159 0.14176652 0.20972375]\n",
            " [0.4199608  0.32327281 0.86607854 0.43734835 0.36074281 0.26506831\n",
            "  0.90688586 0.32065251 0.72230277 0.48165535 0.72652281 0.78099262\n",
            "  0.12589183 0.30955373 0.2542497  0.40518089 0.64202931 0.97773988\n",
            "  0.4339932  0.83725765 0.29413978 0.37874567 0.12793254 0.42102701\n",
            "  0.54011401 0.25962803 0.79579435 0.96337369 0.40097275 0.54235823\n",
            "  0.68359514 0.         0.55286553 0.43385897 0.219047   0.87762436\n",
            "  0.9908913  0.79453443 0.78357729 0.80888799 0.17291687 0.43128521\n",
            "  0.49793728 0.51713205 0.22331214 0.096814   0.79656633 0.40802255\n",
            "  0.2856079  0.34281742 0.54983008 0.40738952 0.21875018 0.95811994\n",
            "  0.88053142 0.49675528 0.49776241 0.46502296 0.12691401 0.64251477\n",
            "  0.2469007  0.21496094 0.24615489 0.30932708 0.23626816 0.60678583\n",
            "  0.15818761 0.72488907 0.29859103 0.11664714 0.76631203 0.0613212\n",
            "  0.31390688 0.63015705 0.43775378 0.22660759 0.3516009  0.90794781\n",
            "  0.39418024 0.61411525 0.29217532 0.57016501 0.78646938 0.53607317\n",
            "  0.16462758 0.16086059 0.59966038 0.48162675 0.14950474 0.42731916\n",
            "  0.45581387 0.74646589 0.25997752 0.90832279 0.20488785 0.88481728\n",
            "  0.40684376 0.24805314 0.76243531 0.54431969]\n",
            " [0.6869859  0.55256192 1.00521509 0.33299665 0.86605025 0.32211556\n",
            "  0.8305755  0.87010241 0.48461981 0.15430036 1.103948   0.99515575\n",
            "  0.6720707  0.24732174 0.29861677 0.26936418 0.51855432 0.82355113\n",
            "  0.28716556 0.99003471 0.84640763 0.89552995 0.6791105  0.93045302\n",
            "  0.61572607 0.31125063 0.86175392 0.88051784 0.6830315  0.6194179\n",
            "  0.62632895 0.55286553 0.         0.94782038 0.7516534  0.667114\n",
            "  0.82015709 0.7233007  0.66619559 1.10316986 0.41363068 0.12303651\n",
            "  0.88471396 0.35460422 0.77604009 0.47605769 0.84342697 0.93543435\n",
            "  0.7981894  0.439744   0.27764799 0.63378186 0.77085605 0.85932133\n",
            "  0.98368492 0.47766801 0.15756572 0.13334352 0.46749478 0.81692631\n",
            "  0.36486631 0.70190357 0.79617315 0.8036927  0.72027657 0.05392099\n",
            "  0.43328744 0.83187549 0.8375052  0.59930067 0.55769517 0.53002765\n",
            "  0.48589282 0.89125985 0.15325631 0.47058363 0.78116076 0.82216325\n",
            "  0.35891806 0.18959665 0.83855007 0.97561632 1.16024958 0.03158638\n",
            "  0.71592243 0.39723228 0.07009977 0.54695956 0.48608774 0.45998847\n",
            "  0.58778342 0.45229102 0.45723427 1.21746124 0.75587851 0.74132113\n",
            "  0.51653852 0.33287594 0.76584062 0.41987074]\n",
            " [0.41876198 0.46679798 0.75142248 0.71556013 0.08234845 0.62663119\n",
            "  0.95918329 0.29616562 0.93595149 0.83732442 0.40462806 0.62104706\n",
            "  0.37252197 0.70267845 0.66230296 0.7265379  0.81573885 1.07056891\n",
            "  0.73805668 0.71851159 0.22229123 0.05511478 0.35104655 0.0205642\n",
            "  0.62432767 0.6866034  0.7677656  1.00692019 0.40231616 0.62396369\n",
            "  0.7948848  0.43385897 0.94782038 0.         0.38250934 1.03183314\n",
            "  1.09281059 0.87536009 0.90084036 0.55764855 0.60671009 0.82568228\n",
            "  0.27077551 0.77546206 0.26559007 0.53063387 0.78436143 0.04969701\n",
            "  0.15161377 0.57497548 0.84662444 0.46119132 0.25843963 1.01481728\n",
            "  0.79404757 0.68003904 0.84913812 0.83385065 0.55924309 0.57953444\n",
            "  0.58650065 0.24591732 0.2255043  0.14560559 0.22794087 1.00010302\n",
            "  0.51507056 0.68748575 0.35528038 0.35169067 0.94896232 0.4866297\n",
            "  0.51947249 0.48296593 0.85739684 0.49025838 0.21665739 0.96705591\n",
            "  0.66660182 0.95192598 0.17866417 0.26820503 0.45464649 0.93787371\n",
            "  0.29041704 0.5874825  1.00501998 0.61402938 0.46178304 0.62630745\n",
            "  0.55370064 0.9853404  0.51466445 0.61943544 0.25906097 0.99156841\n",
            "  0.56556251 0.61503956 0.79745945 0.7658857 ]\n",
            " [0.56363739 0.50484898 0.99943698 0.65504698 0.34209309 0.48309976\n",
            "  1.093845   0.13326518 0.93712085 0.69621626 0.76097897 0.89365016\n",
            "  0.09634335 0.51821726 0.45817422 0.62416474 0.84960522 1.17550412\n",
            "  0.65297542 0.96811586 0.16544704 0.33629434 0.10642338 0.37970162\n",
            "  0.72301803 0.44239459 0.9566389  1.14919945 0.54271606 0.72465429\n",
            "  0.87936126 0.219047   0.7516534  0.38250934 0.         1.08582466\n",
            "  1.19077062 0.98605939 0.98316716 0.88274193 0.34039668 0.63426907\n",
            "  0.56001161 0.73416083 0.12060947 0.27610059 0.96240419 0.33834211\n",
            "  0.28380775 0.55072608 0.76887694 0.56943579 0.13122611 1.14716977\n",
            "  1.02453285 0.70189522 0.71286058 0.67683386 0.28525423 0.78461869\n",
            "  0.46587919 0.28736224 0.16009792 0.32463429 0.29964465 0.80509913\n",
            "  0.37673969 0.87995223 0.08623116 0.2674614  0.97754352 0.2228971\n",
            "  0.51323458 0.73966663 0.6198739  0.43241627 0.41911401 1.09664467\n",
            "  0.61058838 0.82989871 0.20386978 0.605871   0.81718928 0.73102282\n",
            "  0.13584889 0.35574036 0.79008868 0.67420081 0.35869672 0.63274425\n",
            "  0.63700856 0.96392077 0.46690554 0.96623494 0.13978148 1.08409176\n",
            "  0.60143295 0.46584149 0.94107104 0.75748052]\n",
            " [0.6133488  0.59526025 0.56544357 0.46022719 0.96348358 0.65454292\n",
            "  0.22909452 1.14491616 0.18581875 0.55050742 0.91936153 0.6477156\n",
            "  0.98989867 0.6860468  0.7376184  0.52403191 0.23622722 0.16206682\n",
            "  0.4859826  0.57240103 1.07721798 1.00286873 0.98020941 1.01142777\n",
            "  0.40763055 0.80441691 0.40776369 0.25574263 0.62952169 0.40813891\n",
            "  0.23876906 0.87762436 0.667114   1.03183314 1.08582466 0.\n",
            "  0.15394996 0.19923108 0.14070164 0.81018443 0.86487717 0.6650223\n",
            "  0.80666304 0.38263729 1.03067761 0.87246446 0.37771957 1.05240674\n",
            "  0.93632373 0.53569883 0.40904576 0.57204918 1.0187183  0.22695873\n",
            "  0.51200507 0.38417684 0.53623895 0.58662832 0.89134958 0.52493857\n",
            "  0.64775946 0.85483336 1.02336488 0.91098381 0.8583705  0.6675798\n",
            "  0.72535984 0.44719342 1.15044471 0.82283015 0.11841618 0.90487602\n",
            "  0.57357751 0.65471105 0.7696507  0.65383276 0.81576987 0.21441622\n",
            "  0.49239227 0.48024468 1.03788346 0.87874473 0.95238289 0.69410364\n",
            "  0.97387034 0.81409486 0.72167567 0.42630384 0.72940251 0.45310341\n",
            "  0.48112883 0.21800884 0.61948145 0.90726624 0.9999715  0.10962632\n",
            "  0.4913711  0.67054835 0.30223877 0.33761983]\n",
            " [0.67778778 0.68846019 0.51706836 0.59396596 1.03131978 0.78550931\n",
            "  0.15979507 1.23745882 0.33643656 0.69950555 0.92269406 0.62507237\n",
            "  1.09627255 0.82524858 0.87344896 0.66273276 0.35598378 0.02861906\n",
            "  0.62462195 0.53237917 1.16467114 1.07034429 1.08436624 1.07293102\n",
            "  0.47895067 0.94215525 0.38111514 0.14986393 0.69643492 0.47831414\n",
            "  0.31235342 0.9908913  0.82015709 1.09281059 1.19077062 0.15394996\n",
            "  0.         0.21747539 0.20770282 0.78982553 0.99548094 0.81316652\n",
            "  0.84709174 0.52058072 1.12456378 0.99593291 0.35283903 1.11909981\n",
            "  1.01403858 0.64888117 0.55740077 0.64602039 1.11200057 0.12142594\n",
            "  0.45680346 0.4947689  0.68592848 0.73544732 1.01744813 0.54045417\n",
            "  0.77337963 0.94107005 1.11274222 0.98430492 0.9415451  0.82143149\n",
            "  0.84473557 0.44319535 1.24944389 0.9239287  0.26477909 1.02383771\n",
            "  0.67885097 0.66813258 0.91860577 0.76436948 0.88147377 0.14578608\n",
            "  0.62012495 0.63395714 1.12142259 0.90831069 0.94702039 0.8467381\n",
            "  1.07119269 0.94312813 0.87541943 0.51729777 0.84139162 0.56390431\n",
            "  0.56193742 0.37194043 0.73093952 0.87450436 1.09353916 0.10670245\n",
            "  0.58934337 0.80059974 0.30408902 0.46774421]\n",
            " [0.46073427 0.48124727 0.37151603 0.43820882 0.81404394 0.61598118\n",
            "  0.11691529 1.02571758 0.27024742 0.58133977 0.72535764 0.44848465\n",
            "  0.8931823  0.67104593 0.71058317 0.51379942 0.20603083 0.19616799\n",
            "  0.4776871  0.37574203 0.95118767 0.85301747 0.87978344 0.8554659\n",
            "  0.26556547 0.78168528 0.21041931 0.17347038 0.47963584 0.26451525\n",
            "  0.11430781 0.79453443 0.7233007  0.87536009 0.98605939 0.19923108\n",
            "  0.21747539 0.         0.07260303 0.6111439  0.82065198 0.68657358\n",
            "  0.63215073 0.38000002 0.91385209 0.81077598 0.18070139 0.90170608\n",
            "  0.79822253 0.45944271 0.44570698 0.43100111 0.90106403 0.16408476\n",
            "  0.32244866 0.31066672 0.57172621 0.61478963 0.83550132 0.3334364\n",
            "  0.59569848 0.72802891 0.90014392 0.76772433 0.72744168 0.73819777\n",
            "  0.65708614 0.24874898 1.04079518 0.71860917 0.2092764  0.83292407\n",
            "  0.48068732 0.46335236 0.79230505 0.56897156 0.66417604 0.11481724\n",
            "  0.45179037 0.55557501 0.90681059 0.69704386 0.75596491 0.74488054\n",
            "  0.86249206 0.7667105  0.78742445 0.31332516 0.64590959 0.37555173\n",
            "  0.35063075 0.33422156 0.53721451 0.7081714  0.88281957 0.11930924\n",
            "  0.38783839 0.629075   0.10312999 0.31624031]\n",
            " [0.48232686 0.48180396 0.44252526 0.39976472 0.83531029 0.58615331\n",
            "  0.1644157  1.03189166 0.20052436 0.52931035 0.77890055 0.51294015\n",
            "  0.88858722 0.63365473 0.67760291 0.47289043 0.15936327 0.19441919\n",
            "  0.43552135 0.44530658 0.96047646 0.87461857 0.87677806 0.88060267\n",
            "  0.27819174 0.74778299 0.2802067  0.21533948 0.49970591 0.2781029\n",
            "  0.10740468 0.78357729 0.66619559 0.90084036 0.98316716 0.14070164\n",
            "  0.20770282 0.07260303 0.         0.67354873 0.7945813  0.6381646\n",
            "  0.6687979  0.33372243 0.91854951 0.79124118 0.25098863 0.9239025\n",
            "  0.81321698 0.44224742 0.39007173 0.44547002 0.90611276 0.19707242\n",
            "  0.39463561 0.28851817 0.5183581  0.56385671 0.81386255 0.38436239\n",
            "  0.57065657 0.7368726  0.90788824 0.78540183 0.73839395 0.67791057\n",
            "  0.63902898 0.3102048  1.04253591 0.71650254 0.13694923 0.81758958\n",
            "  0.4711724  0.51404989 0.7443857  0.55698485 0.6862017  0.15618517\n",
            "  0.420244   0.4928717  0.91849908 0.73917069 0.812635   0.68922503\n",
            "  0.86442389 0.7414469  0.72849962 0.31039639 0.63407687 0.35717313\n",
            "  0.35804047 0.2628082  0.52373639 0.7734853  0.88756194 0.10125461\n",
            "  0.38179698 0.6004471  0.16872557 0.27378596]\n",
            " [0.42931493 0.5692019  0.28794891 0.77442469 0.55500229 0.82858811\n",
            "  0.63011815 0.83739987 0.82138107 0.95189392 0.1796311  0.16489978\n",
            "  0.82737223 0.91752414 0.91452441 0.83382245 0.6961526  0.76159982\n",
            "  0.81841969 0.26382913 0.75403614 0.57733271 0.80481024 0.5471449\n",
            "  0.50868204 0.97343544 0.41000388 0.65395942 0.44013276 0.50536719\n",
            "  0.60542152 0.80888799 1.10316986 0.55764855 0.88274193 0.81018443\n",
            "  0.78982553 0.6111439  0.67354873 0.         0.94339158 1.00738936\n",
            "  0.32298137 0.78146751 0.76554085 0.88625294 0.43941208 0.60568861\n",
            "  0.60014932 0.66782455 0.87442586 0.47546304 0.75340859 0.67566666\n",
            "  0.34951052 0.64505433 0.95364127 0.96986246 0.9203488  0.30918425\n",
            "  0.78433412 0.6106968  0.73005163 0.55864835 0.59303606 1.14198782\n",
            "  0.7734092  0.36338905 0.88668278 0.69227686 0.7892977  0.86963379\n",
            "  0.6308401  0.21191904 1.08807101 0.6836206  0.46864446 0.6440564\n",
            "  0.74429119 1.00690709 0.70119523 0.28993353 0.17275213 1.10968382\n",
            "  0.75220831 0.89810818 1.17288903 0.56499492 0.72283675 0.64534072\n",
            "  0.51646266 0.88912624 0.6784128  0.11442594 0.74305258 0.7208281\n",
            "  0.58663174 0.82889057 0.50801966 0.73022699]\n",
            " [0.52687997 0.40087882 0.95936233 0.40467824 0.53269642 0.21044534\n",
            "  0.93717182 0.46495649 0.69110247 0.38207451 0.8796646  0.89284515\n",
            "  0.27000491 0.20002461 0.13782924 0.34673074 0.63954783 0.98695991\n",
            "  0.38326539 0.93347246 0.45578297 0.5515955  0.2822414  0.59364179\n",
            "  0.59293003 0.10251643 0.86439348 0.99398778 0.51129203 0.59592421\n",
            "  0.70635592 0.17291687 0.41363068 0.60671009 0.34039668 0.86487717\n",
            "  0.99548094 0.82065198 0.7945813  0.94339158 0.         0.30106584\n",
            "  0.64756067 0.48350675 0.38442314 0.07655249 0.8593707  0.58065593\n",
            "  0.45771229 0.36561894 0.48645544 0.49801937 0.38249793 0.98364554\n",
            "  0.96383145 0.5100391  0.39988606 0.3558969  0.05544034 0.7362015\n",
            "  0.22495477 0.38017427 0.41279042 0.47908254 0.40163878 0.46650723\n",
            "  0.18039642 0.80239617 0.42662325 0.27166715 0.74754926 0.1272074\n",
            "  0.3628287  0.74953873 0.27975581 0.27998174 0.50703514 0.9353688\n",
            "  0.3753651  0.51571491 0.46101338 0.72657283 0.93980972 0.39159678\n",
            "  0.33154713 0.05438505 0.44973102 0.52312284 0.22250278 0.44626962\n",
            "  0.5179554  0.69958108 0.30158136 1.04860821 0.37117189 0.89331773\n",
            "  0.45205891 0.19492497 0.80994203 0.5287107 ]\n",
            " [0.58354355 0.44551787 0.93378506 0.25994964 0.74410652 0.20207881\n",
            "  0.79977667 0.75000808 0.47927678 0.11503246 0.99642439 0.91009348\n",
            "  0.55209709 0.1242855  0.17745112 0.18508403 0.48131127 0.81226811\n",
            "  0.21473988 0.91567449 0.72421685 0.77312175 0.5582277  0.80851403\n",
            "  0.53928908 0.20120182 0.80024869 0.85308497 0.57748822 0.54297106\n",
            "  0.58041774 0.43128521 0.12303651 0.82568228 0.63426907 0.6650223\n",
            "  0.81316652 0.68657358 0.6381646  1.00738936 0.30106584 0.\n",
            "  0.77295187 0.30657687 0.6541237  0.35817528 0.78519166 0.81266739\n",
            "  0.67567441 0.33956575 0.25604578 0.53294846 0.64867159 0.83509089\n",
            "  0.91860029 0.40822154 0.13078021 0.07893771 0.35287746 0.73322895\n",
            "  0.24635895 0.57982509 0.67359729 0.68200678 0.59847355 0.17658407\n",
            "  0.31074792 0.7610779  0.71961917 0.47645985 0.54872576 0.41159793\n",
            "  0.37993438 0.79603644 0.10624779 0.35402465 0.66354505 0.79336459\n",
            "  0.27187221 0.22954442 0.71566542 0.86314692 1.05383081 0.11296748\n",
            "  0.59362495 0.27856277 0.18074889 0.46662105 0.36429107 0.37602339\n",
            "  0.49853729 0.46374044 0.34423552 1.12102316 0.63347803 0.72397229\n",
            "  0.42442853 0.21153253 0.71369547 0.37103035]\n",
            " [0.21881235 0.33447635 0.48125691 0.58768952 0.24310371 0.5754355\n",
            "  0.7042593  0.52259425 0.74374527 0.74688685 0.23252783 0.35398861\n",
            "  0.50537166 0.66430422 0.64613464 0.62561197 0.61485812 0.82289203\n",
            "  0.62322443 0.44833126 0.43811572 0.27280787 0.48263244 0.25450638\n",
            "  0.40767742 0.69498115 0.50233982 0.74858876 0.21350476 0.40616629\n",
            "  0.56843778 0.49793728 0.88471396 0.27077551 0.56001161 0.80666304\n",
            "  0.84709174 0.63215073 0.6687979  0.32298137 0.64756067 0.77295187\n",
            "  0.         0.62557467 0.44377555 0.58300021 0.52119773 0.31167797\n",
            "  0.27875353 0.45245177 0.71174669 0.27510984 0.43139764 0.75928536\n",
            "  0.52327737 0.50313733 0.75382163 0.75513033 0.61692619 0.3155983\n",
            "  0.5296746  0.2907745  0.40947946 0.23695411 0.27201108 0.9313076\n",
            "  0.49394962 0.4231767  0.56789446 0.38229023 0.74081662 0.55925793\n",
            "  0.40098376 0.21219045 0.83560788 0.42133228 0.14812628 0.71358561\n",
            "  0.54476364 0.8356474  0.38482349 0.09139954 0.29257351 0.88377249\n",
            "  0.42928876 0.60838027 0.95089228 0.42344536 0.43822814 0.4696316\n",
            "  0.35982396 0.80256918 0.42874076 0.41320317 0.42047627 0.75111221\n",
            "  0.40231068 0.57074832 0.54476422 0.59604512]\n",
            " [0.40735612 0.31002528 0.65349878 0.08074087 0.6959751  0.27414573\n",
            "  0.49365709 0.81427151 0.20869645 0.20451064 0.81634726 0.65636899\n",
            "  0.63817399 0.30474272 0.35499302 0.14219822 0.17523297 0.51594656\n",
            "  0.10406042 0.64022768 0.75912052 0.73326746 0.63278155 0.7553013\n",
            "  0.27486986 0.42231963 0.50726005 0.54758163 0.41226439 0.2784005\n",
            "  0.27515599 0.51713205 0.35460422 0.77546206 0.73416083 0.38263729\n",
            "  0.52058072 0.38000002 0.33372243 0.78146751 0.48350675 0.30657687\n",
            "  0.62557467 0.         0.70131648 0.4972749  0.48884671 0.78130655\n",
            "  0.64755803 0.20285682 0.09295904 0.35063666 0.69105971 0.5307223\n",
            "  0.62961863 0.13641335 0.19760467 0.23620042 0.51322127 0.47958715\n",
            "  0.27404996 0.55235643 0.70357489 0.63465078 0.56289322 0.38007881\n",
            "  0.35933023 0.48083462 0.80765338 0.48863596 0.264586   0.53496166\n",
            "  0.25695788 0.57368231 0.41235242 0.31113393 0.56829907 0.48770437\n",
            "  0.12378029 0.22549619 0.72983823 0.71509771 0.86703456 0.37220272\n",
            "  0.63988861 0.43399639 0.42283409 0.21787045 0.37752857 0.15625001\n",
            "  0.27466704 0.22985328 0.27819717 0.89529133 0.67252013 0.42449882\n",
            "  0.22340914 0.29080515 0.41225507 0.06572326]\n",
            " [0.47170429 0.43697191 0.89564139 0.62613616 0.22148832 0.47763897\n",
            "  1.01686969 0.11440885 0.89538783 0.69776737 0.64062988 0.78435399\n",
            "  0.11837682 0.53142918 0.47744889 0.60900637 0.79625441 1.10724771\n",
            "  0.63258212 0.86372285 0.0714704  0.21707855 0.10246504 0.26113042\n",
            "  0.64833582 0.47963729 0.86485985 1.070896   0.45073651 0.6494999\n",
            "  0.81229979 0.22331214 0.77604009 0.26559007 0.12060947 1.03067761\n",
            "  1.12456378 0.91385209 0.91854951 0.76554085 0.38442314 0.6541237\n",
            "  0.44377555 0.70131648 0.         0.30972832 0.87317853 0.22437697\n",
            "  0.16539429 0.50504715 0.74930204 0.486404   0.01337147 1.07138421\n",
            "  0.92450564 0.64811147 0.71301251 0.68400561 0.33049526 0.68660114\n",
            "  0.45020274 0.189836   0.04022698 0.20695804 0.19672392 0.82995355\n",
            "  0.36178295 0.78626577 0.13171561 0.21287237 0.92821413 0.25721624\n",
            "  0.4595081  0.63119218 0.65906824 0.39036985 0.30772528 1.02100437\n",
            "  0.57842848 0.82739604 0.08868922 0.48607252 0.69665748 0.75938081\n",
            "  0.06274318 0.38275486 0.82277651 0.60833355 0.32700108 0.58111362\n",
            "  0.56340687 0.9297246  0.42397341 0.84691301 0.0310402  1.01812641\n",
            "  0.53957059 0.46176885 0.85976776 0.71469241]\n",
            " [0.47971966 0.3639584  0.92053437 0.41663371 0.45739871 0.22587395\n",
            "  0.92602001 0.39523511 0.70590159 0.42530833 0.81396076 0.84563091\n",
            "  0.19792444 0.24413704 0.18280386 0.36952518 0.64106037 0.98532828\n",
            "  0.40321682 0.89327048 0.38119454 0.47552396 0.20822545 0.51783951\n",
            "  0.56958996 0.1706048  0.83604999 0.98291714 0.46254847 0.57228934\n",
            "  0.69722029 0.096814   0.47605769 0.53063387 0.27610059 0.87246446\n",
            "  0.99593291 0.81077598 0.79124118 0.88625294 0.07655249 0.35817528\n",
            "  0.58300021 0.4972749  0.30972832 0.         0.83354698 0.50415153\n",
            "  0.38229688 0.35133367 0.51397963 0.45735208 0.30721547 0.97478516\n",
            "  0.92941617 0.50302299 0.44254155 0.40338057 0.03412652 0.69626575\n",
            "  0.22480824 0.30798343 0.33698398 0.40501467 0.32945839 0.5296878\n",
            "  0.15388304 0.76985483 0.3616206  0.20214266 0.75716145 0.05419238\n",
            "  0.3370319  0.69851997 0.35029488 0.24886013 0.4394806  0.92547523\n",
            "  0.38022764 0.55979847 0.38484467 0.65914617 0.87408362 0.45635276\n",
            "  0.2555229  0.07976833 0.51724753 0.50386482 0.17900066 0.4356509\n",
            "  0.48967729 0.72149755 0.27662563 0.98902383 0.29535238 0.89160822\n",
            "  0.43002166 0.20845103 0.79058319 0.53490831]\n",
            " [0.40147426 0.47362443 0.19167628 0.52542743 0.73515515 0.67199198\n",
            "  0.19502905 0.9786974  0.43516223 0.69235889 0.57069824 0.27465257\n",
            "  0.87619475 0.74295261 0.77016632 0.6015252  0.33699351 0.32518932\n",
            "  0.57047352 0.195093   0.89817493 0.77215751 0.85923236 0.76582098\n",
            "  0.26663841 0.84113779 0.030088   0.23065671 0.42244532 0.26355828\n",
            "  0.22533842 0.79656633 0.84342697 0.78436143 0.96240419 0.37771957\n",
            "  0.35283903 0.18070139 0.25098863 0.43941208 0.8593707  0.78519166\n",
            "  0.52119773 0.48884671 0.87317853 0.83354698 0.         0.81811158\n",
            "  0.73547127 0.49658721 0.57088081 0.39390646 0.85987079 0.2461322\n",
            "  0.14830561 0.37824193 0.68636445 0.72195928 0.86271482 0.20567831\n",
            "  0.64129207 0.68336594 0.85228555 0.69934233 0.67751514 0.86668452\n",
            "  0.68248758 0.09819663 1.00441841 0.70171365 0.38336045 0.84452385\n",
            "  0.4976223  0.32380351 0.88689346 0.58475293 0.58914304 0.20772438\n",
            "  0.52249323 0.69432318 0.84899647 0.56999727 0.59418706 0.86070685\n",
            "  0.83018065 0.80520548 0.91131499 0.33868551 0.6566514  0.42502863\n",
            "  0.3438877  0.50258377 0.55888159 0.5311357  0.84290858 0.28221895\n",
            "  0.40738215 0.68154288 0.0861986  0.42360861]\n",
            " [0.44192652 0.47600914 0.79291817 0.71794864 0.0889633  0.61643155\n",
            "  0.98903697 0.24707555 0.94912931 0.83103495 0.45421123 0.66441239\n",
            "  0.33604257 0.6887829  0.6451513  0.72366592 0.83182544 1.09756441\n",
            "  0.73762638 0.75999316 0.1755026  0.04961469 0.31553249 0.05883232\n",
            "  0.64608164 0.66477415 0.8026697  1.03795619 0.42419954 0.64597714\n",
            "  0.81718136 0.40802255 0.93543435 0.04969701 0.33834211 1.05240674\n",
            "  1.11909981 0.90170608 0.9239025  0.60568861 0.58065593 0.81266739\n",
            "  0.31167797 0.78130655 0.22437697 0.50415153 0.81811158 0.\n",
            "  0.13867882 0.57908591 0.84869057 0.48036501 0.21862435 1.04473634\n",
            "  0.83388064 0.69260604 0.84362329 0.82544125 0.53121818 0.61453049\n",
            "  0.57822282 0.23726248 0.18503956 0.1468451  0.22215322 0.98830908\n",
            "  0.50223064 0.72211786 0.30701233 0.33624226 0.96572505 0.45766295\n",
            "  0.52435979 0.52326451 0.83860612 0.48701896 0.23785418 0.99635812\n",
            "  0.66865703 0.94937348 0.13586729 0.31584928 0.50434264 0.92396655\n",
            "  0.25616114 0.5652563  0.99056435 0.63043842 0.45123523 0.63577752\n",
            "  0.57192588 0.99608555 0.51371924 0.66887382 0.22169712 1.01657936\n",
            "  0.57757468 0.60383625 0.82715941 0.77586566]\n",
            " [0.33969978 0.3478132  0.74026084 0.58192065 0.07515611 0.47824264\n",
            "  0.89342849 0.24968928 0.82237832 0.69235742 0.47880353 0.62385256\n",
            "  0.24453437 0.55219633 0.51083109 0.5854047  0.70962083 0.99421758\n",
            "  0.60014205 0.70785412 0.16572359 0.09765044 0.22152419 0.13664349\n",
            "  0.53562424 0.53536002 0.7239731  0.94513812 0.31976417 0.53604878\n",
            "  0.70581813 0.2856079  0.7981894  0.15161377 0.28380775 0.93632373\n",
            "  1.01403858 0.79822253 0.81321698 0.60014932 0.45771229 0.67567441\n",
            "  0.27875353 0.64755803 0.16539429 0.38229688 0.73547127 0.13867882\n",
            "  0.         0.44474214 0.71223877 0.36817    0.1533738  0.94888475\n",
            "  0.77314655 0.56640774 0.70495526 0.68694697 0.41219404 0.53984751\n",
            "  0.43963588 0.0986552  0.13086399 0.04185446 0.08486661 0.85082606\n",
            "  0.36493714 0.64383744 0.2900074  0.20030921 0.84383412 0.34119669\n",
            "  0.3910105  0.47225386 0.7057944  0.3489442  0.15011299 0.89926697\n",
            "  0.53255082 0.81107113 0.11416141 0.32252142 0.53610779 0.78748821\n",
            "  0.16177923 0.43645909 0.85442548 0.51046669 0.31300491 0.50622199\n",
            "  0.45591632 0.86635469 0.37646603 0.6824416  0.14428027 0.90931144\n",
            "  0.45169227 0.46595318 0.73270086 0.64607506]\n",
            " [0.24731832 0.11874286 0.61552783 0.14159948 0.49461278 0.17842087\n",
            "  0.57484756 0.61911212 0.39040708 0.29546421 0.66523065 0.57559829\n",
            "  0.45456645 0.25950645 0.27605484 0.17383331 0.29962021 0.63666592\n",
            "  0.17162961 0.59348529 0.55971717 0.53141184 0.44577988 0.55503283\n",
            "  0.23035528 0.34601111 0.50401131 0.63175628 0.24433846 0.23360512\n",
            "  0.34598043 0.34281742 0.439744   0.57497548 0.55072608 0.53569883\n",
            "  0.64888117 0.45944271 0.44224742 0.66782455 0.36561894 0.33956575\n",
            "  0.45245177 0.20285682 0.50504715 0.35133367 0.49658721 0.57908591\n",
            "  0.44474214 0.         0.27232684 0.19430475 0.49410157 0.62345697\n",
            "  0.61105409 0.15415599 0.30160274 0.30714172 0.37645035 0.40211951\n",
            "  0.14473003 0.34961318 0.50429155 0.43271732 0.36004408 0.48304709\n",
            "  0.19774315 0.44881582 0.61833758 0.2926481  0.42693654 0.37538617\n",
            "  0.05583907 0.45654062 0.42411021 0.11831235 0.37346017 0.574156\n",
            "  0.09424782 0.38679512 0.52834233 0.54383878 0.7209225  0.44350634\n",
            "  0.44512452 0.31123569 0.5084182  0.15820691 0.19383973 0.08507601\n",
            "  0.16679947 0.42630473 0.08384861 0.78150908 0.47536743 0.54328699\n",
            "  0.09270442 0.18605888 0.44435576 0.20966458]\n",
            " [0.49489926 0.38749185 0.74125543 0.13106732 0.76568881 0.28897117\n",
            "  0.55411465 0.85978285 0.22343842 0.14214934 0.90719736 0.7484605\n",
            "  0.67461908 0.29126909 0.35006155 0.14527163 0.24105077 0.55724243\n",
            "  0.11683356 0.72925049 0.81115472 0.80180105 0.67218481 0.82682127\n",
            "  0.36751415 0.40966551 0.59109297 0.60520261 0.49828923 0.37101668\n",
            "  0.35005897 0.54983008 0.27764799 0.84662444 0.76887694 0.40904576\n",
            "  0.55740077 0.44570698 0.39007173 0.87442586 0.48645544 0.25604578\n",
            "  0.71174669 0.09295904 0.74930204 0.51397963 0.57088081 0.84869057\n",
            "  0.71223877 0.27232684 0.         0.43802336 0.74005103 0.58523029\n",
            "  0.71451981 0.22937155 0.12929178 0.17804655 0.52427548 0.57211643\n",
            "  0.30321479 0.61480493 0.75586453 0.70321697 0.627428   0.29612039\n",
            "  0.39286745 0.56956251 0.84681327 0.53955476 0.29276378 0.55780903\n",
            "  0.32815784 0.66646553 0.36120996 0.36579747 0.64520104 0.54625675\n",
            "  0.18012628 0.13257317 0.78636481 0.80204593 0.95853415 0.2994361\n",
            "  0.68681139 0.44245434 0.3428593  0.31050129 0.42231601 0.24292106\n",
            "  0.36596158 0.21570277 0.33609145 0.98824623 0.72197306 0.47053889\n",
            "  0.310042   0.3065345  0.49085584 0.15072863]\n",
            " [0.05687592 0.0985803  0.4631979  0.31789679 0.39143485 0.35483451\n",
            "  0.53076874 0.59647053 0.47964806 0.48706686 0.47403944 0.39775041\n",
            "  0.48230217 0.44291637 0.44500966 0.365948   0.35566438 0.62659995\n",
            "  0.35716665 0.4362404  0.52049898 0.43081993 0.46554168 0.44067254\n",
            "  0.16749031 0.50870374 0.39039187 0.58452314 0.06335958 0.16787932\n",
            "  0.33817306 0.40738952 0.63378186 0.46119132 0.56943579 0.57204918\n",
            "  0.64602039 0.43100111 0.44547002 0.47546304 0.49801937 0.53294846\n",
            "  0.27510984 0.35063666 0.486404   0.45735208 0.39390646 0.48036501\n",
            "  0.36817    0.19430475 0.43802336 0.         0.47333875 0.58557199\n",
            "  0.4737244  0.22999955 0.49156214 0.50083783 0.48936009 0.23900877\n",
            "  0.31181863 0.29814007 0.47025238 0.33998142 0.29658318 0.67613312\n",
            "  0.31820847 0.31765913 0.61592944 0.30798165 0.48810685 0.45962477\n",
            "  0.15561827 0.26595631 0.6127504  0.22002269 0.24454606 0.53534865\n",
            "  0.2791994  0.56452929 0.47581486 0.36447691 0.52847027 0.63780667\n",
            "  0.43916168 0.44686397 0.70264551 0.15498613 0.27876908 0.19517873\n",
            "  0.09273525 0.53424458 0.20736991 0.58852805 0.45554537 0.54114227\n",
            "  0.12798446 0.35668427 0.37351152 0.32217472]\n",
            " [0.45839713 0.42467054 0.88236551 0.61628061 0.21141373 0.47015506\n",
            "  1.00387685 0.1261979  0.88433477 0.69045075 0.62975435 0.77130566\n",
            "  0.11985319 0.52559375 0.47240657 0.60032782 0.7845007  1.09459327\n",
            "  0.62341587 0.85046237 0.07555267 0.20877235 0.10202824 0.25313214\n",
            "  0.63552526 0.47650224 0.85151588 1.05785037 0.4374333  0.63666856\n",
            "  0.79977678 0.21875018 0.77085605 0.25843963 0.13122611 1.0187183\n",
            "  1.11200057 0.90106403 0.90611276 0.75340859 0.38249793 0.64867159\n",
            "  0.43139764 0.69105971 0.01337147 0.30721547 0.85987079 0.21862435\n",
            "  0.1533738  0.49410157 0.74005103 0.47333875 0.         1.05842673\n",
            "  0.91115706 0.63643423 0.70554286 0.67724402 0.32908733 0.67323119\n",
            "  0.44186687 0.17655273 0.03368981 0.19476058 0.18335266 0.82474925\n",
            "  0.35389071 0.77290615 0.14508688 0.20243183 0.91664443 0.25538936\n",
            "  0.44807184 0.6180767  0.65566053 0.37997782 0.29470129 1.00805951\n",
            "  0.56838779 0.81954225 0.08409789 0.47477386 0.68604067 0.75463437\n",
            "  0.05526708 0.37897293 0.81840569 0.59597539 0.31776186 0.56964354\n",
            "  0.55068886 0.91918566 0.41341159 0.83540463 0.01879721 1.00559689\n",
            "  0.52749895 0.45446941 0.84665429 0.70369301]\n",
            " [0.60922251 0.64251583 0.39808508 0.59511746 0.9586842  0.77759993\n",
            "  0.05570204 1.18203115 0.37999913 0.72554466 0.81580926 0.51173231\n",
            "  1.05506033 0.82900191 0.87099418 0.66915578 0.35590248 0.0932694\n",
            "  0.63203428 0.41512901 1.10560473 0.99702118 1.04111188 0.9954873\n",
            "  0.42434391 0.94171671 0.27209341 0.03010334 0.62913682 0.4228559\n",
            "  0.27773559 0.95811994 0.85932133 1.01481728 1.14716977 0.22695873\n",
            "  0.12142594 0.16408476 0.19707242 0.67566666 0.98364554 0.83509089\n",
            "  0.75928536 0.5307223  1.07138421 0.97478516 0.2461322  1.04473634\n",
            "  0.94888475 0.62345697 0.58523029 0.58557199 1.05842673 0.\n",
            "  0.3370769  0.47368383 0.71412509 0.76035785 0.99932369 0.44564226\n",
            "  0.75873893 0.88371133 1.05581052 0.91622159 0.88168163 0.86784299\n",
            "  0.82113701 0.34201994 1.1996709  0.8799477  0.30735251 0.9969592\n",
            "  0.64442082 0.56891452 0.94132969 0.73287494 0.80938504 0.05052772\n",
            "  0.61239526 0.68074558 1.05960451 0.81368407 0.83669805 0.8833539\n",
            "  1.0216773  0.92986058 0.91976026 0.47655699 0.80973398 0.53937083\n",
            "  0.51027692 0.4308694  0.70124664 0.75671453 1.04041843 0.12329041\n",
            "  0.55128231 0.79113645 0.21757715 0.46998532]\n",
            " [0.46417613 0.5655399  0.06227513 0.65902414 0.75836766 0.78934638\n",
            "  0.29965628 1.02233087 0.58314863 0.83098924 0.50938031 0.1955566\n",
            "  0.94517141 0.8660741  0.88710719 0.73363507 0.48415726 0.42818734\n",
            "  0.70495454 0.08710788 0.93883996 0.79210943 0.92609448 0.77751885\n",
            "  0.38370579 0.95677011 0.12407106 0.3121202  0.48455775 0.38017003\n",
            "  0.3729387  0.88053142 0.98368492 0.79404757 1.02453285 0.51200507\n",
            "  0.45680346 0.32244866 0.39463561 0.34951052 0.96383145 0.91860029\n",
            "  0.52327737 0.62961863 0.92450564 0.92941617 0.14830561 0.83388064\n",
            "  0.77314655 0.61105409 0.71451981 0.4737244  0.91115706 0.3370769\n",
            "  0.         0.51054932 0.82615373 0.85904741 0.96057269 0.24037734\n",
            "  0.75446562 0.73806157 0.89846033 0.73359305 0.72828611 1.0092613\n",
            "  0.7838362  0.16233297 1.05598652 0.77609214 0.52945945 0.93334897\n",
            "  0.60194829 0.31109589 1.01771321 0.68425865 0.6230438  0.31487157\n",
            "  0.65023617 0.84006029 0.88701319 0.54928762 0.51896731 0.99949439\n",
            "  0.88917264 0.91062673 1.05235823 0.45808802 0.7504217  0.54840569\n",
            "  0.44750691 0.65029048 0.66273714 0.42107611 0.8956863  0.40829985\n",
            "  0.51867826 0.79697692 0.23437218 0.56531696]\n",
            " [0.28476736 0.21868636 0.52828527 0.14847534 0.60449229 0.30623346\n",
            "  0.42735413 0.76251008 0.25653625 0.32349568 0.68385597 0.52192735\n",
            "  0.6061629  0.36810352 0.40234656 0.22362272 0.14834727 0.4828889\n",
            "  0.19449185 0.51242257 0.69761593 0.64327797 0.5961151  0.65951485\n",
            "  0.13982344 0.47378451 0.39222663 0.48409132 0.29333713 0.14344623\n",
            "  0.19635908 0.49675528 0.47766801 0.68003904 0.70189522 0.38417684\n",
            "  0.4947689  0.31066672 0.28851817 0.64505433 0.5100391  0.40822154\n",
            "  0.50313733 0.13641335 0.64811147 0.50302299 0.37824193 0.69260604\n",
            "  0.56640774 0.15415599 0.22937155 0.22999955 0.63643423 0.47368383\n",
            "  0.51054932 0.         0.32085113 0.34955954 0.52638239 0.3443376\n",
            "  0.28509178 0.47830574 0.64296923 0.54660472 0.48452749 0.50876457\n",
            "  0.35051626 0.35491334 0.76641049 0.43883814 0.28043877 0.52918456\n",
            "  0.18947721 0.43759901 0.50881468 0.27089213 0.46561395 0.42533641\n",
            "  0.14597347 0.36187879 0.66126795 0.59048676 0.73326395 0.49114993\n",
            "  0.59036411 0.45618693 0.54739788 0.08308028 0.34745041 0.06948965\n",
            "  0.14427957 0.30610461 0.23692924 0.75889727 0.6176432  0.38936488\n",
            "  0.11506533 0.31879246 0.31215505 0.09310528]\n",
            " [0.54678401 0.41940724 0.84779576 0.17938163 0.76681528 0.23539261\n",
            "  0.68193319 0.8174636  0.35044924 0.01797181 0.9653297  0.84055749\n",
            "  0.62333368 0.20033105 0.26301922 0.12834044 0.36581791 0.68628189\n",
            "  0.13547219 0.83291318 0.77987808 0.79985003 0.62516621 0.83042258\n",
            "  0.45969893 0.30983846 0.70437571 0.73366998 0.54536029 0.4633774\n",
            "  0.47128678 0.49776241 0.15756572 0.84913812 0.71286058 0.53623895\n",
            "  0.68592848 0.57172621 0.5183581  0.95364127 0.39988606 0.13078021\n",
            "  0.75382163 0.19760467 0.71301251 0.44254155 0.68636445 0.84362329\n",
            "  0.70495526 0.30160274 0.12929178 0.49156214 0.70554286 0.71412509\n",
            "  0.82615373 0.32085113 0.         0.05205886 0.4455031  0.66230998\n",
            "  0.26710515 0.6063751  0.72619809 0.70353547 0.62233645 0.18900426\n",
            "  0.35199946 0.67450119 0.79546181 0.51488331 0.42114963 0.49226482\n",
            "  0.35323765 0.74216056 0.23354537 0.35922542 0.66447352 0.67447329\n",
            "  0.21239989 0.11729505 0.76298033 0.84522098 1.02003069 0.17469807\n",
            "  0.65051223 0.36464171 0.22679141 0.39255589 0.39535476 0.30831923\n",
            "  0.43717961 0.3329635  0.33793545 1.06806689 0.68863775 0.59983067\n",
            "  0.36885259 0.25132132 0.60967235 0.26317798]\n",
            " [0.55445656 0.42154891 0.87782463 0.20232314 0.7515596  0.20989328\n",
            "  0.72658554 0.78565516 0.40082064 0.03616683 0.9721111  0.86333494\n",
            "  0.58958326 0.15924658 0.22127167 0.13604006 0.40883214 0.73511344\n",
            "  0.15602187 0.86148304 0.75225874 0.78315678 0.5929396  0.81567887\n",
            "  0.48571455 0.26241511 0.73863912 0.77913618 0.5510716  0.48941448\n",
            "  0.51135621 0.46502296 0.13334352 0.83385065 0.67683386 0.58662832\n",
            "  0.73544732 0.61478963 0.56385671 0.96986246 0.3558969  0.07893771\n",
            "  0.75513033 0.23620042 0.68400561 0.40338057 0.72195928 0.82544125\n",
            "  0.68694697 0.30714172 0.17804655 0.50083783 0.67724402 0.76035785\n",
            "  0.85904741 0.34955954 0.05205886 0.         0.40370921 0.68525344\n",
            "  0.24744497 0.58894263 0.69953384 0.68849602 0.60601933 0.17632383\n",
            "  0.32664434 0.70446819 0.76060766 0.49238206 0.47078399 0.45464315\n",
            "  0.35477733 0.75794723 0.18317218 0.3477196  0.65733385 0.71964128\n",
            "  0.22569709 0.16044584 0.73839143 0.84632367 1.02803291 0.14219396\n",
            "  0.62199669 0.3242721  0.20305919 0.41558288 0.37440321 0.32750648\n",
            "  0.45478424 0.38488143 0.33070092 1.08413945 0.66090161 0.64764445\n",
            "  0.38323432 0.22407871 0.64756515 0.30174278]\n",
            " [0.51281305 0.39504419 0.95253672 0.43300995 0.48735015 0.2394436\n",
            "  0.95122634 0.40953465 0.72185566 0.42792432 0.84771591 0.87890756\n",
            "  0.21508673 0.24529755 0.18267688 0.38133211 0.66184021 1.00754248\n",
            "  0.41636143 0.92550559 0.40169123 0.50419505 0.22808689 0.54699919\n",
            "  0.59786066 0.15716682 0.8658244  1.00813634 0.49584077 0.60064105\n",
            "  0.72159418 0.12691401 0.46749478 0.55924309 0.28525423 0.89134958\n",
            "  1.01744813 0.83550132 0.81386255 0.9203488  0.05544034 0.35287746\n",
            "  0.61692619 0.51322127 0.33049526 0.03412652 0.86271482 0.53121818\n",
            "  0.41219404 0.37645035 0.52427548 0.48936009 0.32908733 0.99932369\n",
            "  0.96057269 0.52638239 0.4455031  0.40370921 0.         0.72836117\n",
            "  0.24422567 0.34039901 0.35998478 0.43620142 0.36184271 0.52063691\n",
            "  0.1807566  0.80053305 0.37145565 0.23563935 0.77517492 0.07407821\n",
            "  0.36536406 0.73218697 0.33516835 0.27810772 0.47307217 0.95029864\n",
            "  0.39909197 0.56228398 0.40881956 0.692669   0.90782688 0.44608564\n",
            "  0.27929026 0.08200458 0.50484539 0.53091311 0.21061846 0.45996336\n",
            "  0.51906314 0.73457948 0.30442296 1.02314852 0.31846147 0.91377898\n",
            "  0.4576592  0.22249861 0.81804239 0.55380852]\n",
            " [0.2240827  0.33533269 0.22432153 0.48396129 0.53334978 0.57814003\n",
            "  0.39134225 0.78727571 0.51404928 0.66297782 0.39461463 0.17826973\n",
            "  0.7047943  0.66159972 0.67328306 0.55109424 0.38737095 0.51475226\n",
            "  0.52979003 0.19732602 0.70479469 0.56950607 0.68574374 0.56127149\n",
            "  0.20474873 0.74021358 0.18825632 0.43361542 0.24430666 0.20119811\n",
            "  0.30225571 0.64251477 0.81692631 0.57953444 0.78461869 0.52493857\n",
            "  0.54045417 0.3334364  0.38436239 0.30918425 0.7362015  0.73322895\n",
            "  0.3155983  0.47958715 0.68660114 0.69626575 0.20567831 0.61453049\n",
            "  0.53984751 0.40211951 0.57211643 0.23900877 0.67323119 0.44564226\n",
            "  0.24037734 0.3443376  0.66230998 0.68525344 0.72836117 0.\n",
            "  0.53877589 0.49883238 0.66211823 0.50180816 0.48993453 0.85120219\n",
            "  0.55592422 0.10801483 0.81829319 0.53627657 0.48726092 0.69679493\n",
            "  0.38119263 0.13006523 0.82438778 0.45670137 0.3907749  0.40167503\n",
            "  0.46193279 0.70454558 0.65400136 0.36858337 0.43041728 0.82731454\n",
            "  0.64952056 0.68434025 0.88701814 0.2699847  0.51777782 0.35820573\n",
            "  0.23604662 0.58125199 0.43950897 0.42035177 0.65732454 0.45189707\n",
            "  0.3110037  0.58305928 0.23656765 0.42459084]\n",
            " [0.35502514 0.21526685 0.75656195 0.19334982 0.50425025 0.0457975\n",
            "  0.71224527 0.55848049 0.48211845 0.25354668 0.75682626 0.70736016\n",
            "  0.37140515 0.13535133 0.1345191  0.15957542 0.41763947 0.76385491\n",
            "  0.18709836 0.73327386 0.51515346 0.53571407 0.36925985 0.56845026\n",
            "  0.37506317 0.20248361 0.64866399 0.76904879 0.34521422 0.37829508\n",
            "  0.48140123 0.2469007  0.36486631 0.58650065 0.46587919 0.64775946\n",
            "  0.77337963 0.59569848 0.57065657 0.78433412 0.22495477 0.24635895\n",
            "  0.5296746  0.27404996 0.45020274 0.22480824 0.64129207 0.57822282\n",
            "  0.43963588 0.14473003 0.30321479 0.31181863 0.44186687 0.75873893\n",
            "  0.75446562 0.28509178 0.26710515 0.24744497 0.24422567 0.53877589\n",
            "  0.         0.34151318 0.46077953 0.44128102 0.35861132 0.41570506\n",
            "  0.08976853 0.59213269 0.54366112 0.24783041 0.53236122 0.26091487\n",
            "  0.15816389 0.57722804 0.30746657 0.10847812 0.41720096 0.71041505\n",
            "  0.15542531 0.37844606 0.49625317 0.61897241 0.81529642 0.35909004\n",
            "  0.38745956 0.17114065 0.42688663 0.30273837 0.12825627 0.22192227\n",
            "  0.30759315 0.50150961 0.10598275 0.89584652 0.42439791 0.67010348\n",
            "  0.23597041 0.04486985 0.58755948 0.31015294]\n",
            " [0.28189989 0.26040764 0.71209697 0.48493486 0.16433689 0.38089502\n",
            "  0.82888686 0.29834141 0.73256036 0.59387314 0.51428763 0.60782128\n",
            "  0.21800859 0.45709311 0.4188386  0.48682854 0.62414209 0.92273012\n",
            "  0.50202881 0.68075363 0.22364833 0.19424381 0.1961429  0.22872578\n",
            "  0.46266935 0.44917681 0.67529431 0.88242894 0.2609212  0.46358099\n",
            "  0.62978494 0.21496094 0.70190357 0.24591732 0.28736224 0.85483336\n",
            "  0.94107005 0.72802891 0.7368726  0.6106968  0.38017427 0.57982509\n",
            "  0.2907745  0.55235643 0.189836   0.30798343 0.68336594 0.23726248\n",
            "  0.0986552  0.34961318 0.61480493 0.29814007 0.17655273 0.88371133\n",
            "  0.73806157 0.47830574 0.6063751  0.58894263 0.34039901 0.49883238\n",
            "  0.34151318 0.         0.17218134 0.1032565  0.02148425 0.75420838\n",
            "  0.26940375 0.59702597 0.32112231 0.11047208 0.75796393 0.27532624\n",
            "  0.29721747 0.45369175 0.61480215 0.25054083 0.14271082 0.83347351\n",
            "  0.43556982 0.71246623 0.18325819 0.35691155 0.57389896 0.69214396\n",
            "  0.15153252 0.35218156 0.75940745 0.4288715  0.21588621 0.41539102\n",
            "  0.37920249 0.77399773 0.27873882 0.70397338 0.15957374 0.83515366\n",
            "  0.36505134 0.36913763 0.67079884 0.55428628]\n",
            " [0.45140609 0.42815605 0.86777484 0.63030809 0.1823432  0.49111845\n",
            "  1.0009221  0.12662205 0.89350257 0.71148109 0.60223082 0.75375145\n",
            "  0.15312518 0.54994486 0.4982673  0.61799418 0.79044917 1.09464961\n",
            "  0.63963133 0.83560435 0.05554652 0.17687651 0.13449088 0.22090346\n",
            "  0.63470078 0.50523234 0.84282738 1.05427895 0.43060269 0.63565609\n",
            "  0.80103834 0.24615489 0.79617315 0.2255043  0.16009792 1.02336488\n",
            "  1.11274222 0.90014392 0.90788824 0.73005163 0.41279042 0.67359729\n",
            "  0.40947946 0.70357489 0.04022698 0.33698398 0.85228555 0.18503956\n",
            "  0.13086399 0.50429155 0.75586453 0.47025238 0.03368981 1.05581052\n",
            "  0.89846033 0.64296923 0.72619809 0.69953384 0.35998478 0.66211823\n",
            "  0.46077953 0.17218134 0.         0.17271733 0.1750636  0.8499984\n",
            "  0.37420984 0.76355789 0.15950029 0.2163282  0.923407   0.28602421\n",
            "  0.45621314 0.60136887 0.68386669 0.39271408 0.2777257  1.00560101\n",
            "  0.58186174 0.8391598  0.05053741 0.44851276 0.65786766 0.78071894\n",
            "  0.08168876 0.40696297 0.84507269 0.59865322 0.33461109 0.57731965\n",
            "  0.55080964 0.93042101 0.42538091 0.80965828 0.04163206 1.00664644\n",
            "  0.53209728 0.47589442 0.84240082 0.71327582]\n",
            " [0.30741614 0.32935759 0.69983099 0.57227147 0.06328752 0.4819639\n",
            "  0.86063761 0.2904183  0.80312441 0.69172811 0.44009419 0.58244973\n",
            "  0.28061679 0.5597571  0.52209403 0.58119888 0.68733266 0.96388411\n",
            "  0.59342645 0.66733969 0.20604895 0.09869608 0.25748485 0.1271832\n",
            "  0.50725299 0.55156054 0.68705049 0.91165312 0.28812632 0.50746066\n",
            "  0.6781455  0.30932708 0.8036927  0.14560559 0.32463429 0.91098381\n",
            "  0.98430492 0.76772433 0.78540183 0.55864835 0.47908254 0.68200678\n",
            "  0.23695411 0.63465078 0.20695804 0.40501467 0.69934233 0.1468451\n",
            "  0.04185446 0.43271732 0.70321697 0.33998142 0.19476058 0.91622159\n",
            "  0.73359305 0.54660472 0.70353547 0.68849602 0.43620142 0.50180816\n",
            "  0.44128102 0.1032565  0.17271733 0.         0.08360765 0.85567537\n",
            "  0.37211707 0.60668496 0.33178895 0.21296984 0.8214635  0.36729704\n",
            "  0.37776446 0.43125379 0.71805277 0.34474732 0.1110542  0.86690199\n",
            "  0.52309149 0.80672525 0.15356522 0.28303384 0.49798848 0.79455044\n",
            "  0.1992355  0.45383613 0.86194526 0.48663104 0.31771968 0.48904907\n",
            "  0.42985729 0.84943118 0.36968832 0.64196925 0.18487228 0.88027393\n",
            "  0.43154021 0.47082239 0.69937045 0.62915393]\n",
            " [0.27638084 0.26591997 0.70085691 0.49706157 0.14583894 0.39876036\n",
            "  0.82662802 0.30168186 0.73980257 0.61013955 0.4939718  0.59414738\n",
            "  0.23452797 0.47614998 0.43888438 0.50156148 0.62923465 0.92270363\n",
            "  0.51562736 0.66925829 0.22395896 0.17751626 0.21221619 0.21020946\n",
            "  0.46265102 0.47013112 0.66856674 0.87967151 0.25555302 0.46339533\n",
            "  0.63110001 0.23626816 0.72027657 0.22794087 0.29964465 0.8583705\n",
            "  0.9415451  0.72744168 0.73839395 0.59303606 0.40163878 0.59847355\n",
            "  0.27201108 0.56289322 0.19672392 0.32945839 0.67751514 0.22215322\n",
            "  0.08486661 0.36004408 0.627428   0.29658318 0.18335266 0.88168163\n",
            "  0.72828611 0.48452749 0.62233645 0.60601933 0.36184271 0.48993453\n",
            "  0.35861132 0.02148425 0.1750636  0.08360765 0.         0.77237418\n",
            "  0.28851155 0.58971463 0.32843953 0.13158512 0.76330732 0.29649172\n",
            "  0.30661345 0.44009339 0.63495049 0.26487966 0.1244226  0.83159434\n",
            "  0.44769363 0.72727336 0.18010582 0.33640879 0.55347524 0.71097497\n",
            "  0.16408032 0.37336838 0.77835135 0.43207224 0.2342178  0.42301266\n",
            "  0.38035791 0.78266456 0.29181197 0.68513984 0.16743941 0.83597278\n",
            "  0.37041043 0.38740337 0.66760785 0.56254874]\n",
            " [0.73024323 0.59787251 1.03347637 0.3682582  0.91820081 0.37374747\n",
            "  0.84212584 0.92392582 0.48920313 0.19013257 1.14823063 1.02942033\n",
            "  0.72589848 0.30081104 0.35253664 0.31021432 0.53605586 0.82667765\n",
            "  0.32361627 1.0196248  0.9003015  0.94805082 0.73301121 0.98258345\n",
            "  0.64813    0.36401895 0.88631645 0.89029877 0.72721407 0.65179632\n",
            "  0.64602785 0.60678583 0.05392099 1.00010302 0.80509913 0.6675798\n",
            "  0.82143149 0.73819777 0.67791057 1.14198782 0.46650723 0.17658407\n",
            "  0.9313076  0.38007881 0.82995355 0.5296878  0.86668452 0.98830908\n",
            "  0.85082606 0.48304709 0.29612039 0.67613312 0.82474925 0.86784299\n",
            "  1.0092613  0.50876457 0.18900426 0.17632383 0.52063691 0.85120219\n",
            "  0.41570506 0.75420838 0.8499984  0.85567537 0.77237418 0.\n",
            "  0.48607949 0.86056377 0.89101583 0.65231694 0.56256978 0.5837047\n",
            "  0.53110096 0.93029434 0.19964546 0.52023783 0.83078787 0.83290584\n",
            "  0.39850254 0.18783553 0.89224121 1.02244289 1.20393929 0.07616394\n",
            "  0.76980052 0.4509956  0.05542422 0.58154136 0.53832376 0.49692692\n",
            "  0.62561443 0.45014957 0.50542754 1.25639764 0.8097413  0.74772635\n",
            "  0.55605881 0.38507127 0.78697509 0.44394434]\n",
            " [0.34997399 0.22060026 0.77896811 0.27928873 0.43373841 0.11708367\n",
            "  0.77218318 0.4690686  0.56558737 0.33730294 0.72573327 0.7145516\n",
            "  0.28185711 0.1876907  0.1543908  0.24929586 0.49149419 0.83336484\n",
            "  0.27648575 0.75315138 0.42793488 0.46237562 0.27949141 0.4981159\n",
            "  0.41718624 0.20189572 0.68627041 0.82907471 0.33573205 0.41999514\n",
            "  0.54372295 0.15818761 0.43328744 0.51507056 0.37673969 0.72535984\n",
            "  0.84473557 0.65708614 0.63902898 0.7734092  0.18039642 0.31074792\n",
            "  0.49394962 0.35933023 0.36178295 0.15388304 0.68248758 0.50223064\n",
            "  0.36493714 0.19774315 0.39286745 0.31820847 0.35389071 0.82113701\n",
            "  0.7838362  0.35051626 0.35199946 0.32664434 0.1807566  0.55592422\n",
            "  0.08976853 0.26940375 0.37420984 0.37211707 0.28851155 0.48607949\n",
            "  0.         0.62273488 0.45394929 0.16653361 0.61207138 0.17963026\n",
            "  0.1848764  0.57414205 0.34955717 0.09963941 0.3663496  0.77173327\n",
            "  0.2370567  0.46565939 0.41187319 0.57941777 0.78539785 0.42280362\n",
            "  0.29909527 0.1286594  0.49000922 0.35029994 0.05699485 0.28243992\n",
            "  0.33935637 0.58838989 0.12373826 0.8815482  0.33677746 0.73976565\n",
            "  0.27690279 0.1026363  0.63733087 0.38937273]\n",
            " [0.31633644 0.40601766 0.17339512 0.50280666 0.64021539 0.62716898\n",
            "  0.28905605 0.88947569 0.46994825 0.67802598 0.4802831  0.20375597\n",
            "  0.79663452 0.70464762 0.72485178 0.57602101 0.35415266 0.41640206\n",
            "  0.54906691 0.15971316 0.80787075 0.67673388 0.77863126 0.66915461\n",
            "  0.22294376 0.7944481  0.08064022 0.32809604 0.33729007 0.21933485\n",
            "  0.2508682  0.72488907 0.83187549 0.68748575 0.87995223 0.44719342\n",
            "  0.44319535 0.24874898 0.3102048  0.36338905 0.80239617 0.7610779\n",
            "  0.4231767  0.48083462 0.78626577 0.76985483 0.09819663 0.72211786\n",
            "  0.64383744 0.44881582 0.56956251 0.31765913 0.77290615 0.34201994\n",
            "  0.16233297 0.35491334 0.67450119 0.70446819 0.80053305 0.10801483\n",
            "  0.59213269 0.59702597 0.76355789 0.60668496 0.58971463 0.86056377\n",
            "  0.62273488 0.         0.91790814 0.62431536 0.43004206 0.77600884\n",
            "  0.44003666 0.2269025  0.85856803 0.52331961 0.49590885 0.30055616\n",
            "  0.49084556 0.69901599 0.75781123 0.47225964 0.50811703 0.8460025\n",
            "  0.74607128 0.74898893 0.90129148 0.29715289 0.59106756 0.38797646\n",
            "  0.28531615 0.53848102 0.50100062 0.46436301 0.7564339  0.36249046\n",
            "  0.35637339 0.63468105 0.14592803 0.41884853]\n",
            " [0.60299383 0.56099621 1.02646824 0.72966038 0.33303625 0.56365935\n",
            "  1.14547681 0.06460191 1.00764801 0.77904815 0.75169993 0.91324399\n",
            "  0.17273395 0.60249725 0.54305511 0.70290436 0.91472192 1.23292518\n",
            "  0.73031814 0.9944186  0.13491125 0.3175286  0.1750512  0.35707866\n",
            "  0.77571597 0.5285734  0.99638374 1.19993026 0.5820033  0.77704304\n",
            "  0.93713729 0.29859103 0.8375052  0.35528038 0.08623116 1.15044471\n",
            "  1.24944389 1.04079518 1.04253591 0.88668278 0.42662325 0.71961917\n",
            "  0.56789446 0.80765338 0.13171561 0.3616206  1.00441841 0.30701233\n",
            "  0.2900074  0.61833758 0.84681327 0.61592944 0.14508688 1.1996709\n",
            "  1.05598652 0.76641049 0.79546181 0.76060766 0.37145565 0.81829319\n",
            "  0.54366112 0.32112231 0.15950029 0.33178895 0.32843953 0.89101583\n",
            "  0.45394929 0.91790814 0.         0.32761481 1.04481537 0.30802223\n",
            "  0.5769335  0.76074029 0.70609582 0.50072039 0.43702163 1.14920486\n",
            "  0.6838755  0.91220106 0.18619472 0.60160389 0.80523872 0.81708195\n",
            "  0.17835566 0.44106596 0.87629933 0.73220864 0.43019855 0.69804481\n",
            "  0.6901935  1.03744651 0.53513571 0.96251535 0.16155037 1.14280022\n",
            "  0.66142089 0.54662492 0.98943635 0.82715323]\n",
            " [0.31222301 0.23746266 0.75810717 0.41429082 0.27192192 0.28249741\n",
            "  0.82685144 0.32658699 0.68304243 0.50103542 0.61225823 0.66787946\n",
            "  0.17566274 0.35254242 0.31061762 0.40267718 0.58717307 0.90831263\n",
            "  0.4234316  0.72846606 0.27170152 0.2979481  0.1611932  0.3357607\n",
            "  0.45610979 0.33874837 0.69828924 0.88243394 0.29227079 0.45784886\n",
            "  0.61215213 0.11664714 0.59930067 0.35169067 0.2674614  0.82283015\n",
            "  0.9239287  0.71860917 0.71650254 0.69227686 0.27166715 0.47645985\n",
            "  0.38229023 0.48863596 0.21287237 0.20214266 0.70171365 0.33624226\n",
            "  0.20030921 0.2926481  0.53955476 0.30798165 0.20243183 0.8799477\n",
            "  0.77609214 0.43883814 0.51488331 0.49238206 0.23563935 0.53627657\n",
            "  0.24783041 0.11047208 0.2163282  0.21296984 0.13158512 0.65231694\n",
            "  0.16653361 0.62431536 0.32761481 0.         0.71779346 0.17768292\n",
            "  0.24937093 0.51588528 0.50598671 0.17754879 0.23744507 0.82943205\n",
            "  0.3661364  0.62570195 0.24877007 0.45703537 0.67233908 0.58775814\n",
            "  0.15247873 0.24179085 0.65447661 0.40693006 0.11979633 0.37069311\n",
            "  0.37011743 0.71685398 0.21110539 0.79179982 0.18388602 0.8172267\n",
            "  0.33474973 0.26891608 0.67563253 0.50228637]\n",
            " [0.53500786 0.49761942 0.57478675 0.34292734 0.87689066 0.5374438\n",
            "  0.28941905 1.04262247 0.0733727  0.43479578 0.87829951 0.63360473\n",
            "  0.88129606 0.56763733 0.61945427 0.40569188 0.13421997 0.26610868\n",
            "  0.36767371 0.57497589 0.97802201 0.91612773 0.87271451 0.928413\n",
            "  0.33329166 0.68605053 0.41157415 0.3318733  0.54897231 0.33469567\n",
            "  0.18501819 0.76631203 0.55769517 0.94896232 0.97754352 0.11841618\n",
            "  0.26477909 0.2092764  0.13694923 0.7892977  0.74754926 0.54872576\n",
            "  0.74081662 0.264586   0.92821413 0.75716145 0.38336045 0.96572505\n",
            "  0.84383412 0.42693654 0.29276378 0.48810685 0.91664443 0.30735251\n",
            "  0.52945945 0.28043877 0.42114963 0.47078399 0.77517492 0.48726092\n",
            "  0.53236122 0.75796393 0.923407   0.8214635  0.76330732 0.56256978\n",
            "  0.61207138 0.43004206 1.04481537 0.71779346 0.         0.79111988\n",
            "  0.46881691 0.61280331 0.65395616 0.54518452 0.73235918 0.27788634\n",
            "  0.37698616 0.37484032 0.941146   0.81930159 0.91721271 0.58346676\n",
            "  0.86988508 0.6972181  0.61546598 0.33531487 0.61943891 0.34721908\n",
            "  0.39540264 0.12719176 0.51067801 0.89379662 0.89784826 0.18546856\n",
            "  0.39298099 0.55366186 0.29815241 0.22275962]\n",
            " [0.4757983  0.37117932 0.92087955 0.45426368 0.41625535 0.26885835\n",
            "  0.94686622 0.34104549 0.74280975 0.47528664 0.78771928 0.8389177\n",
            "  0.1439136  0.29565418 0.23528123 0.41262806 0.67110762 1.0120056\n",
            "  0.44471405 0.89256152 0.32858783 0.43168882 0.15510877 0.47489883\n",
            "  0.58417637 0.22452744 0.84512131 1.00362351 0.45734881 0.58663634\n",
            "  0.72044826 0.0613212  0.53002765 0.4866297  0.2228971  0.90487602\n",
            "  1.02383771 0.83292407 0.81758958 0.86963379 0.1272074  0.41159793\n",
            "  0.55925793 0.53496166 0.25721624 0.05419238 0.84452385 0.45766295\n",
            "  0.34119669 0.37538617 0.55780903 0.45962477 0.25538936 0.9969592\n",
            "  0.93334897 0.52918456 0.49226482 0.45464315 0.07407821 0.69679493\n",
            "  0.26091487 0.27532624 0.28602421 0.36729704 0.29649172 0.5837047\n",
            "  0.17963026 0.77600884 0.30802223 0.17768292 0.79111988 0.\n",
            "  0.35359162 0.68894722 0.40415384 0.26458031 0.41285578 0.94714625\n",
            "  0.41479164 0.60954536 0.3347534  0.6312057  0.84763911 0.51050103\n",
            "  0.20521725 0.13306223 0.57143131 0.52205118 0.18888764 0.46045428\n",
            "  0.50152595 0.76184208 0.29571267 0.96947765 0.24446577 0.91854275\n",
            "  0.44731729 0.25129629 0.80643936 0.56836094]\n",
            " [0.20375592 0.06677159 0.60083011 0.19742125 0.43937193 0.19981134\n",
            "  0.59366001 0.57390078 0.43737716 0.3459341  0.61815271 0.54924494\n",
            "  0.41795256 0.28735735 0.2925642  0.22490138 0.33780311 0.66479093\n",
            "  0.22608872 0.57668198 0.5113497  0.47642358 0.40715952 0.4994762\n",
            "  0.23258353 0.35902375 0.501749   0.65032351 0.19773843 0.23531935\n",
            "  0.36983128 0.31390688 0.48589282 0.51947249 0.51323458 0.57357751\n",
            "  0.67885097 0.48068732 0.4711724  0.6308401  0.3628287  0.37993438\n",
            "  0.40098376 0.25695788 0.4595081  0.3370319  0.4976223  0.52435979\n",
            "  0.3910105  0.05583907 0.32815784 0.15561827 0.44807184 0.64442082\n",
            "  0.60194829 0.18947721 0.35323765 0.35477733 0.36536406 0.38119263\n",
            "  0.15816389 0.29721747 0.45621314 0.37776446 0.30661345 0.53110096\n",
            "  0.1848764  0.44003666 0.5769335  0.24937093 0.46881691 0.35359162\n",
            "  0.         0.42154255 0.4572358  0.08905913 0.3177711  0.59435609\n",
            "  0.14968958 0.44177565 0.477862   0.49234351 0.6748313  0.48741561\n",
            "  0.40112344 0.30912123 0.55350803 0.16848739 0.1653737  0.12161717\n",
            "  0.15513219 0.47685683 0.06133512 0.74356258 0.42927633 0.57238321\n",
            "  0.09372786 0.20287148 0.45380651 0.2576731 ]\n",
            " [0.22451704 0.36219136 0.2704182  0.56313459 0.45006626 0.62066894\n",
            "  0.51583495 0.72167117 0.63441918 0.74017129 0.26585471 0.15412957\n",
            "  0.67020881 0.70887176 0.7093833  0.6219072  0.50517877 0.641897\n",
            "  0.60682196 0.23757721 0.63723781 0.48252638 0.64906842 0.46656052\n",
            "  0.30560385 0.77095514 0.30102193 0.55444978 0.23852883 0.30258401\n",
            "  0.42846294 0.63015705 0.89125985 0.48296593 0.73966663 0.65471105\n",
            "  0.66813258 0.46335236 0.51404989 0.21191904 0.74953873 0.79603644\n",
            "  0.21219045 0.57368231 0.63119218 0.69851997 0.32380351 0.52326451\n",
            "  0.47225386 0.45654062 0.66646553 0.26595631 0.6180767  0.56891452\n",
            "  0.31109589 0.43759901 0.74216056 0.75794723 0.73218697 0.13006523\n",
            "  0.57722804 0.45369175 0.60136887 0.43125379 0.44009339 0.93029434\n",
            "  0.57414205 0.2269025  0.76074029 0.51588528 0.61280331 0.68894722\n",
            "  0.42154255 0.         0.87840467 0.4802635  0.32372956 0.52705193\n",
            "  0.53240188 0.79855681 0.58443287 0.24705127 0.30537079 0.89781529\n",
            "  0.60416603 0.70145454 0.96097045 0.35601574 0.52706674 0.43400942\n",
            "  0.30509456 0.70025006 0.47187312 0.32621456 0.60429371 0.58152489\n",
            "  0.37472202 0.62203531 0.36523542 0.5256894 ]\n",
            " [0.65983651 0.51983716 1.03032054 0.36176561 0.77789095 0.2618583\n",
            "  0.90581696 0.7444092  0.58383244 0.21920233 1.06405095 0.99942409\n",
            "  0.54806466 0.17212693 0.19614473 0.28538022 0.58731406 0.91808274\n",
            "  0.31778789 1.01093628 0.73047273 0.8031795  0.55833945 0.84172718\n",
            "  0.63579223 0.17969374 0.90093898 0.95924782 0.65137979 0.63943584\n",
            "  0.68532145 0.43775378 0.15325631 0.85739684 0.6198739  0.7696507\n",
            "  0.91860577 0.79230505 0.7443857  1.08807101 0.27975581 0.10624779\n",
            "  0.83560788 0.41235242 0.65906824 0.35029488 0.88689346 0.83860612\n",
            "  0.7057944  0.42411021 0.36120996 0.6127504  0.65566053 0.94132969\n",
            "  1.01771321 0.50881468 0.23354537 0.18317218 0.33516835 0.82438778\n",
            "  0.30746657 0.61480215 0.68386669 0.71805277 0.63495049 0.19964546\n",
            "  0.34955717 0.85856803 0.70609582 0.50598671 0.65395616 0.40415384\n",
            "  0.4572358  0.87840467 0.         0.4147844  0.71499516 0.89950073\n",
            "  0.36772939 0.31763757 0.72966594 0.9238241  1.1226687  0.12421933\n",
            "  0.60224016 0.27690533 0.17234429 0.56205557 0.40640008 0.47099723\n",
            "  0.58839537 0.56504278 0.41253715 1.20062697 0.64248366 0.83008048\n",
            "  0.51348659 0.26501755 0.81710364 0.47637978]\n",
            " [0.25583138 0.12169072 0.67945247 0.23795012 0.40802449 0.15415573\n",
            "  0.68242398 0.50376509 0.50702559 0.34803372 0.64930664 0.61749996\n",
            "  0.33625706 0.24305551 0.23121126 0.23670985 0.41765025 0.75113269\n",
            "  0.25171789 0.65381967 0.44825188 0.44192699 0.32760599 0.47136724\n",
            "  0.32100736 0.29070224 0.58772969 0.73913948 0.24355045 0.32364092\n",
            "  0.4573135  0.22660759 0.47058363 0.49025838 0.43241627 0.65383276\n",
            "  0.76436948 0.56897156 0.55698485 0.6836206  0.27998174 0.35402465\n",
            "  0.42133228 0.31113393 0.39036985 0.24886013 0.58475293 0.48701896\n",
            "  0.3489442  0.11831235 0.36579747 0.22002269 0.37997782 0.73287494\n",
            "  0.68425865 0.27089213 0.35922542 0.3477196  0.27810772 0.45670137\n",
            "  0.10847812 0.25054083 0.39271408 0.34474732 0.26487966 0.52023783\n",
            "  0.09963941 0.52331961 0.50072039 0.17754879 0.54518452 0.26458031\n",
            "  0.08905913 0.4802635  0.4147844  0.         0.31060782 0.6829177\n",
            "  0.18921316 0.4624137  0.42096996 0.51050166 0.70806143 0.46634458\n",
            "  0.32936617 0.22765773 0.53404959 0.25747243 0.07716325 0.20141116\n",
            "  0.24097283 0.53939726 0.03451044 0.79374337 0.36140972 0.65823096\n",
            "  0.18277723 0.14978296 0.54268385 0.32643992]\n",
            " [0.20407354 0.25845297 0.59048021 0.51498464 0.14987284 0.46174347\n",
            "  0.75370629 0.39961817 0.72059906 0.65488422 0.37500941 0.47663523\n",
            "  0.35876473 0.54730221 0.52072521 0.53739255 0.5992968  0.86018406\n",
            "  0.5429998  0.5581745  0.3158322  0.18888139 0.33628449 0.19613045\n",
            "  0.40868896 0.56289914 0.5763615  0.80383279 0.18656061 0.40848405\n",
            "  0.57966481 0.3516009  0.78116076 0.21665739 0.41911401 0.81576987\n",
            "  0.88147377 0.66417604 0.6862017  0.46864446 0.50703514 0.66354505\n",
            "  0.14812628 0.56829907 0.30772528 0.4394806  0.58914304 0.23785418\n",
            "  0.15011299 0.37346017 0.64520104 0.24454606 0.29470129 0.80938504\n",
            "  0.6230438  0.46561395 0.66447352 0.65733385 0.47307217 0.3907749\n",
            "  0.41720096 0.14271082 0.2777257  0.1110542  0.1244226  0.83078787\n",
            "  0.3663496  0.49590885 0.43702163 0.23744507 0.73235918 0.41285578\n",
            "  0.3177711  0.32372956 0.71499516 0.31060782 0.         0.76050756\n",
            "  0.46744908 0.7588841  0.26402629 0.2197207  0.43503062 0.77627995\n",
            "  0.28539551 0.4715505  0.84406775 0.39764803 0.30937139 0.41533877\n",
            "  0.33704787 0.77162334 0.32707914 0.56128836 0.28154909 0.77874444\n",
            "  0.35220205 0.45406969 0.59200243 0.55349837]\n",
            " [0.55970226 0.59200708 0.37381273 0.54982389 0.90999033 0.73017511\n",
            "  0.01549332 1.13177004 0.34870456 0.68526857 0.77832214 0.47928772\n",
            "  1.0045663  0.78341407 0.82423973 0.62457904 0.31247373 0.11772041\n",
            "  0.58782297 0.38765053 1.05554003 0.94845321 0.99059279 0.94761185\n",
            "  0.37382176 0.89517265 0.23557386 0.05995318 0.57950391 0.37234199\n",
            "  0.22902885 0.90794781 0.82216325 0.96705591 1.09664467 0.21441622\n",
            "  0.14578608 0.11481724 0.15618517 0.6440564  0.9353688  0.79336459\n",
            "  0.71358561 0.48770437 1.02100437 0.92547523 0.20772438 0.99635812\n",
            "  0.89926697 0.574156   0.54625675 0.53534865 1.00805951 0.05052772\n",
            "  0.31487157 0.42533641 0.67447329 0.71964128 0.95029864 0.40167503\n",
            "  0.71041505 0.83347351 1.00560101 0.86690199 0.83159434 0.83290584\n",
            "  0.77173327 0.30055616 1.14920486 0.82943205 0.27788634 0.94714625\n",
            "  0.59435609 0.52705193 0.89950073 0.6829177  0.76050756 0.\n",
            "  0.56545199 0.64685442 1.00973101 0.77023841 0.80164536 0.84536469\n",
            "  0.97118817 0.88146332 0.8839794  0.4263342  0.75970567 0.49036095\n",
            "  0.45975018 0.40415339 0.65145281 0.72970706 0.99003085 0.10482739\n",
            "  0.50110591 0.7434568  0.16967261 0.4257152 ]\n",
            " [0.33466684 0.21257816 0.66284761 0.04937551 0.58557741 0.16593131\n",
            "  0.56867333 0.69101801 0.32853499 0.20856692 0.7531202  0.63942946\n",
            "  0.51452119 0.2221418  0.25881247 0.08981173 0.2641846  0.61174224\n",
            "  0.07853922 0.64411333 0.63738644 0.62168382 0.50900346 0.6468503\n",
            "  0.26817935 0.32990408 0.5348797  0.62494524 0.33403678 0.27183681\n",
            "  0.33826174 0.39418024 0.35891806 0.66660182 0.61058838 0.49239227\n",
            "  0.62012495 0.45179037 0.420244   0.74429119 0.3753651  0.27187221\n",
            "  0.54476364 0.12378029 0.57842848 0.38022764 0.52249323 0.66865703\n",
            "  0.53255082 0.09424782 0.18012628 0.2791994  0.56838779 0.61239526\n",
            "  0.65023617 0.14597347 0.21239989 0.22569709 0.39909197 0.46193279\n",
            "  0.15542531 0.43556982 0.58186174 0.52309149 0.44769363 0.39850254\n",
            "  0.2370567  0.49084556 0.6838755  0.3661364  0.37698616 0.41479164\n",
            "  0.14968958 0.53240188 0.36772939 0.18921316 0.46744908 0.56545199\n",
            "  0.         0.29263346 0.60985352 0.63603857 0.80765071 0.3666817\n",
            "  0.51672881 0.32313075 0.42875142 0.19489421 0.25378569 0.10415143\n",
            "  0.22925843 0.35361717 0.15759736 0.85861635 0.54993982 0.51819124\n",
            "  0.15772103 0.18056184 0.45810922 0.15477345]\n",
            " [0.62123708 0.50518522 0.86948493 0.24797566 0.86991497 0.35022148\n",
            "  0.65652936 0.9331063  0.30149779 0.13451936 1.03648865 0.88056064\n",
            "  0.73986007 0.31698648 0.37963137 0.22571191 0.35836446 0.63889237\n",
            "  0.21588748 0.85868779 0.89334329 0.90428464 0.74117037 0.93270341\n",
            "  0.50002816 0.4228124  0.71609264 0.70368318 0.62303134 0.50351903\n",
            "  0.47004051 0.61411525 0.18959665 0.95192598 0.82989871 0.48024468\n",
            "  0.63395714 0.55557501 0.4928717  1.00690709 0.51571491 0.22954442\n",
            "  0.8356474  0.22549619 0.82739604 0.55979847 0.69432318 0.94937348\n",
            "  0.81107113 0.38679512 0.13257317 0.56452929 0.81954225 0.68074558\n",
            "  0.84006029 0.36187879 0.11729505 0.16044584 0.56228398 0.70454558\n",
            "  0.37844606 0.71246623 0.8391598  0.80672525 0.72727336 0.18783553\n",
            "  0.46565939 0.69901599 0.91220106 0.62570195 0.37484032 0.60954536\n",
            "  0.44177565 0.79855681 0.31763757 0.4624137  0.7588841  0.64685442\n",
            "  0.29263346 0.         0.87442948 0.92660341 1.08866657 0.218877\n",
            "  0.76473855 0.48171054 0.24146439 0.44254588 0.50591182 0.37085546\n",
            "  0.49658733 0.26364034 0.43731912 1.12077578 0.80234071 0.56013367\n",
            "  0.43699626 0.36666964 0.61180702 0.28145065]\n",
            " [0.45122859 0.44365487 0.85335609 0.65883343 0.1468495  0.52893233\n",
            "  1.00431766 0.13787412 0.91468273 0.74876048 0.5660735  0.73478533\n",
            "  0.20364955 0.59157442 0.54173616 0.65127503 0.80737957 1.1023503\n",
            "  0.67098045 0.82083676 0.05329466 0.13380144 0.184756   0.17623537\n",
            "  0.64247351 0.5517869  0.83785424 1.05663975 0.43089778 0.64314662\n",
            "  0.81119849 0.29217532 0.83855007 0.17866417 0.20386978 1.03788346\n",
            "  1.12142259 0.90681059 0.91849908 0.70119523 0.46101338 0.71566542\n",
            "  0.38482349 0.72983823 0.08868922 0.38484467 0.84899647 0.13586729\n",
            "  0.11416141 0.52834233 0.78636481 0.47581486 0.08409789 1.05960451\n",
            "  0.88701319 0.66126795 0.76298033 0.73839143 0.40881956 0.65400136\n",
            "  0.49625317 0.18325819 0.05053741 0.15356522 0.18010582 0.89224121\n",
            "  0.41187319 0.75781123 0.18619472 0.24877007 0.941146   0.3347534\n",
            "  0.477862   0.58443287 0.72966594 0.42096996 0.26402629 1.00973101\n",
            "  0.60985352 0.87442948 0.         0.41541275 0.62032726 0.82401632\n",
            "  0.12954605 0.45293071 0.88899401 0.61171153 0.36852753 0.59752426\n",
            "  0.56046118 0.95438446 0.45235894 0.7763476  0.09080818 1.01597439\n",
            "  0.54828937 0.51431989 0.84423593 0.73552359]\n",
            " [0.3077506  0.42586612 0.49998199 0.67869726 0.26856802 0.66464774\n",
            "  0.75974572 0.5497708  0.82626878 0.83826248 0.1579051  0.36362913\n",
            "  0.56244777 0.75307918 0.73272713 0.71700705 0.69644169 0.88297951\n",
            "  0.7145227  0.46763623 0.46750416 0.2881394  0.5393385  0.25723259\n",
            "  0.48792033 0.77914224 0.54791897 0.80035521 0.30383874 0.48608272\n",
            "  0.64246423 0.57016501 0.97561632 0.26820503 0.605871   0.87874473\n",
            "  0.90831069 0.69704386 0.73917069 0.28993353 0.72657283 0.86314692\n",
            "  0.09139954 0.71509771 0.48607252 0.65914617 0.56999727 0.31584928\n",
            "  0.32252142 0.54383878 0.80204593 0.36447691 0.47477386 0.81368407\n",
            "  0.54928762 0.59048676 0.84522098 0.84632367 0.692669   0.36858337\n",
            "  0.61897241 0.35691155 0.44851276 0.28303384 0.33640879 1.02244289\n",
            "  0.57941777 0.47225964 0.60160389 0.45703537 0.81930159 0.6312057\n",
            "  0.49234351 0.24705127 0.9238241  0.51050166 0.2197207  0.77023841\n",
            "  0.63603857 0.92660341 0.41541275 0.         0.21709852 0.97429869\n",
            "  0.48211372 0.6899427  1.04153504 0.50958397 0.52302996 0.55951675\n",
            "  0.44643141 0.88665417 0.51911968 0.36124623 0.46673606 0.81634349\n",
            "  0.49220596 0.65938372 0.6042397  0.68357337]\n",
            " [0.4737142  0.60856665 0.45833811 0.84499986 0.47557227 0.86102873\n",
            "  0.78843859 0.74913975 0.93976562 1.01540836 0.06015116 0.3268043\n",
            "  0.77838453 0.95062628 0.93623669 0.89405005 0.81033825 0.91928814\n",
            "  0.88542714 0.43218017 0.67033819 0.48771139 0.75525045 0.44948423\n",
            "  0.60783927 0.98691489 0.56608195 0.81675421 0.47725861 0.60504752\n",
            "  0.73237314 0.78646938 1.16024958 0.45464649 0.81718928 0.95238289\n",
            "  0.94702039 0.75596491 0.812635   0.17275213 0.93980972 1.05383081\n",
            "  0.29257351 0.86703456 0.69665748 0.87408362 0.59418706 0.50434264\n",
            "  0.53610779 0.7209225  0.95853415 0.52847027 0.68604067 0.83669805\n",
            "  0.51896731 0.73326395 1.02003069 1.02803291 0.90782688 0.43041728\n",
            "  0.81529642 0.57389896 0.65786766 0.49798848 0.55347524 1.20393929\n",
            "  0.78539785 0.50811703 0.80523872 0.67233908 0.91721271 0.84763911\n",
            "  0.6748313  0.30537079 1.1226687  0.70806143 0.43503062 0.80164536\n",
            "  0.80765071 1.08866657 0.62032726 0.21709852 0.         1.16224022\n",
            "  0.69716209 0.90095267 1.22826375 0.65024546 0.73016888 0.71812282\n",
            "  0.59257933 1.0054153  0.71130675 0.17521627 0.67943026 0.87057996\n",
            "  0.6531889  0.85780551 0.65382704 0.82423513]\n",
            " [0.68999724 0.55373657 1.01939515 0.34445897 0.85647374 0.3150223\n",
            "  0.8534385  0.85130108 0.51065729 0.16852776 1.10537091 1.0053225\n",
            "  0.65340448 0.23529295 0.28245511 0.27689094 0.53941619 0.84953532\n",
            "  0.29818895 1.00339407 0.83012881 0.88504298 0.66129159 0.92086936\n",
            "  0.62785197 0.28908952 0.87828562 0.90404049 0.68510064 0.63155144\n",
            "  0.64584537 0.53607317 0.03158638 0.93787371 0.73102282 0.69410364\n",
            "  0.8467381  0.74488054 0.68922503 1.10968382 0.39159678 0.11296748\n",
            "  0.88377249 0.37220272 0.75938081 0.45635276 0.86070685 0.92396655\n",
            "  0.78748821 0.44350634 0.2994361  0.63780667 0.75463437 0.8833539\n",
            "  0.99949439 0.49114993 0.17469807 0.14219396 0.44608564 0.82731454\n",
            "  0.35909004 0.69214396 0.78071894 0.79455044 0.71097497 0.07616394\n",
            "  0.42280362 0.8460025  0.81708195 0.58775814 0.58346676 0.51050103\n",
            "  0.48741561 0.89781529 0.12421933 0.46634458 0.77627995 0.84536469\n",
            "  0.3666817  0.218877   0.82401632 0.97429869 1.16224022 0.\n",
            "  0.69996254 0.37838332 0.06780682 0.55774856 0.4769067  0.46933588\n",
            "  0.59593383 0.48037921 0.4551884  1.22378711 0.74007593 0.76626853\n",
            "  0.52351004 0.32442252 0.78436273 0.4378378 ]\n",
            " [0.42983483 0.38273397 0.86362858 0.56418967 0.23097809 0.41512061\n",
            "  0.9676352  0.17441997 0.83550921 0.63535191 0.63932772 0.75822747\n",
            "  0.08350122 0.47042299 0.41760798 0.54629488 0.73869104 1.05458676\n",
            "  0.57005302 0.83227907 0.13065938 0.23716345 0.06105112 0.28180674\n",
            "  0.59754531 0.42354417 0.82345754 1.02231115 0.40884498 0.59891571\n",
            "  0.75886009 0.16462758 0.71592243 0.29041704 0.13584889 0.97387034\n",
            "  1.07119269 0.86249206 0.86442389 0.75220831 0.33154713 0.59362495\n",
            "  0.42928876 0.63988861 0.06274318 0.2555229  0.83018065 0.25616114\n",
            "  0.16177923 0.44512452 0.68681139 0.43916168 0.05526708 1.0216773\n",
            "  0.88917264 0.59036411 0.65051223 0.62199669 0.27929026 0.64952056\n",
            "  0.38745956 0.15153252 0.08168876 0.1992355  0.16408032 0.76980052\n",
            "  0.29909527 0.74607128 0.17835566 0.15247873 0.86988508 0.20521725\n",
            "  0.40112344 0.60416603 0.60224016 0.32936617 0.28539551 0.97118817\n",
            "  0.51672881 0.76473855 0.12954605 0.48211372 0.69716209 0.69996254\n",
            "  0.         0.32534963 0.76400015 0.5540425  0.26459406 0.52267338\n",
            "  0.51192827 0.86871597 0.36326147 0.8395558  0.0402607  0.96457144\n",
            "  0.48375246 0.39935261 0.81240068 0.65475113]\n",
            " [0.47781094 0.34910673 0.90702387 0.35436877 0.51051922 0.15988408\n",
            "  0.88315202 0.4730092  0.64230927 0.34720743 0.84089918 0.84300888\n",
            "  0.27504037 0.16511188 0.10321786 0.30007032 0.58714515 0.93421184\n",
            "  0.33561551 0.88147735 0.45402654 0.53260137 0.28321986 0.57310154\n",
            "  0.53870299 0.09953812 0.810436   0.93998893 0.46293045 0.54171339\n",
            "  0.65243531 0.16086059 0.39723228 0.5874825  0.35574036 0.81409486\n",
            "  0.94312813 0.7667105  0.7414469  0.89810818 0.05438505 0.27856277\n",
            "  0.60838027 0.43399639 0.38275486 0.07976833 0.80520548 0.5652563\n",
            "  0.43645909 0.31123569 0.44245434 0.44686397 0.37897293 0.92986058\n",
            "  0.91062673 0.45618693 0.36464171 0.3242721  0.08200458 0.68434025\n",
            "  0.17114065 0.35218156 0.40696297 0.45383613 0.37336838 0.4509956\n",
            "  0.1286594  0.74898893 0.44106596 0.24179085 0.6972181  0.13306223\n",
            "  0.30912123 0.70145454 0.27690533 0.22765773 0.4715505  0.88146332\n",
            "  0.32313075 0.48171054 0.45293071 0.6899427  0.90095267 0.37838332\n",
            "  0.32534963 0.         0.44051496 0.46875918 0.17528652 0.39205665\n",
            "  0.464241   0.65346139 0.24799732 1.00471061 0.36560025 0.84051061\n",
            "  0.39784719 0.14356591 0.75555715 0.4771758 ]\n",
            " [0.7554288  0.62001221 1.07457545 0.40307641 0.9237442  0.38281995\n",
            "  0.89288038 0.91247283 0.54210414 0.22425903 1.17164919 1.06525121\n",
            "  0.71498534 0.30234373 0.3472997  0.33908208 0.58381802 0.88022074\n",
            "  0.35726484 1.05965533 0.89378649 0.95202606 0.72373307 0.98812496\n",
            "  0.68567518 0.34780891 0.93008477 0.94176764 0.75101208 0.68936516\n",
            "  0.69270127 0.59966038 0.07009977 1.00501998 0.79008868 0.72167567\n",
            "  0.87541943 0.78742445 0.72849962 1.17288903 0.44973102 0.18074889\n",
            "  0.95089228 0.42283409 0.82277651 0.51724753 0.91131499 0.99056435\n",
            "  0.85442548 0.5084182  0.3428593  0.70264551 0.81840569 0.91976026\n",
            "  1.05235823 0.54739788 0.22679141 0.20305919 0.50484539 0.88701814\n",
            "  0.42688663 0.75940745 0.84507269 0.86194526 0.77835135 0.05542422\n",
            "  0.49000922 0.90129148 0.87629933 0.65447661 0.61546598 0.57143131\n",
            "  0.55350803 0.96097045 0.17234429 0.53404959 0.84406775 0.8839794\n",
            "  0.42875142 0.24146439 0.88899401 1.04153504 1.22826375 0.06780682\n",
            "  0.76400015 0.44051496 0.         0.61704648 0.54439508 0.53005423\n",
            "  0.65774631 0.50459621 0.52250045 1.28714346 0.80419763 0.80029146\n",
            "  0.58627578 0.39211256 0.83289791 0.48773723]\n",
            " [0.20682533 0.17142661 0.46826966 0.21397798 0.54158337 0.33366924\n",
            "  0.42533268 0.72192006 0.32467687 0.39299818 0.60078266 0.44824387\n",
            "  0.5805266  0.40803756 0.43186596 0.28256405 0.20171666 0.50138488\n",
            "  0.25987293 0.44922491 0.65190807 0.58083472 0.56778743 0.59346813\n",
            "  0.07438233 0.50263216 0.34718473 0.48192765 0.2177729  0.07792537\n",
            "  0.20522932 0.48162675 0.54695956 0.61402938 0.67420081 0.42630384\n",
            "  0.51729777 0.31332516 0.31039639 0.56499492 0.52312284 0.46662105\n",
            "  0.42344536 0.21787045 0.60833355 0.50386482 0.33868551 0.63043842\n",
            "  0.51046669 0.15820691 0.31050129 0.15498613 0.59597539 0.47655699\n",
            "  0.45808802 0.08308028 0.39255589 0.41558288 0.53091311 0.2699847\n",
            "  0.30273837 0.4288715  0.59865322 0.48663104 0.43207224 0.58154136\n",
            "  0.35029994 0.29715289 0.73220864 0.40693006 0.33531487 0.52205118\n",
            "  0.16848739 0.35601574 0.56205557 0.25747243 0.39764803 0.4263342\n",
            "  0.19489421 0.44254588 0.61171153 0.50958397 0.65024546 0.55774856\n",
            "  0.5540425  0.46875918 0.61704648 0.         0.33378161 0.09105839\n",
            "  0.06378525 0.3802065  0.22739215 0.67916882 0.57737669 0.41062179\n",
            "  0.07485303 0.34289683 0.28725018 0.17538266]\n",
            " [0.30457339 0.1850595  0.74192262 0.30029344 0.37996279 0.16523832\n",
            "  0.75903076 0.43821954 0.57852095 0.38175675 0.67037    0.67079722\n",
            "  0.26235412 0.2426221  0.21138502 0.28340334 0.49342932 0.82826451\n",
            "  0.30565402 0.71497721 0.38955541 0.40988764 0.2555572  0.44436671\n",
            "  0.39530112 0.25677507 0.65819071 0.81568184 0.28879376 0.39777656\n",
            "  0.53443979 0.14950474 0.48608774 0.46178304 0.35869672 0.72940251\n",
            "  0.84139162 0.64590959 0.63407687 0.72283675 0.22250278 0.36429107\n",
            "  0.43822814 0.37752857 0.32700108 0.17900066 0.6566514  0.45123523\n",
            "  0.31300491 0.19383973 0.42231601 0.27876908 0.31776186 0.80973398\n",
            "  0.7504217  0.34745041 0.39535476 0.37440321 0.21061846 0.51777782\n",
            "  0.12825627 0.21588621 0.33461109 0.31771968 0.2342178  0.53832376\n",
            "  0.05699485 0.59106756 0.43019855 0.11979633 0.61943891 0.18888764\n",
            "  0.1653737  0.52706674 0.40640008 0.07716325 0.30937139 0.75970567\n",
            "  0.25378569 0.50591182 0.36852753 0.52302996 0.73016888 0.4769067\n",
            "  0.26459406 0.17528652 0.54439508 0.33378161 0.         0.27797452\n",
            "  0.3130704  0.60726553 0.11054082 0.82975158 0.29976302 0.73531459\n",
            "  0.2589404  0.15325654 0.61755238 0.39879437]\n",
            " [0.25204592 0.15982519 0.55932619 0.12912538 0.54866139 0.24806206\n",
            "  0.49151631 0.69551094 0.3172042  0.30708739 0.66564077 0.53602955\n",
            "  0.53690669 0.31850202 0.34591617 0.19289    0.21693077 0.55159101\n",
            "  0.17336302 0.54018254 0.63229363 0.58688358 0.52711652 0.60591982\n",
            "  0.16503276 0.4172272  0.43543843 0.54841081 0.25618068 0.16864425\n",
            "  0.26166304 0.42731916 0.45998847 0.62630745 0.63274425 0.45310341\n",
            "  0.56390431 0.37555173 0.35717313 0.64534072 0.44626962 0.37602339\n",
            "  0.4696316  0.15625001 0.58111362 0.4356509  0.42502863 0.63577752\n",
            "  0.50622199 0.08507601 0.24292106 0.19517873 0.56964354 0.53937083\n",
            "  0.54840569 0.06948965 0.30831923 0.32750648 0.45996336 0.35820573\n",
            "  0.22192227 0.41539102 0.57731965 0.48904907 0.42301266 0.49692692\n",
            "  0.28243992 0.38797646 0.69804481 0.37069311 0.34721908 0.46045428\n",
            "  0.12161717 0.43400942 0.47099723 0.20141116 0.41533877 0.49036095\n",
            "  0.10415143 0.37085546 0.59752426 0.55951675 0.71812282 0.46933588\n",
            "  0.52267338 0.39205665 0.53005423 0.09105839 0.27797452 0.\n",
            "  0.12891951 0.36043687 0.16744505 0.75976651 0.55084675 0.45822952\n",
            "  0.06732658 0.25891878 0.36660226 0.14010876]\n",
            " [0.14310797 0.13351893 0.44925008 0.25804407 0.4829632  0.34453913\n",
            "  0.45683854 0.67576083 0.3878446  0.43560289 0.54168776 0.41167091\n",
            "  0.54563546 0.42616208 0.44129658 0.31906736 0.26298175 0.54400226\n",
            "  0.30200168 0.42677096 0.60284629 0.52232446 0.53112148 0.53316551\n",
            "  0.08601407 0.5100765  0.34691878 0.51232011 0.15466647 0.0877372\n",
            "  0.25074896 0.45581387 0.58778342 0.55370064 0.63700856 0.48112883\n",
            "  0.56193742 0.35063075 0.35804047 0.51646266 0.5179554  0.49853729\n",
            "  0.35982396 0.27466704 0.56340687 0.48967729 0.3438877  0.57192588\n",
            "  0.45591632 0.16679947 0.36596158 0.09273525 0.55068886 0.51027692\n",
            "  0.44750691 0.14427957 0.43717961 0.45478424 0.51906314 0.23604662\n",
            "  0.30759315 0.37920249 0.55080964 0.42985729 0.38035791 0.62561443\n",
            "  0.33935637 0.28531615 0.6901935  0.37011743 0.39540264 0.50152595\n",
            "  0.15513219 0.30509456 0.58839537 0.24097283 0.33704787 0.45975018\n",
            "  0.22925843 0.49658733 0.56046118 0.44643141 0.59257933 0.59593383\n",
            "  0.51192827 0.464241   0.65774631 0.06378525 0.3130704  0.12891951\n",
            "  0.         0.44395252 0.21639127 0.63088791 0.53236725 0.45595119\n",
            "  0.07495935 0.35087321 0.30696709 0.23736433]\n",
            " [0.58703182 0.52008509 0.69240596 0.30911831 0.90865271 0.49578242\n",
            "  0.41608466 1.04313347 0.06853532 0.34902724 0.96212801 0.73954033\n",
            "  0.86799156 0.50667191 0.56449899 0.35339586 0.1950803  0.37897699\n",
            "  0.31838372 0.68990861 0.98589754 0.94707105 0.86261625 0.96485842\n",
            "  0.40140545 0.62528888 0.52959475 0.45660519 0.5974794  0.40373895\n",
            "  0.28761409 0.74646589 0.45229102 0.9853404  0.96392077 0.21800884\n",
            "  0.37194043 0.33422156 0.2628082  0.88912624 0.69958108 0.46374044\n",
            "  0.80256918 0.22985328 0.9297246  0.72149755 0.50258377 0.99608555\n",
            "  0.86635469 0.42630473 0.21570277 0.53424458 0.91918566 0.4308694\n",
            "  0.65029048 0.30610461 0.3329635  0.38488143 0.73457948 0.58125199\n",
            "  0.50150961 0.77399773 0.93042101 0.84943118 0.78266456 0.45014957\n",
            "  0.58838989 0.53848102 1.03744651 0.71685398 0.12719176 0.76184208\n",
            "  0.47685683 0.70025006 0.56504278 0.53939726 0.77162334 0.40415339\n",
            "  0.35361717 0.26364034 0.95438446 0.88665417 1.0054153  0.48037921\n",
            "  0.86871597 0.65346139 0.50459621 0.3802065  0.60726553 0.36043687\n",
            "  0.44395252 0.         0.50577662 0.9972421  0.90054593 0.30767731\n",
            "  0.41982392 0.51311032 0.41644075 0.22035226]\n",
            " [0.24909902 0.10968183 0.66051782 0.20678278 0.43277375 0.15089043\n",
            "  0.65129683 0.53759652 0.47271776 0.32791049 0.65327712 0.60458841\n",
            "  0.37072517 0.24055421 0.23771776 0.21240993 0.38333643 0.71801679\n",
            "  0.22392285 0.63582674 0.48092573 0.46770474 0.36211393 0.49539148\n",
            "  0.29345382 0.30173884 0.5630828  0.70810064 0.23928193 0.29625738\n",
            "  0.4249612  0.25997752 0.45723427 0.51466445 0.46690554 0.61948145\n",
            "  0.73093952 0.53721451 0.52373639 0.6784128  0.30158136 0.34423552\n",
            "  0.42874076 0.27819717 0.42397341 0.27662563 0.55888159 0.51371924\n",
            "  0.37646603 0.08384861 0.33609145 0.20736991 0.41341159 0.70124664\n",
            "  0.66273714 0.23692924 0.33793545 0.33070092 0.30442296 0.43950897\n",
            "  0.10598275 0.27873882 0.42538091 0.36968832 0.29181197 0.50542754\n",
            "  0.12373826 0.50100062 0.53513571 0.21110539 0.51067801 0.29571267\n",
            "  0.06133512 0.47187312 0.41253715 0.03451044 0.32707914 0.65145281\n",
            "  0.15759736 0.43731912 0.45235894 0.51911968 0.71130675 0.4551884\n",
            "  0.36326147 0.24799732 0.52250045 0.22739215 0.11054082 0.16744505\n",
            "  0.21639127 0.50577662 0.         0.78986384 0.39478259 0.62494967\n",
            "  0.1534022  0.15048267 0.51396365 0.29206956]\n",
            " [0.5410251  0.68110197 0.35913622 0.88884857 0.62959602 0.94042363\n",
            "  0.71509761 0.90940784 0.92912167 1.06629672 0.21549423 0.26068669\n",
            "  0.91758839 1.02963629 1.02492734 0.94810124 0.80564337 0.84595845\n",
            "  0.9328386  0.34213427 0.82805989 0.64689993 0.89468219 0.61195213\n",
            "  0.62186137 1.08249367 0.50111276 0.73273069 0.55083318 0.61849818\n",
            "  0.71149204 0.90832279 1.21746124 0.61943544 0.96623494 0.90726624\n",
            "  0.87450436 0.7081714  0.7734853  0.11442594 1.04860821 1.12102316\n",
            "  0.41320317 0.89529133 0.84691301 0.98902383 0.5311357  0.66887382\n",
            "  0.6824416  0.78150908 0.98824623 0.58852805 0.83540463 0.75671453\n",
            "  0.42107611 0.75889727 1.06806689 1.08413945 1.02314852 0.42035177\n",
            "  0.89584652 0.70397338 0.80965828 0.64196925 0.68513984 1.25639764\n",
            "  0.8815482  0.46436301 0.96251535 0.79179982 0.89379662 0.96947765\n",
            "  0.74356258 0.32621456 1.20062697 0.79374337 0.56128836 0.72970706\n",
            "  0.85861635 1.12077578 0.7763476  0.36124623 0.17521627 1.22378711\n",
            "  0.8395558  1.00471061 1.28714346 0.67916882 0.82975158 0.75976651\n",
            "  0.63088791 0.9972421  0.78986384 0.         0.82666955 0.81316766\n",
            "  0.70092946 0.9402223  0.6056668  0.84331856]\n",
            " [0.44146045 0.40604006 0.86758975 0.59790984 0.20676017 0.45329687\n",
            "  0.98592988 0.14495104 0.86557534 0.67366477 0.62259664 0.75781004\n",
            "  0.1143519  0.51009643 0.45767804 0.5826     0.76571752 1.07620939\n",
            "  0.60539478 0.8358004  0.09136155 0.20762341 0.09435333 0.25230842\n",
            "  0.61730886 0.4637208  0.83484028 1.04000406 0.42047458 0.61847844\n",
            "  0.78128421 0.20488785 0.75587851 0.25906097 0.13978148 0.9999715\n",
            "  1.09353916 0.88281957 0.88756194 0.74305258 0.37117189 0.63347803\n",
            "  0.42047627 0.67252013 0.0310402  0.29535238 0.84290858 0.22169712\n",
            "  0.14428027 0.47536743 0.72197306 0.45554537 0.01879721 1.04041843\n",
            "  0.8956863  0.6176432  0.68863775 0.66090161 0.31846147 0.65732454\n",
            "  0.42439791 0.15957374 0.04163206 0.18487228 0.16743941 0.8097413\n",
            "  0.33677746 0.7564339  0.16155037 0.18388602 0.89784826 0.24446577\n",
            "  0.42927633 0.60429371 0.64248366 0.36140972 0.28154909 0.99003085\n",
            "  0.54993982 0.80234071 0.09080818 0.46673606 0.67943026 0.74007593\n",
            "  0.0402607  0.36560025 0.80419763 0.57737669 0.29976302 0.55084675\n",
            "  0.53236725 0.90054593 0.39478259 0.82666955 0.         0.98710965\n",
            "  0.50877928 0.43776133 0.82896281 0.68494442]\n",
            " [0.57472198 0.58183858 0.46412342 0.49476192 0.92842521 0.6840421\n",
            "  0.11946996 1.13115639 0.25867779 0.61221601 0.8419021  0.55645782\n",
            "  0.98964879 0.72781891 0.77389907 0.56583151 0.25447948 0.09376401\n",
            "  0.52795994 0.47385327 1.05879594 0.96758564 0.9776836  0.97152858\n",
            "  0.37374558 0.84344004 0.31214574 0.15004354 0.59294293 0.3732671\n",
            "  0.20582789 0.88481728 0.74132113 0.99156841 1.08409176 0.10962632\n",
            "  0.10670245 0.11930924 0.10125461 0.7208281  0.89331773 0.72397229\n",
            "  0.75111221 0.42449882 1.01812641 0.89160822 0.28221895 1.01657936\n",
            "  0.90931144 0.54328699 0.47053889 0.54114227 1.00559689 0.12329041\n",
            "  0.40829985 0.38936488 0.59983067 0.64764445 0.91377898 0.45189707\n",
            "  0.67010348 0.83515366 1.00664644 0.88027393 0.83597278 0.74772635\n",
            "  0.73976565 0.36249046 1.14280022 0.8172267  0.18546856 0.91854275\n",
            "  0.57238321 0.58152489 0.83008048 0.65823096 0.77874444 0.10482739\n",
            "  0.51819124 0.56013367 1.01597439 0.81634349 0.87057996 0.76626853\n",
            "  0.96457144 0.84051061 0.80029146 0.41062179 0.73531459 0.45822952\n",
            "  0.45595119 0.30767731 0.62494967 0.81316766 0.98710965 0.\n",
            "  0.48265961 0.6987253  0.21730677 0.36815807]\n",
            " [0.18485947 0.10465062 0.52285417 0.19184446 0.48954724 0.27108914\n",
            "  0.50017926 0.6536841  0.37159728 0.36597105 0.59999198 0.4862665\n",
            "  0.50717277 0.35149791 0.36852682 0.24719611 0.25909127 0.57425745\n",
            "  0.23343226 0.50100725 0.58619496 0.5282764  0.49502406 0.54506687\n",
            "  0.14087587 0.43810507 0.4133607  0.55678064 0.18888457 0.1438672\n",
            "  0.27833367 0.40684376 0.51653852 0.56556251 0.60143295 0.4913711\n",
            "  0.58934337 0.38783839 0.38179698 0.58663174 0.45205891 0.42442853\n",
            "  0.40231068 0.22340914 0.53957059 0.43002166 0.40738215 0.57757468\n",
            "  0.45169227 0.09270442 0.310042   0.12798446 0.52749895 0.55128231\n",
            "  0.51867826 0.11506533 0.36885259 0.38323432 0.4576592  0.3110037\n",
            "  0.23597041 0.36505134 0.53209728 0.43154021 0.37041043 0.55605881\n",
            "  0.27690279 0.35637339 0.66142089 0.33474973 0.39298099 0.44731729\n",
            "  0.09372786 0.37472202 0.51348659 0.18277723 0.35220205 0.50110591\n",
            "  0.15772103 0.43699626 0.54828937 0.49220596 0.6531889  0.52351004\n",
            "  0.48375246 0.39784719 0.58627578 0.07485303 0.2589404  0.06732658\n",
            "  0.07495935 0.41982392 0.1534022  0.70092946 0.50877928 0.48265961\n",
            "  0.         0.2783086  0.3605624  0.2013727 ]\n",
            " [0.39957971 0.25998146 0.80008594 0.2108786  0.53319386 0.01756351\n",
            "  0.74591963 0.56644943 0.49938073 0.23600315 0.79908735 0.75211292\n",
            "  0.37394493 0.09373174 0.09043785 0.16146611 0.44472155 0.79229825\n",
            "  0.19477318 0.77711094 0.52909408 0.56303962 0.37457589 0.59759177\n",
            "  0.41604939 0.15996514 0.68974276 0.80254232 0.38944947 0.41936043\n",
            "  0.51486159 0.24805314 0.33287594 0.61503956 0.46584149 0.67054835\n",
            "  0.80059974 0.629075   0.6004471  0.82889057 0.19492497 0.21153253\n",
            "  0.57074832 0.29080515 0.46176885 0.20845103 0.68154288 0.60383625\n",
            "  0.46595318 0.18605888 0.3065345  0.35668427 0.45446941 0.79113645\n",
            "  0.79697692 0.31879246 0.25132132 0.22407871 0.22249861 0.58305928\n",
            "  0.04486985 0.36913763 0.47589442 0.47082239 0.38740337 0.38507127\n",
            "  0.1026363  0.63468105 0.54662492 0.26891608 0.55366186 0.25129629\n",
            "  0.20287148 0.62203531 0.26501755 0.14978296 0.45406969 0.7434568\n",
            "  0.18056184 0.36666964 0.51431989 0.65938372 0.85780551 0.32442252\n",
            "  0.39935261 0.14356591 0.39211256 0.34289683 0.15325654 0.25891878\n",
            "  0.35087321 0.51311032 0.15048267 0.9402223  0.43776133 0.6987253\n",
            "  0.2783086  0.         0.62550971 0.33386444]\n",
            " [0.39309884 0.44040972 0.27673131 0.45559457 0.74117084 0.61453219\n",
            "  0.16187767 0.96893769 0.34896582 0.61670588 0.62459532 0.34560682\n",
            "  0.85128779 0.68018478 0.7120779  0.53231359 0.25353553 0.27884334\n",
            "  0.49937385 0.27730818 0.89114739 0.77946427 0.83592499 0.77806009\n",
            "  0.22240899 0.7835051  0.11350258 0.21244416 0.41333947 0.22009441\n",
            "  0.14176652 0.76243531 0.76584062 0.79745945 0.94107104 0.30223877\n",
            "  0.30408902 0.10312999 0.16872557 0.50801966 0.80994203 0.71369547\n",
            "  0.54476422 0.41225507 0.85976776 0.79058319 0.0861986  0.82715941\n",
            "  0.73270086 0.44435576 0.49085584 0.37351152 0.84665429 0.21757715\n",
            "  0.23437218 0.31215505 0.60967235 0.64756515 0.81804239 0.23656765\n",
            "  0.58755948 0.67079884 0.84240082 0.69937045 0.66760785 0.78697509\n",
            "  0.63733087 0.14592803 0.98943635 0.67563253 0.29815241 0.80643936\n",
            "  0.45380651 0.36523542 0.81710364 0.54268385 0.59200243 0.16967261\n",
            "  0.45810922 0.61180702 0.84423593 0.6042397  0.65382704 0.78436273\n",
            "  0.81240068 0.75555715 0.83289791 0.28725018 0.61755238 0.36660226\n",
            "  0.30696709 0.41644075 0.51396365 0.6056668  0.82896281 0.21730677\n",
            "  0.3605624  0.62550971 0.         0.34655628]\n",
            " [0.37746622 0.29986802 0.59075624 0.12660487 0.68863348 0.31832207\n",
            "  0.4310111  0.82877669 0.18075851 0.27023338 0.77564805 0.59951214\n",
            "  0.66113744 0.36005917 0.40594202 0.19918482 0.1144571  0.46096282\n",
            "  0.16212753 0.57852729 0.76857671 0.72693169 0.65361517 0.74545243\n",
            "  0.22154563 0.47528597 0.44251132 0.48566761 0.38537331 0.22486432\n",
            "  0.20972375 0.54431969 0.41987074 0.7658857  0.75748052 0.33761983\n",
            "  0.46774421 0.31624031 0.27378596 0.73022699 0.5287107  0.37103035\n",
            "  0.59604512 0.06572326 0.71469241 0.53490831 0.42360861 0.77586566\n",
            "  0.64607506 0.20966458 0.15072863 0.32217472 0.70369301 0.46998532\n",
            "  0.56531696 0.09310528 0.26317798 0.30174278 0.55380852 0.42459084\n",
            "  0.31015294 0.55428628 0.71327582 0.62915393 0.56254874 0.44394434\n",
            "  0.38937273 0.41884853 0.82715323 0.50228637 0.22275962 0.56836094\n",
            "  0.2576731  0.5256894  0.47637978 0.32643992 0.55349837 0.4257152\n",
            "  0.15477345 0.28145065 0.73552359 0.68357337 0.82423513 0.4378378\n",
            "  0.65475113 0.4771758  0.48773723 0.17538266 0.39879437 0.14010876\n",
            "  0.23736433 0.22035226 0.29206956 0.84331856 0.68494442 0.36815807\n",
            "  0.2013727  0.33386444 0.34655628 0.        ]]\n"
          ]
        }
      ],
      "source": [
        "a = np.random.random((100,2))\n",
        "X,Y = np.atleast_2d(a[:,0]), np.atleast_2d(a[:,1])\n",
        "b = np.sqrt( (X-X.T)**2 + (Y-Y.T)**2)\n",
        "print(b)\n",
        "\n"
      ]
    },
    {
      "cell_type": "markdown",
      "metadata": {
        "id": "4MSnFzwxYqfC"
      },
      "source": [
        "#### 53. How to convert a float (32 bits) array into an integer (32 bits) in place? \n",
        "(**hint**: astype(copy=False))"
      ]
    },
    {
      "cell_type": "code",
      "execution_count": 12,
      "metadata": {
        "id": "1d_8kkmyYqfC",
        "colab": {
          "base_uri": "https://localhost:8080/"
        },
        "outputId": "a41b85dc-8a93-4623-8f89-33ad62b401e1"
      },
      "outputs": [
        {
          "output_type": "stream",
          "name": "stdout",
          "text": [
            "[0. 1. 2. 3. 4. 5. 6. 7. 8. 9.]\n",
            "[0 1 2 3 4 5 6 7 8 9]\n"
          ]
        }
      ],
      "source": [
        "a= np.arange(10, dtype=np.float32)\n",
        "b = a.astype(np.int32, copy=False)\n",
        "print(a)\n",
        "print(b)\n"
      ]
    },
    {
      "cell_type": "markdown",
      "metadata": {
        "id": "OFmTjp8fYqfD"
      },
      "source": [
        "#### 54. How to read the following file? (★★☆) \n",
        "(**hint**: np.genfromtxt)"
      ]
    },
    {
      "cell_type": "markdown",
      "metadata": {
        "id": "EYAfycsuYqfD"
      },
      "source": [
        "```\n",
        "1, 2, 3, 4, 5\n",
        "6,  ,  , 7, 8\n",
        " ,  , 9,10,11\n",
        "```"
      ]
    },
    {
      "cell_type": "code",
      "execution_count": 13,
      "metadata": {
        "id": "dsJxInZxYqfD",
        "colab": {
          "base_uri": "https://localhost:8080/"
        },
        "outputId": "d805d015-bed4-4509-c95f-52fce1b0697f"
      },
      "outputs": [
        {
          "output_type": "stream",
          "name": "stdout",
          "text": [
            "[[ 1  2  3  4  5]\n",
            " [ 6 -1 -1  7  8]\n",
            " [-1 -1  9 10 11]]\n"
          ]
        },
        {
          "output_type": "stream",
          "name": "stderr",
          "text": [
            "<ipython-input-13-0ed594f6a046>:6: DeprecationWarning: `np.int` is a deprecated alias for the builtin `int`. To silence this warning, use `int` by itself. Doing this will not modify any behavior and is safe. When replacing `np.int`, you may wish to use e.g. `np.int64` or `np.int32` to specify the precision. If you wish to review your current use, check the release note link for additional information.\n",
            "Deprecated in NumPy 1.20; for more details and guidance: https://numpy.org/devdocs/release/1.20.0-notes.html#deprecations\n",
            "  a = np.genfromtxt(file, delimiter=\",\", dtype=np.int)\n"
          ]
        }
      ],
      "source": [
        "from io import StringIO\n",
        "\n",
        "file = StringIO('''1, 2, 3, 4, 5\n",
        "                   6,  ,  , 7, 8\n",
        "                    ,  , 9,10,11''')\n",
        "a = np.genfromtxt(file, delimiter=\",\", dtype=np.int)\n",
        "print(a)"
      ]
    },
    {
      "cell_type": "markdown",
      "metadata": {
        "id": "CgG5RgCCYqfD"
      },
      "source": [
        "#### 55. What is the equivalent of enumerate for numpy arrays? (★★☆) \n",
        "(**hint**: np.ndenumerate, np.ndindex)"
      ]
    },
    {
      "cell_type": "code",
      "execution_count": 14,
      "metadata": {
        "id": "lkG8ed5qYqfD",
        "colab": {
          "base_uri": "https://localhost:8080/"
        },
        "outputId": "3e812efe-e4e9-47b5-ce50-fabb156a9338"
      },
      "outputs": [
        {
          "output_type": "stream",
          "name": "stdout",
          "text": [
            "(0, 0) 0\n",
            "(0, 1) 1\n",
            "(0, 2) 2\n",
            "(1, 0) 3\n",
            "(1, 1) 4\n",
            "(1, 2) 5\n",
            "(2, 0) 6\n",
            "(2, 1) 7\n",
            "(2, 2) 8\n",
            "(0, 0) 0\n",
            "(0, 1) 1\n",
            "(0, 2) 2\n",
            "(1, 0) 3\n",
            "(1, 1) 4\n",
            "(1, 2) 5\n",
            "(2, 0) 6\n",
            "(2, 1) 7\n",
            "(2, 2) 8\n"
          ]
        }
      ],
      "source": [
        "a = np.arange(9).reshape(3,3)\n",
        "for index, value in np.ndenumerate(a):\n",
        "  print(index, value)\n",
        "for index in np.ndindex(a.shape):\n",
        "  print(index, a[index])"
      ]
    },
    {
      "cell_type": "markdown",
      "metadata": {
        "id": "NLKhYR2uYqfE"
      },
      "source": [
        "#### 56. Generate a generic 2D Gaussian-like array (★★☆) \n",
        "(**hint**: np.meshgrid, np.exp)"
      ]
    },
    {
      "cell_type": "code",
      "execution_count": 15,
      "metadata": {
        "id": "BTVzg5aCYqfE",
        "colab": {
          "base_uri": "https://localhost:8080/"
        },
        "outputId": "02867ab7-c207-42c6-8eac-98ec3ada3a31"
      },
      "outputs": [
        {
          "output_type": "stream",
          "name": "stdout",
          "text": [
            "[[0.36787944 0.44822088 0.51979489 0.57375342 0.60279818 0.60279818\n",
            "  0.57375342 0.51979489 0.44822088 0.36787944]\n",
            " [0.44822088 0.54610814 0.63331324 0.69905581 0.73444367 0.73444367\n",
            "  0.69905581 0.63331324 0.54610814 0.44822088]\n",
            " [0.51979489 0.63331324 0.73444367 0.81068432 0.85172308 0.85172308\n",
            "  0.81068432 0.73444367 0.63331324 0.51979489]\n",
            " [0.57375342 0.69905581 0.81068432 0.89483932 0.9401382  0.9401382\n",
            "  0.89483932 0.81068432 0.69905581 0.57375342]\n",
            " [0.60279818 0.73444367 0.85172308 0.9401382  0.98773022 0.98773022\n",
            "  0.9401382  0.85172308 0.73444367 0.60279818]\n",
            " [0.60279818 0.73444367 0.85172308 0.9401382  0.98773022 0.98773022\n",
            "  0.9401382  0.85172308 0.73444367 0.60279818]\n",
            " [0.57375342 0.69905581 0.81068432 0.89483932 0.9401382  0.9401382\n",
            "  0.89483932 0.81068432 0.69905581 0.57375342]\n",
            " [0.51979489 0.63331324 0.73444367 0.81068432 0.85172308 0.85172308\n",
            "  0.81068432 0.73444367 0.63331324 0.51979489]\n",
            " [0.44822088 0.54610814 0.63331324 0.69905581 0.73444367 0.73444367\n",
            "  0.69905581 0.63331324 0.54610814 0.44822088]\n",
            " [0.36787944 0.44822088 0.51979489 0.57375342 0.60279818 0.60279818\n",
            "  0.57375342 0.51979489 0.44822088 0.36787944]]\n"
          ]
        }
      ],
      "source": [
        "X, Y = np.meshgrid(np.linspace(-1,1,10), np.linspace(-1,1,10))\n",
        "a = np.sqrt(X*X+Y*Y)\n",
        "sigma, mu = 1.0, 0.0\n",
        "b = np.exp(-( (a-mu)**2 / ( 2.0 * sigma**2 ) ) )\n",
        "print(b)"
      ]
    },
    {
      "cell_type": "markdown",
      "metadata": {
        "id": "5HVI9_oUYqfE"
      },
      "source": [
        "#### 57. How to randomly place p elements in a 2D array? (★★☆) \n",
        "(**hint**: np.put, np.random.choice)"
      ]
    },
    {
      "cell_type": "code",
      "execution_count": 17,
      "metadata": {
        "id": "XpNfyw89YqfF"
      },
      "outputs": [],
      "source": [
        "a = 10\n",
        "b = 3\n",
        "c = np.zeros((a,a))\n",
        "np.put(c, np.random.choice(range(a*a), b, replace=False),1)"
      ]
    },
    {
      "cell_type": "markdown",
      "metadata": {
        "id": "5Kp3Y_qsYqfF"
      },
      "source": [
        "#### 58. Subtract the mean of each row of a matrix (★★☆) \n",
        "(**hint**: mean(axis=,keepdims=))"
      ]
    },
    {
      "cell_type": "code",
      "execution_count": 17,
      "metadata": {
        "id": "88qm4q2OYqfF",
        "colab": {
          "base_uri": "https://localhost:8080/"
        },
        "outputId": "e9974b61-c685-47bc-ab8d-59e27f2cae50"
      },
      "outputs": [
        {
          "output_type": "stream",
          "name": "stdout",
          "text": [
            "[[-2.  -1.   0.   1.   2. ]\n",
            " [ 0.   1.   2.   3.  -6. ]\n",
            " [-0.8  2.2  4.2 -3.8 -1.8]]\n"
          ]
        }
      ],
      "source": [
        "a= np.array([[1,2,3,4,5],[6,7,8,9,0],[4,7,9,1,3]])\n",
        "b = a - a.mean(axis=1, keepdims=True)\n",
        "print(b)"
      ]
    },
    {
      "cell_type": "markdown",
      "metadata": {
        "id": "JOv6vL7aYqfF"
      },
      "source": [
        "#### 59. How to sort an array by the nth column? (★★☆) \n",
        "(**hint**: argsort)"
      ]
    },
    {
      "cell_type": "code",
      "execution_count": 20,
      "metadata": {
        "id": "2kx3Pp1kYqfG",
        "colab": {
          "base_uri": "https://localhost:8080/"
        },
        "outputId": "32686e0e-297d-4c7a-b20f-aa3712117120"
      },
      "outputs": [
        {
          "output_type": "stream",
          "name": "stdout",
          "text": [
            "[[8 7 4]\n",
            " [1 9 0]\n",
            " [7 3 9]]\n",
            "[[7 3 9]\n",
            " [8 7 4]\n",
            " [1 9 0]]\n"
          ]
        }
      ],
      "source": [
        "\n",
        "a = np.random.randint(0,10,(3,3))\n",
        "print(a)\n",
        "print(a[a[:,1].argsort()])\n"
      ]
    },
    {
      "cell_type": "markdown",
      "metadata": {
        "id": "F_VUlDHmYqfG"
      },
      "source": [
        "#### 60. How to tell if a given 2D array has null columns? (★★☆) \n",
        "(**hint**: any, ~)"
      ]
    },
    {
      "cell_type": "code",
      "execution_count": 21,
      "metadata": {
        "id": "ozSVEDMWYqfH",
        "colab": {
          "base_uri": "https://localhost:8080/"
        },
        "outputId": "f10a44a5-c176-4b1c-81a0-8b6c191b3ecd"
      },
      "outputs": [
        {
          "output_type": "stream",
          "name": "stdout",
          "text": [
            "False\n"
          ]
        }
      ],
      "source": [
        "a = np.random.randint(0,3,(3,10))\n",
        "print((~a.any(axis=0)).any())\n"
      ]
    },
    {
      "cell_type": "markdown",
      "metadata": {
        "id": "drlHCtg6YqfH"
      },
      "source": [
        "#### 61. Find the nearest value from a given value in an array (★★☆) \n",
        "(**hint**: np.abs, argmin, flat)"
      ]
    },
    {
      "cell_type": "code",
      "execution_count": 22,
      "metadata": {
        "id": "SAfWW6f-YqfH",
        "colab": {
          "base_uri": "https://localhost:8080/"
        },
        "outputId": "d6a2db39-49f8-4509-b19f-9fe692e3f39a"
      },
      "outputs": [
        {
          "output_type": "stream",
          "name": "stdout",
          "text": [
            "0.44429489695581725\n"
          ]
        }
      ],
      "source": [
        "a = np.random.uniform(0,1,10)\n",
        "b = 0.5\n",
        "c = a.flat[np.abs(a - b).argmin()]\n",
        "print(c)"
      ]
    },
    {
      "cell_type": "markdown",
      "metadata": {
        "id": "qA86O1o3YqfI"
      },
      "source": [
        "#### 62. Considering two arrays with shape (1,3) and (3,1), how to compute their sum using an iterator? (★★☆) \n",
        "(**hint**: np.nditer)"
      ]
    },
    {
      "cell_type": "code",
      "execution_count": 20,
      "metadata": {
        "id": "z9XbHMHqYqfI",
        "colab": {
          "base_uri": "https://localhost:8080/"
        },
        "outputId": "d923ba2e-4669-4949-836d-e52b0498c141"
      },
      "outputs": [
        {
          "output_type": "stream",
          "name": "stdout",
          "text": [
            "[[0 1 2]\n",
            " [1 2 3]\n",
            " [2 3 4]]\n"
          ]
        }
      ],
      "source": [
        "a = np.arange(3).reshape(1,3)\n",
        "b = np.arange(3).reshape(3,1)\n",
        "c = np.nditer([a,b,None])\n",
        "for x,y,z in c: z[...] = x + y\n",
        "print(c.operands[2])"
      ]
    },
    {
      "cell_type": "markdown",
      "metadata": {
        "id": "NtwFOz3hYqfI"
      },
      "source": [
        "#### 63. Create an array class that has a name attribute (★★☆) \n",
        "(**hint**: class method)"
      ]
    },
    {
      "cell_type": "code",
      "execution_count": 23,
      "metadata": {
        "id": "yl_0m9_0YqfI",
        "colab": {
          "base_uri": "https://localhost:8080/"
        },
        "outputId": "6fa844da-5c30-49ec-b8b6-01a3f68242da"
      },
      "outputs": [
        {
          "output_type": "stream",
          "name": "stdout",
          "text": [
            "range_10\n"
          ]
        }
      ],
      "source": [
        "class NamedArray(np.ndarray):\n",
        "  def __new__(cls, array, name=\"no name\"):\n",
        "    obj = np.asarray(array).view(cls)\n",
        "    obj.name = name\n",
        "    return obj\n",
        "  def __array_finalize__(self, obj):\n",
        "    if obj is None: return\n",
        "    self.info = getattr(obj, 'name', \"no name\")\n",
        "\n",
        "\n",
        "a = NamedArray(np.arange(10), \"range_10\")\n",
        "print (a.name)"
      ]
    },
    {
      "cell_type": "markdown",
      "metadata": {
        "id": "HDLcV39WYqfJ"
      },
      "source": [
        "#### 64. Consider a given vector, how to add 1 to each element indexed by a second vector (be careful with repeated indices)? (★★★) \n",
        "(**hint**: np.bincount | np.add.at)"
      ]
    },
    {
      "cell_type": "code",
      "execution_count": 24,
      "metadata": {
        "id": "ihRYN6LbYqfJ",
        "colab": {
          "base_uri": "https://localhost:8080/"
        },
        "outputId": "66cb47a1-eaa2-46e7-fb98-99e0cf2e0299"
      },
      "outputs": [
        {
          "output_type": "stream",
          "name": "stdout",
          "text": [
            "[3. 3. 2. 3. 5. 2. 2. 6. 2. 2.]\n"
          ]
        }
      ],
      "source": [
        "a = np.ones(10)\n",
        "b = np.random.randint(0,len(a),20)\n",
        "a += np.bincount(b, minlength=len(a))\n",
        "print(a)\n"
      ]
    },
    {
      "cell_type": "markdown",
      "metadata": {
        "id": "_K_Sxa3bYqfJ"
      },
      "source": [
        "#### 65. How to accumulate elements of a vector (X) to an array (F) based on an index list (I)? (★★★) \n",
        "(**hint**: np.bincount)"
      ]
    },
    {
      "cell_type": "code",
      "execution_count": 26,
      "metadata": {
        "id": "DJrDseS9YqfJ",
        "colab": {
          "base_uri": "https://localhost:8080/"
        },
        "outputId": "1d7fd9a7-619c-4743-8bf9-c5ab4b1612e0"
      },
      "outputs": [
        {
          "output_type": "stream",
          "name": "stdout",
          "text": [
            "[0. 6. 1. 7. 0. 4. 0. 0. 0. 3.]\n"
          ]
        }
      ],
      "source": [
        "a = [1,2,3,4,5,6]\n",
        "b = [2,3,9,5,3,1]\n",
        "c = np.bincount(b,a)\n",
        "print(c)\n"
      ]
    },
    {
      "cell_type": "markdown",
      "metadata": {
        "id": "-s5hdVdMYqfK"
      },
      "source": [
        "#### 66. Considering a (w,h,3) image of (dtype=ubyte), compute the number of unique colors (★★★) \n",
        "(**hint**: np.unique)"
      ]
    },
    {
      "cell_type": "code",
      "execution_count": 28,
      "metadata": {
        "id": "YMieWRgSYqfK",
        "colab": {
          "base_uri": "https://localhost:8080/"
        },
        "outputId": "02e6d67e-6ed8-4e56-c740-062aa9d16888"
      },
      "outputs": [
        {
          "output_type": "stream",
          "name": "stdout",
          "text": [
            "[0 1]\n"
          ]
        }
      ],
      "source": [
        "w,h  = 16,16\n",
        "c = np.random.randint(0,2,(w,h,3)).astype(np.ubyte)\n",
        "d = c[...,0]*256*256 + c[...,1]*256 +c[...,2]\n",
        "n = len(np.unique(d))\n",
        "print(np.unique(c))"
      ]
    },
    {
      "cell_type": "markdown",
      "metadata": {
        "id": "N0BCjkrGYqfK"
      },
      "source": [
        "#### 67. Considering a four dimensions array, how to get sum over the last two axis at once? (★★★) \n",
        "(**hint**: sum(axis=(-2,-1)))"
      ]
    },
    {
      "cell_type": "code",
      "execution_count": 29,
      "metadata": {
        "id": "QlGSu9tXYqfK",
        "colab": {
          "base_uri": "https://localhost:8080/"
        },
        "outputId": "f46e077b-da39-4ce0-9b45-bf5c1e253813"
      },
      "outputs": [
        {
          "output_type": "stream",
          "name": "stdout",
          "text": [
            "[[42 57 57 46]\n",
            " [57 40 47 38]\n",
            " [43 64 63 38]]\n"
          ]
        }
      ],
      "source": [
        "a = np.random.randint(0,10,(3,4,3,4))\n",
        "sum = a.reshape(a.shape[:-2] + (-1,)).sum(axis=-1)\n",
        "print(sum)"
      ]
    },
    {
      "cell_type": "markdown",
      "metadata": {
        "id": "W8fB-6gpYqfL"
      },
      "source": [
        "#### 68. Considering a one-dimensional vector D, how to compute means of subsets of D using a vector S of same size describing subset  indices? (★★★) \n",
        "(**hint**: np.bincount)"
      ]
    },
    {
      "cell_type": "code",
      "execution_count": 23,
      "metadata": {
        "id": "Re7H1rj5YqfL",
        "colab": {
          "base_uri": "https://localhost:8080/"
        },
        "outputId": "7c9a6eb1-973d-4acb-ef95-fa633259d386"
      },
      "outputs": [
        {
          "output_type": "stream",
          "name": "stdout",
          "text": [
            "[nan nan nan nan nan  1.  2.  3.  4.  5.]\n"
          ]
        },
        {
          "output_type": "stream",
          "name": "stderr",
          "text": [
            "<ipython-input-23-27e466fd943e>:5: RuntimeWarning: invalid value encountered in true_divide\n",
            "  D_means = D_sums / D_counts\n"
          ]
        }
      ],
      "source": [
        "D = np.array([1,2,3,4,5])\n",
        "S = np.array([5,6,7,8,9])\n",
        "D_sums = np.bincount(S, weights=D)\n",
        "D_counts = np.bincount(S)\n",
        "D_means = D_sums / D_counts\n",
        "print(D_means)\n"
      ]
    },
    {
      "cell_type": "markdown",
      "metadata": {
        "id": "N-75fnKVYqfL"
      },
      "source": [
        "#### 69. How to get the diagonal of a dot product? (★★★) \n",
        "(**hint**: np.diag)"
      ]
    },
    {
      "cell_type": "code",
      "execution_count": 26,
      "metadata": {
        "id": "0Fr6-5DXYqfL",
        "colab": {
          "base_uri": "https://localhost:8080/"
        },
        "outputId": "0a071dff-be62-4bcd-a7f1-1aba487ed551"
      },
      "outputs": [
        {
          "output_type": "stream",
          "name": "stdout",
          "text": [
            "[  8  79 154]\n"
          ]
        }
      ],
      "source": [
        "A = np.array([[1,2,3],[3,5,6],[5,7,8]])\n",
        "B = np.array([[6,7,8],[1,2,6],[0,8,9]])\n",
        "print(np.diag(np.dot(A, B)))\n"
      ]
    },
    {
      "cell_type": "markdown",
      "metadata": {
        "id": "eSHEZTlNYqfL"
      },
      "source": [
        "#### 70. Consider the vector \\[1, 2, 3, 4, 5\\], how to build a new vector with 3 consecutive zeros interleaved between each value? (★★★) \n",
        "(**hint**: array\\[::4\\])"
      ]
    },
    {
      "cell_type": "code",
      "execution_count": 37,
      "metadata": {
        "id": "d_0hrZkLYqfL",
        "colab": {
          "base_uri": "https://localhost:8080/"
        },
        "outputId": "0ba56acd-ec48-473c-b4fc-a2901b9dc5de"
      },
      "outputs": [
        {
          "output_type": "stream",
          "name": "stdout",
          "text": [
            "[1. 0. 0. 0. 2. 0. 0. 0. 3. 0. 0. 0. 4. 0. 0. 0. 5.]\n"
          ]
        }
      ],
      "source": [
        "a = np.array([1,2,3,4,5])\n",
        "b = 3\n",
        "c = np.zeros(len(a) + (len(a)-1)*(b))\n",
        "c[::b+1] = a\n",
        "print(c)"
      ]
    },
    {
      "cell_type": "markdown",
      "metadata": {
        "id": "M_NIPDTLYqfM"
      },
      "source": [
        "#### 71. Consider an array of dimension (5,5,3), how to mulitply it by an array with dimensions (5,5)? (★★★) \n",
        "(**hint**: array\\[:, :, None\\])"
      ]
    },
    {
      "cell_type": "code",
      "execution_count": 27,
      "metadata": {
        "collapsed": true,
        "id": "BdoDECNUYqfM",
        "colab": {
          "base_uri": "https://localhost:8080/"
        },
        "outputId": "0002c530-c996-4b6a-beaa-3f94bc8b2c75"
      },
      "outputs": [
        {
          "output_type": "stream",
          "name": "stdout",
          "text": [
            "[[[1. 1. 1.]\n",
            "  [1. 1. 1.]\n",
            "  [1. 1. 1.]\n",
            "  [1. 1. 1.]\n",
            "  [1. 1. 1.]]\n",
            "\n",
            " [[1. 1. 1.]\n",
            "  [1. 1. 1.]\n",
            "  [1. 1. 1.]\n",
            "  [1. 1. 1.]\n",
            "  [1. 1. 1.]]\n",
            "\n",
            " [[1. 1. 1.]\n",
            "  [1. 1. 1.]\n",
            "  [1. 1. 1.]\n",
            "  [1. 1. 1.]\n",
            "  [1. 1. 1.]]\n",
            "\n",
            " [[1. 1. 1.]\n",
            "  [1. 1. 1.]\n",
            "  [1. 1. 1.]\n",
            "  [1. 1. 1.]\n",
            "  [1. 1. 1.]]\n",
            "\n",
            " [[1. 1. 1.]\n",
            "  [1. 1. 1.]\n",
            "  [1. 1. 1.]\n",
            "  [1. 1. 1.]\n",
            "  [1. 1. 1.]]]\n"
          ]
        }
      ],
      "source": [
        "A = np.ones((5,5,3))\n",
        "B = np.ones((5,5))\n",
        "print(A * B[:,:,None])\n"
      ]
    },
    {
      "cell_type": "markdown",
      "metadata": {
        "id": "dcLsnfneYqfM"
      },
      "source": [
        "#### 72. How to swap two rows of an array? (★★★) \n",
        "(**hint**: array\\[\\[\\]\\] = array\\[\\[\\]\\])"
      ]
    },
    {
      "cell_type": "code",
      "execution_count": 40,
      "metadata": {
        "id": "EbY2RJZtYqfM",
        "colab": {
          "base_uri": "https://localhost:8080/"
        },
        "outputId": "95196432-2e8d-4e9c-e672-00426db5bf85"
      },
      "outputs": [
        {
          "output_type": "stream",
          "name": "stdout",
          "text": [
            "[[ 6  7  8  9 10 11]\n",
            " [ 0  1  2  3  4  5]\n",
            " [12 13 14 15 16 17]\n",
            " [18 19 20 21 22 23]\n",
            " [24 25 26 27 28 29]\n",
            " [30 31 32 33 34 35]]\n"
          ]
        }
      ],
      "source": [
        "a = np.arange(36).reshape(6,6)\n",
        "a[[0,1]] = a[[1,0]]\n",
        "print(a)"
      ]
    },
    {
      "cell_type": "markdown",
      "metadata": {
        "id": "P-6pVldpYqfN"
      },
      "source": [
        "#### 73. Consider a set of 10 triplets describing 10 triangles (with shared vertices), find the set of unique line segments composing all the  triangles (★★★) \n",
        "(**hint**: repeat, np.roll, np.sort, view, np.unique)"
      ]
    },
    {
      "cell_type": "code",
      "execution_count": 41,
      "metadata": {
        "id": "yrcroHS1YqfN",
        "colab": {
          "base_uri": "https://localhost:8080/"
        },
        "outputId": "977dc5a8-0877-494f-f40e-716299f50f0e"
      },
      "outputs": [
        {
          "output_type": "stream",
          "name": "stdout",
          "text": [
            "[( 0, 29) ( 0, 87) ( 3, 32) ( 3, 44) ( 7, 21) ( 7, 85) ( 8, 40) ( 8, 98)\n",
            " ( 9, 59) ( 9, 87) (13, 27) (13, 61) (14, 21) (14, 88) (21, 85) (21, 88)\n",
            " (27, 61) (29, 87) (32, 44) (34, 78) (34, 83) (37, 42) (37, 74) (40, 98)\n",
            " (42, 74) (57, 73) (57, 95) (59, 87) (73, 95) (78, 83)]\n"
          ]
        }
      ],
      "source": [
        "a = np.random.randint(0,100,(10,3))\n",
        "b = np.roll(a.repeat(2,axis=1),-1,axis=1)\n",
        "b = b.reshape(len(b)*3,2)\n",
        "b = np.sort(b,axis=1)\n",
        "c = b.view( dtype=[('p0',b.dtype),('p1',b.dtype)] )\n",
        "c = np.unique(c)\n",
        "print(c)"
      ]
    },
    {
      "cell_type": "markdown",
      "metadata": {
        "id": "LWCZnicxYqfN"
      },
      "source": [
        "#### 74. Given an array C that is a bincount, how to produce an array A such that np.bincount(A) == C? (★★★) \n",
        "(**hint**: np.repeat)"
      ]
    },
    {
      "cell_type": "code",
      "execution_count": 43,
      "metadata": {
        "id": "xuGItfiDYqfN",
        "colab": {
          "base_uri": "https://localhost:8080/"
        },
        "outputId": "2f914853-30b4-41ef-e0ee-9d8960d9fabf"
      },
      "outputs": [
        {
          "output_type": "stream",
          "name": "stdout",
          "text": [
            "[1 1 2 3 4 4 6]\n"
          ]
        }
      ],
      "source": [
        "C = np.bincount([1,1,2,3,4,4,6])\n",
        "a = np.repeat(np.arange(len(C)), C)\n",
        "print(a)"
      ]
    },
    {
      "cell_type": "markdown",
      "metadata": {
        "id": "sapM-cuJYqfO"
      },
      "source": [
        "#### 75. How to compute averages using a sliding window over an array? (★★★) \n",
        "(**hint**: np.cumsum)"
      ]
    },
    {
      "cell_type": "code",
      "execution_count": 45,
      "metadata": {
        "id": "v4uALhhpYqfO",
        "colab": {
          "base_uri": "https://localhost:8080/"
        },
        "outputId": "5f89a397-b89c-4b48-e789-399a570b6648"
      },
      "outputs": [
        {
          "output_type": "stream",
          "name": "stdout",
          "text": [
            "[ 2.  3.  4.  5.  6.  7.  8.  9. 10. 11. 12. 13. 14. 15. 16. 17.]\n"
          ]
        }
      ],
      "source": [
        "def window_average(a, n=5) :\n",
        "  c = np.cumsum(a, dtype=float)\n",
        "  c[n:] = c[n:] - c[:-n]\n",
        "  return c[n - 1:] / n\n",
        "b = np.arange(20)\n",
        "print(window_average(b, n=5))\n"
      ]
    },
    {
      "cell_type": "markdown",
      "metadata": {
        "id": "15rGcqJvYqfO"
      },
      "source": [
        "#### 76. Consider a one-dimensional array Z, build a two-dimensional array whose first row is (Z\\[0\\],Z\\[1\\],Z\\[2\\]) and each subsequent row is  shifted by 1 (last row should be (Z\\[-3\\],Z\\[-2\\],Z\\[-1\\]) (★★★) \n",
        "(**hint**: from numpy.lib import stride_tricks)"
      ]
    },
    {
      "cell_type": "code",
      "execution_count": 46,
      "metadata": {
        "id": "Sa1zvQnsYqfO",
        "colab": {
          "base_uri": "https://localhost:8080/"
        },
        "outputId": "4d5dc8f7-d8da-435b-eef5-78667a6ea4e2"
      },
      "outputs": [
        {
          "output_type": "stream",
          "name": "stdout",
          "text": [
            "[[0 1 2]\n",
            " [1 2 3]\n",
            " [2 3 4]\n",
            " [3 4 5]\n",
            " [4 5 6]\n",
            " [5 6 7]\n",
            " [6 7 8]\n",
            " [7 8 9]]\n"
          ]
        }
      ],
      "source": [
        "from numpy.lib import stride_tricks\n",
        "def rolling(a, window):\n",
        "  shape = (a.size - window + 1, window)\n",
        "  strides = (a.itemsize, a.itemsize)\n",
        "  return stride_tricks.as_strided(a, shape=shape, strides=strides)\n",
        "b = rolling(np.arange(10), 3)\n",
        "print(b)\n"
      ]
    },
    {
      "cell_type": "markdown",
      "metadata": {
        "id": "HeiGizwwYqfP"
      },
      "source": [
        "#### 77. How to negate a boolean, or to change the sign of a float inplace? (★★★) \n",
        "(**hint**: np.logical_not, np.negative)"
      ]
    },
    {
      "cell_type": "code",
      "execution_count": 34,
      "metadata": {
        "id": "qJ_8ffguYqfP",
        "colab": {
          "base_uri": "https://localhost:8080/"
        },
        "outputId": "88621fd5-314e-4c7b-863f-bae15e53956f"
      },
      "outputs": [
        {
          "output_type": "stream",
          "name": "stdout",
          "text": [
            "[0. 0. 0. 0. 0. 0.]\n",
            "[-0. -0. -0. -0. -0. -0.]\n"
          ]
        }
      ],
      "source": [
        "arr = np.array([1.8,2.0,3.6,4,5,6])\n",
        "\n",
        "print(np.logical_not(arr, out=arr))\n",
        "\n",
        "print(np.negative(arr, out=arr))\n"
      ]
    },
    {
      "cell_type": "markdown",
      "metadata": {
        "id": "m2i2aYiOYqfP"
      },
      "source": [
        "#### 78. Consider 2 sets of points P0,P1 describing lines (2d) and a point p, how to compute distance from p to each line i  (P0\\[i\\],P1\\[i\\])? (★★★)"
      ]
    },
    {
      "cell_type": "code",
      "execution_count": 32,
      "metadata": {
        "id": "gAd_k9UXYqfP"
      },
      "outputs": [],
      "source": []
    },
    {
      "cell_type": "markdown",
      "metadata": {
        "id": "HmoQSY7YYqfP"
      },
      "source": [
        "#### 79. Consider 2 sets of points P0,P1 describing lines (2d) and a set of points P, how to compute distance from each point j (P\\[j\\]) to each line i (P0\\[i\\],P1\\[i\\])? (★★★)"
      ]
    },
    {
      "cell_type": "code",
      "execution_count": 53,
      "metadata": {
        "id": "d6sm-NvXYqfQ",
        "colab": {
          "base_uri": "https://localhost:8080/"
        },
        "outputId": "64ec7f7b-6d49-4ea0-dd2f-0a6a17b8c92c"
      },
      "outputs": [
        {
          "output_type": "stream",
          "name": "stdout",
          "text": [
            "[[ 1.42024761  9.96733958  3.65553034  2.06134757  0.0628401   8.46932781\n",
            "   5.28799518  3.48237532  7.38557292  8.19980812]\n",
            " [ 5.71370421  9.26125024  3.36064289  0.29062823  4.51309489  6.67184739\n",
            "   9.61470105  7.59648131  9.16850253 11.02825884]\n",
            " [ 1.11383339  4.06168104  2.536819    2.83940127  3.50321624  3.59918731\n",
            "   4.81761853  1.39495692  0.57117522  1.70154398]\n",
            " [ 2.80664761  4.64084946 12.01869985  9.11194751 12.66491577  2.60388394\n",
            "   0.613182   12.34524335 11.55152758 10.76262116]\n",
            " [ 2.54809453  7.47202968  0.64414277  1.04101449  5.76732053  7.48889728\n",
            "   1.20351715  2.7428146   2.20331291  2.25771906]\n",
            " [ 8.48701686  4.10635248  1.73166568  4.81911124  4.82494318  1.56746248\n",
            "  12.28201062  6.63778884  5.04458285  7.88795027]\n",
            " [ 3.10959911 11.32828784  5.24908154  2.74780483  2.70768057  9.13735914\n",
            "   7.03488977  6.36234193  9.92703751 11.04514246]\n",
            " [ 4.14362272 11.4886996   4.67021411  4.86778908  5.37352304 11.30752731\n",
            "   0.30251247  1.38244045  5.75585327  5.17542312]\n",
            " [ 6.17434563  2.18253709  8.53020775  9.49437866  1.20960704  3.06125529\n",
            "   9.77049152  0.71084486  3.40366274  0.68592725]\n",
            " [ 6.71676061  9.78351312  4.00866554  0.45698553  5.92759691  6.82864135\n",
            "  10.64416985  9.08651678 10.35661744 12.41554742]]\n"
          ]
        }
      ],
      "source": [
        "P0 = np.random.uniform(-10, 10, (10,2))\n",
        "P1 = np.random.uniform(-10,10,(10,2))\n",
        "p = np.random.uniform(-10, 10, (10,2))\n",
        "print (np.array([distance(P0,P1,p_i) for p_i in p]))"
      ]
    },
    {
      "cell_type": "markdown",
      "metadata": {
        "id": "fh8JByLfYqfQ"
      },
      "source": [
        "#### 80. Consider an arbitrary array, write a function that extract a subpart with a fixed shape and centered on a given element (pad with a `fill` value when necessary) (★★★) \n",
        "(**hint**: minimum, maximum)"
      ]
    },
    {
      "cell_type": "code",
      "execution_count": 30,
      "metadata": {
        "id": "InnVGveJYqfR"
      },
      "outputs": [],
      "source": []
    },
    {
      "cell_type": "markdown",
      "metadata": {
        "id": "yeRyHhTqYqfS"
      },
      "source": [
        "#### 81. Consider an array Z = \\[1,2,3,4,5,6,7,8,9,10,11,12,13,14\\], how to generate an array R = \\[\\[1,2,3,4\\], \\[2,3,4,5\\], \\[3,4,5,6\\], ..., \\[11,12,13,14\\]\\]? (★★★) \n",
        "(**hint**: stride\\_tricks.as\\_strided)"
      ]
    },
    {
      "cell_type": "code",
      "execution_count": 55,
      "metadata": {
        "id": "KdsCmNnqYqfS",
        "colab": {
          "base_uri": "https://localhost:8080/"
        },
        "outputId": "791f5fa0-567d-4f49-c5ee-20896775a4e7"
      },
      "outputs": [
        {
          "output_type": "stream",
          "name": "stdout",
          "text": [
            "[[          1  8589934592           2 12884901888]\n",
            " [ 8589934592           2 12884901888           3]\n",
            " [          2 12884901888           3 17179869184]\n",
            " [12884901888           3 17179869184           4]\n",
            " [          3 17179869184           4 21474836480]\n",
            " [17179869184           4 21474836480           5]\n",
            " [          4 21474836480           5 25769803776]\n",
            " [21474836480           5 25769803776           6]\n",
            " [          5 25769803776           6 30064771072]\n",
            " [25769803776           6 30064771072           7]\n",
            " [          6 30064771072           7 34359738368]]\n"
          ]
        }
      ],
      "source": [
        "Z = [1,2,3,4,5,6,7,8,9,10,11,12,13,14]\n",
        "R = stride_tricks.as_strided(Z,(11,4),(4,4))\n",
        "print(R)"
      ]
    },
    {
      "cell_type": "markdown",
      "metadata": {
        "id": "XyRjs48dYqfT"
      },
      "source": [
        "#### 82. Compute a matrix rank (★★★) \n",
        "(**hint**: np.linalg.svd) (suggestion: np.linalg.svd)"
      ]
    },
    {
      "cell_type": "code",
      "execution_count": 57,
      "metadata": {
        "id": "wjcaI91gYqfT",
        "colab": {
          "base_uri": "https://localhost:8080/"
        },
        "outputId": "d59c8697-0aad-4fa2-8a88-ff57584769a0"
      },
      "outputs": [
        {
          "output_type": "stream",
          "name": "stdout",
          "text": [
            "10\n"
          ]
        }
      ],
      "source": [
        "Z = np.random.uniform(0,1,(10,10))\n",
        "U, S, V = np.linalg.svd(Z) \n",
        "rank = np.sum(S > 1e-10)\n",
        "print(rank)\n"
      ]
    },
    {
      "cell_type": "markdown",
      "metadata": {
        "id": "WNKXcER2YqfT"
      },
      "source": [
        "#### 83. How to find the most frequent value in an array? \n",
        "(**hint**: np.bincount, argmax)"
      ]
    },
    {
      "cell_type": "code",
      "execution_count": 32,
      "metadata": {
        "id": "Morbwsr6YqfT",
        "colab": {
          "base_uri": "https://localhost:8080/"
        },
        "outputId": "1294596d-aad3-42c1-8bb3-f49ee8d826da"
      },
      "outputs": [
        {
          "output_type": "stream",
          "name": "stdout",
          "text": [
            "[0 1 4 3 1 1 1 1 1 1 0 0 0 0 0 0 0 0 0 0 0 0 0 0 0 0 0 0 0 0 0 0 0 0 0 0 0\n",
            " 0 0 0 0 0 1]\n",
            "9\n"
          ]
        }
      ],
      "source": [
        "\n",
        "a= np.array([1,2,3,4,5,6,7,2,3,42,2,2,3,8,9])\n",
        "print(np.bincount(a))\n",
        "print(np.argmax(a))"
      ]
    },
    {
      "cell_type": "markdown",
      "metadata": {
        "id": "wtrmeeTHYqfT"
      },
      "source": [
        "#### 84. Extract all the contiguous 3x3 blocks from a random 10x10 matrix (★★★) \n",
        "(**hint**: stride\\_tricks.as\\_strided)"
      ]
    },
    {
      "cell_type": "code",
      "execution_count": 63,
      "metadata": {
        "id": "1nH52C8SYqfT",
        "colab": {
          "base_uri": "https://localhost:8080/"
        },
        "outputId": "4eef8998-e234-4902-87c0-8a43f08c38e2"
      },
      "outputs": [
        {
          "output_type": "stream",
          "name": "stdout",
          "text": [
            "[[[[3 3 3]\n",
            "   [0 0 3]\n",
            "   [2 3 4]]\n",
            "\n",
            "  [[3 3 4]\n",
            "   [0 3 4]\n",
            "   [3 4 0]]\n",
            "\n",
            "  [[3 4 0]\n",
            "   [3 4 0]\n",
            "   [4 0 3]]\n",
            "\n",
            "  [[4 0 0]\n",
            "   [4 0 0]\n",
            "   [0 3 3]]\n",
            "\n",
            "  [[0 0 2]\n",
            "   [0 0 1]\n",
            "   [3 3 2]]\n",
            "\n",
            "  [[0 2 4]\n",
            "   [0 1 3]\n",
            "   [3 2 0]]\n",
            "\n",
            "  [[2 4 1]\n",
            "   [1 3 4]\n",
            "   [2 0 4]]\n",
            "\n",
            "  [[4 1 3]\n",
            "   [3 4 1]\n",
            "   [0 4 3]]]\n",
            "\n",
            "\n",
            " [[[0 0 3]\n",
            "   [2 3 4]\n",
            "   [3 1 3]]\n",
            "\n",
            "  [[0 3 4]\n",
            "   [3 4 0]\n",
            "   [1 3 4]]\n",
            "\n",
            "  [[3 4 0]\n",
            "   [4 0 3]\n",
            "   [3 4 1]]\n",
            "\n",
            "  [[4 0 0]\n",
            "   [0 3 3]\n",
            "   [4 1 4]]\n",
            "\n",
            "  [[0 0 1]\n",
            "   [3 3 2]\n",
            "   [1 4 1]]\n",
            "\n",
            "  [[0 1 3]\n",
            "   [3 2 0]\n",
            "   [4 1 3]]\n",
            "\n",
            "  [[1 3 4]\n",
            "   [2 0 4]\n",
            "   [1 3 1]]\n",
            "\n",
            "  [[3 4 1]\n",
            "   [0 4 3]\n",
            "   [3 1 0]]]\n",
            "\n",
            "\n",
            " [[[2 3 4]\n",
            "   [3 1 3]\n",
            "   [1 4 3]]\n",
            "\n",
            "  [[3 4 0]\n",
            "   [1 3 4]\n",
            "   [4 3 0]]\n",
            "\n",
            "  [[4 0 3]\n",
            "   [3 4 1]\n",
            "   [3 0 3]]\n",
            "\n",
            "  [[0 3 3]\n",
            "   [4 1 4]\n",
            "   [0 3 3]]\n",
            "\n",
            "  [[3 3 2]\n",
            "   [1 4 1]\n",
            "   [3 3 0]]\n",
            "\n",
            "  [[3 2 0]\n",
            "   [4 1 3]\n",
            "   [3 0 1]]\n",
            "\n",
            "  [[2 0 4]\n",
            "   [1 3 1]\n",
            "   [0 1 4]]\n",
            "\n",
            "  [[0 4 3]\n",
            "   [3 1 0]\n",
            "   [1 4 3]]]\n",
            "\n",
            "\n",
            " [[[3 1 3]\n",
            "   [1 4 3]\n",
            "   [2 1 3]]\n",
            "\n",
            "  [[1 3 4]\n",
            "   [4 3 0]\n",
            "   [1 3 4]]\n",
            "\n",
            "  [[3 4 1]\n",
            "   [3 0 3]\n",
            "   [3 4 4]]\n",
            "\n",
            "  [[4 1 4]\n",
            "   [0 3 3]\n",
            "   [4 4 2]]\n",
            "\n",
            "  [[1 4 1]\n",
            "   [3 3 0]\n",
            "   [4 2 1]]\n",
            "\n",
            "  [[4 1 3]\n",
            "   [3 0 1]\n",
            "   [2 1 0]]\n",
            "\n",
            "  [[1 3 1]\n",
            "   [0 1 4]\n",
            "   [1 0 1]]\n",
            "\n",
            "  [[3 1 0]\n",
            "   [1 4 3]\n",
            "   [0 1 4]]]\n",
            "\n",
            "\n",
            " [[[1 4 3]\n",
            "   [2 1 3]\n",
            "   [3 1 0]]\n",
            "\n",
            "  [[4 3 0]\n",
            "   [1 3 4]\n",
            "   [1 0 0]]\n",
            "\n",
            "  [[3 0 3]\n",
            "   [3 4 4]\n",
            "   [0 0 2]]\n",
            "\n",
            "  [[0 3 3]\n",
            "   [4 4 2]\n",
            "   [0 2 3]]\n",
            "\n",
            "  [[3 3 0]\n",
            "   [4 2 1]\n",
            "   [2 3 0]]\n",
            "\n",
            "  [[3 0 1]\n",
            "   [2 1 0]\n",
            "   [3 0 0]]\n",
            "\n",
            "  [[0 1 4]\n",
            "   [1 0 1]\n",
            "   [0 0 2]]\n",
            "\n",
            "  [[1 4 3]\n",
            "   [0 1 4]\n",
            "   [0 2 1]]]\n",
            "\n",
            "\n",
            " [[[2 1 3]\n",
            "   [3 1 0]\n",
            "   [1 1 2]]\n",
            "\n",
            "  [[1 3 4]\n",
            "   [1 0 0]\n",
            "   [1 2 1]]\n",
            "\n",
            "  [[3 4 4]\n",
            "   [0 0 2]\n",
            "   [2 1 2]]\n",
            "\n",
            "  [[4 4 2]\n",
            "   [0 2 3]\n",
            "   [1 2 0]]\n",
            "\n",
            "  [[4 2 1]\n",
            "   [2 3 0]\n",
            "   [2 0 2]]\n",
            "\n",
            "  [[2 1 0]\n",
            "   [3 0 0]\n",
            "   [0 2 3]]\n",
            "\n",
            "  [[1 0 1]\n",
            "   [0 0 2]\n",
            "   [2 3 1]]\n",
            "\n",
            "  [[0 1 4]\n",
            "   [0 2 1]\n",
            "   [3 1 4]]]\n",
            "\n",
            "\n",
            " [[[3 1 0]\n",
            "   [1 1 2]\n",
            "   [2 3 2]]\n",
            "\n",
            "  [[1 0 0]\n",
            "   [1 2 1]\n",
            "   [3 2 3]]\n",
            "\n",
            "  [[0 0 2]\n",
            "   [2 1 2]\n",
            "   [2 3 4]]\n",
            "\n",
            "  [[0 2 3]\n",
            "   [1 2 0]\n",
            "   [3 4 3]]\n",
            "\n",
            "  [[2 3 0]\n",
            "   [2 0 2]\n",
            "   [4 3 1]]\n",
            "\n",
            "  [[3 0 0]\n",
            "   [0 2 3]\n",
            "   [3 1 1]]\n",
            "\n",
            "  [[0 0 2]\n",
            "   [2 3 1]\n",
            "   [1 1 2]]\n",
            "\n",
            "  [[0 2 1]\n",
            "   [3 1 4]\n",
            "   [1 2 1]]]\n",
            "\n",
            "\n",
            " [[[1 1 2]\n",
            "   [2 3 2]\n",
            "   [0 4 2]]\n",
            "\n",
            "  [[1 2 1]\n",
            "   [3 2 3]\n",
            "   [4 2 3]]\n",
            "\n",
            "  [[2 1 2]\n",
            "   [2 3 4]\n",
            "   [2 3 3]]\n",
            "\n",
            "  [[1 2 0]\n",
            "   [3 4 3]\n",
            "   [3 3 2]]\n",
            "\n",
            "  [[2 0 2]\n",
            "   [4 3 1]\n",
            "   [3 2 4]]\n",
            "\n",
            "  [[0 2 3]\n",
            "   [3 1 1]\n",
            "   [2 4 1]]\n",
            "\n",
            "  [[2 3 1]\n",
            "   [1 1 2]\n",
            "   [4 1 0]]\n",
            "\n",
            "  [[3 1 4]\n",
            "   [1 2 1]\n",
            "   [1 0 0]]]]\n"
          ]
        }
      ],
      "source": [
        "Z = np.random.randint(0,5,(10,10))\n",
        "n = 3\n",
        "i = 1 + (Z.shape[0]-3)\n",
        "j = 1 + (Z.shape[1]-3)\n",
        "C = stride_tricks.as_strided(Z, shape=(i, j, n, n), strides=Z.strides + Z.strides)\n",
        "print(C)\n"
      ]
    },
    {
      "cell_type": "markdown",
      "metadata": {
        "id": "RxVu4fEfYqfU"
      },
      "source": [
        "#### 85. Create a 2D array subclass such that Z\\[i,j\\] == Z\\[j,i\\] (★★★) \n",
        "(**hint**: class method)"
      ]
    },
    {
      "cell_type": "code",
      "execution_count": 34,
      "metadata": {
        "id": "tR2ZOoaaYqfU"
      },
      "outputs": [],
      "source": []
    },
    {
      "cell_type": "markdown",
      "metadata": {
        "id": "S_xznHgbYqfU"
      },
      "source": [
        "#### 86. Consider a set of p matrices wich shape (n,n) and a set of p vectors with shape (n,1). How to compute the sum of of the p matrix products at once? (result has shape (n,1)) (★★★) \n",
        "(**hint**: np.tensordot)"
      ]
    },
    {
      "cell_type": "code",
      "execution_count": 35,
      "metadata": {
        "id": "PBuC3EHqYqfU",
        "colab": {
          "base_uri": "https://localhost:8080/"
        },
        "outputId": "922e64af-149a-41cc-d4b8-5865ad8cea8d"
      },
      "outputs": [
        {
          "output_type": "stream",
          "name": "stdout",
          "text": [
            "[[50.]\n",
            " [50.]\n",
            " [50.]\n",
            " [50.]\n",
            " [50.]\n",
            " [50.]\n",
            " [50.]\n",
            " [50.]\n",
            " [50.]\n",
            " [50.]]\n"
          ]
        }
      ],
      "source": [
        "p, n = 5,10\n",
        "a= np.ones((p,n,n))\n",
        "b = np.ones((p,n,1))\n",
        "c = np.tensordot(a, b, axes=[[0, 2], [0, 1]])\n",
        "print(c)\n"
      ]
    },
    {
      "cell_type": "markdown",
      "metadata": {
        "id": "zz_7xZLRYqfU"
      },
      "source": [
        "#### 87. Consider a 16x16 array, how to get the block-sum (block size is 4x4)? (★★★) \n",
        "(**hint**: np.add.reduceat)"
      ]
    },
    {
      "cell_type": "code",
      "execution_count": 40,
      "metadata": {
        "id": "tFbtE44-YqfU",
        "colab": {
          "base_uri": "https://localhost:8080/"
        },
        "outputId": "01d6f9a2-2a48-4f27-aa80-c845e63fabcb"
      },
      "outputs": [
        {
          "output_type": "stream",
          "name": "stdout",
          "text": [
            "[[16. 16. 16. 16.]\n",
            " [16. 16. 16. 16.]\n",
            " [16. 16. 16. 16.]\n",
            " [16. 16. 16. 16.]]\n"
          ]
        }
      ],
      "source": [
        "a = np.ones((16,16))\n",
        "b = 4\n",
        "c = np.add.reduceat(np.add.reduceat(a, np.arange(0, a.shape[0], b), axis=0), np.arange(0, a.shape[1], b), axis=1)\n",
        "print(c)"
      ]
    },
    {
      "cell_type": "markdown",
      "metadata": {
        "id": "xhw7KUaxYqfU"
      },
      "source": [
        "#### 88. How to implement the Game of Life using numpy arrays? (★★★)"
      ]
    },
    {
      "cell_type": "code",
      "execution_count": null,
      "metadata": {
        "id": "_-sxEdJ0YqfV"
      },
      "outputs": [],
      "source": []
    },
    {
      "cell_type": "markdown",
      "metadata": {
        "id": "FMqIKT7DYqfV"
      },
      "source": [
        "#### 89. How to get the n largest values of an array (★★★) \n",
        "(**hint**: np.argsort | np.argpartition)"
      ]
    },
    {
      "cell_type": "code",
      "execution_count": 41,
      "metadata": {
        "id": "jEaEYc3RYqfV",
        "colab": {
          "base_uri": "https://localhost:8080/"
        },
        "outputId": "494871d0-f03b-448f-e142-b8a359152cc0"
      },
      "outputs": [
        {
          "output_type": "stream",
          "name": "stdout",
          "text": [
            "[995 996 997 998 999]\n",
            "[998 999 997 996 995]\n"
          ]
        }
      ],
      "source": [
        "a= np.arange(1000)\n",
        "np.random.shuffle(a)\n",
        "n = 5\n",
        "\n",
        "print(a[np.argsort(a)[-n:]])\n",
        "\n",
        "print(a[np.argpartition(-a,n)[:n]])"
      ]
    },
    {
      "cell_type": "markdown",
      "metadata": {
        "id": "UIg0tQNPYqfW"
      },
      "source": [
        "#### 90. Given an arbitrary number of vectors, build the cartesian product (every combinations of every item) (★★★) \n",
        "(**hint**: np.indices)"
      ]
    },
    {
      "cell_type": "code",
      "execution_count": 69,
      "metadata": {
        "scrolled": true,
        "id": "mr8fnipKYqfW",
        "colab": {
          "base_uri": "https://localhost:8080/"
        },
        "outputId": "55e35222-5f29-4b16-f53d-ebceabaee44d"
      },
      "outputs": [
        {
          "output_type": "stream",
          "name": "stdout",
          "text": [
            "[[1 0 0]\n",
            " [1 0 1]\n",
            " [1 1 0]\n",
            " [1 1 1]\n",
            " [2 0 0]\n",
            " [2 0 1]\n",
            " [2 1 0]\n",
            " [2 1 1]\n",
            " [3 0 0]\n",
            " [3 0 1]\n",
            " [3 1 0]\n",
            " [3 1 1]]\n"
          ]
        }
      ],
      "source": [
        "def cartesian(arrays):\n",
        "  arrays = [np.asarray(a) for a in arrays]\n",
        "  shape = (len(x) for x in arrays)\n",
        "  ix = np.indices(shape, dtype=int)\n",
        "  ix = ix.reshape(len(arrays), -1).T\n",
        "  for n, arr in enumerate(arrays):\n",
        "    ix[:, n] = arrays[n][ix[:, n]]\n",
        "    return ix\n",
        "print (cartesian(([1, 2, 3], [4, 5], [6, 7])))\n"
      ]
    },
    {
      "cell_type": "markdown",
      "metadata": {
        "id": "XzF2jQzeYqfW"
      },
      "source": [
        "#### 91. How to create a record array from a regular array? (★★★) \n",
        "(**hint**: np.core.records.fromarrays)"
      ]
    },
    {
      "cell_type": "code",
      "execution_count": 49,
      "metadata": {
        "id": "5v6uEVF5YqfW",
        "colab": {
          "base_uri": "https://localhost:8080/"
        },
        "outputId": "febb3f99-7f5f-4c20-9839-63736418a57d"
      },
      "outputs": [
        {
          "output_type": "stream",
          "name": "stdout",
          "text": [
            "[['numpy' '6.2' '7']\n",
            " ['pandas' '2.4' '5']]\n",
            "[(b'numpy', 6.2, 7) (b'pandas', 2.4, 5)]\n"
          ]
        }
      ],
      "source": [
        "a = np.array([(\"numpy\",6.2,7),(\"pandas\", 2.4, 5)])\n",
        "b= np.core.records.fromarrays(a.T,names='col1, col2, col3',formats = 'S8, f8, i8')\n",
        "print(a)\n",
        "print(b)\n"
      ]
    },
    {
      "cell_type": "markdown",
      "metadata": {
        "id": "EmjD7Mg0YqfW"
      },
      "source": [
        "#### 92. Consider a large vector Z, compute Z to the power of 3 using 3 different methods (★★★) \n",
        "(**hint**: np.power, \\*, np.einsum)"
      ]
    },
    {
      "cell_type": "code",
      "execution_count": 49,
      "metadata": {
        "id": "v5enyXByYqfW"
      },
      "outputs": [],
      "source": [
        "\n"
      ]
    },
    {
      "cell_type": "markdown",
      "metadata": {
        "id": "DSVu1wMTYqfX"
      },
      "source": [
        "#### 93. Consider two arrays A and B of shape (8,3) and (2,2). How to find rows of A that contain elements of each row of B regardless of the order of the elements in B? (★★★) \n",
        "(**hint**: np.where)"
      ]
    },
    {
      "cell_type": "code",
      "execution_count": null,
      "metadata": {
        "id": "dhGGYu9jYqfX"
      },
      "outputs": [],
      "source": []
    },
    {
      "cell_type": "markdown",
      "metadata": {
        "id": "kEnyN5wyYqfX"
      },
      "source": [
        "#### 94. Considering a 10x3 matrix, extract rows with unequal values (e.g. \\[2,2,3\\]) (★★★)"
      ]
    },
    {
      "cell_type": "code",
      "execution_count": 50,
      "metadata": {
        "id": "TWiK108wYqfX",
        "colab": {
          "base_uri": "https://localhost:8080/"
        },
        "outputId": "053f3100-ce8d-46a2-c003-f24bffaee6bd"
      },
      "outputs": [
        {
          "output_type": "stream",
          "name": "stdout",
          "text": [
            "[[3 0 4]\n",
            " [1 2 3]\n",
            " [0 1 2]\n",
            " [0 2 3]\n",
            " [3 1 0]\n",
            " [4 0 4]\n",
            " [3 2 2]\n",
            " [1 1 4]\n",
            " [3 1 4]\n",
            " [3 0 4]]\n",
            "[[3 0 4]\n",
            " [1 2 3]\n",
            " [0 1 2]\n",
            " [0 2 3]\n",
            " [3 1 0]\n",
            " [4 0 4]\n",
            " [3 2 2]\n",
            " [1 1 4]\n",
            " [3 1 4]\n",
            " [3 0 4]]\n"
          ]
        }
      ],
      "source": [
        "a= np.random.randint(0,5,(10,3))\n",
        "b = np.logical_and.reduce(a[:,1:] == a[:,:-1], axis=1)\n",
        "c= a[~b]\n",
        "print(a)\n",
        "print(c)\n"
      ]
    },
    {
      "cell_type": "markdown",
      "metadata": {
        "id": "8EXa-rcbYqfX"
      },
      "source": [
        "#### 95. Convert a vector of ints into a matrix binary representation (★★★) \n",
        "(**hint**: np.unpackbits)"
      ]
    },
    {
      "cell_type": "code",
      "execution_count": 73,
      "metadata": {
        "id": "BdrecWYUYqfX",
        "colab": {
          "base_uri": "https://localhost:8080/"
        },
        "outputId": "f53bb986-87fb-424e-dc31-57092bb64903"
      },
      "outputs": [
        {
          "output_type": "stream",
          "name": "stdout",
          "text": [
            "[[0 0 0 0 0 0 0 0]\n",
            " [0 0 0 0 0 0 0 1]\n",
            " [0 0 0 0 0 0 1 0]\n",
            " [0 0 0 0 0 0 1 1]\n",
            " [0 0 0 0 1 1 1 1]\n",
            " [0 0 0 1 0 0 0 0]\n",
            " [0 0 1 0 0 0 0 0]\n",
            " [0 1 0 0 0 0 0 0]\n",
            " [1 0 0 0 0 0 0 0]]\n"
          ]
        }
      ],
      "source": [
        "I = np.array([0, 1, 2, 3, 15, 16, 32, 64, 128], dtype=np.uint8)\n",
        "print(np.unpackbits(I[:, np.newaxis], axis=1))\n"
      ]
    },
    {
      "cell_type": "markdown",
      "metadata": {
        "id": "7FrBH8OaYqfY"
      },
      "source": [
        "#### 96. Given a two dimensional array, how to extract unique rows? (★★★) \n",
        "(**hint**: np.ascontiguousarray)"
      ]
    },
    {
      "cell_type": "code",
      "execution_count": 74,
      "metadata": {
        "id": "tZSVaRjRYqfY",
        "colab": {
          "base_uri": "https://localhost:8080/"
        },
        "outputId": "cf7040cd-340a-4e8e-a44d-aaace7540646"
      },
      "outputs": [
        {
          "output_type": "stream",
          "name": "stdout",
          "text": [
            "[[0 0 0]\n",
            " [0 1 1]\n",
            " [1 0 0]]\n"
          ]
        }
      ],
      "source": [
        "Z = np.random.randint(0,2,(6,3))\n",
        "T = np.ascontiguousarray(Z).view(np.dtype((np.void, Z.dtype.itemsize * Z.shape[1])))\n",
        "_, idx = np.unique(T, return_index=True)\n",
        "uZ = Z[idx]\n",
        "print(uZ)"
      ]
    },
    {
      "cell_type": "markdown",
      "metadata": {
        "id": "J8ipVLr6YqfY"
      },
      "source": [
        "#### 97. Considering 2 vectors A & B, write the einsum equivalent of inner, outer, sum, and mul function (★★★) \n",
        "(**hint**: np.einsum)"
      ]
    },
    {
      "cell_type": "code",
      "execution_count": 51,
      "metadata": {
        "id": "ZWGRUo7dYqfY",
        "colab": {
          "base_uri": "https://localhost:8080/"
        },
        "outputId": "adfa98b2-b2e3-4ab2-89bb-157318a15b7a"
      },
      "outputs": [
        {
          "output_type": "stream",
          "name": "stdout",
          "text": [
            "15\n",
            "[ 6 14 24 36  0]\n",
            "80\n",
            "[[ 6  7  8  9  0]\n",
            " [12 14 16 18  0]\n",
            " [18 21 24 27  0]\n",
            " [24 28 32 36  0]\n",
            " [30 35 40 45  0]]\n"
          ]
        }
      ],
      "source": [
        "A = np.array([1,2,3,4,5])\n",
        "B = np.array([6,7,8,9,0])\n",
        "\n",
        "print(np.einsum('i->', A)) # np.sum(A)\n",
        "print(np.einsum('i,i->i', A, B)) # A * B\n",
        "print(np.einsum('i,i', A, B)) # np.inner(A, B)\n",
        "print(np.einsum('i,j', A, B)) # np.outer(A, B)"
      ]
    },
    {
      "cell_type": "markdown",
      "metadata": {
        "id": "U7-telfKYqfY"
      },
      "source": [
        "#### 98. Considering a path described by two vectors (X,Y), how to sample it using equidistant samples (★★★)? \n",
        "(**hint**: np.cumsum, np.interp)"
      ]
    },
    {
      "cell_type": "code",
      "execution_count": 52,
      "metadata": {
        "collapsed": true,
        "id": "IjPXJ1L-YqfY"
      },
      "outputs": [],
      "source": []
    },
    {
      "cell_type": "markdown",
      "metadata": {
        "id": "0jQRs1cvYqfY"
      },
      "source": [
        "#### 99. Given an integer n and a 2D array X, select from X the rows which can be interpreted as draws from a multinomial distribution with n degrees, i.e., the rows which only contain integers and which sum to n. (★★★) \n",
        "(**hint**: np.logical\\_and.reduce, np.mod)"
      ]
    },
    {
      "cell_type": "code",
      "execution_count": 78,
      "metadata": {
        "id": "4Ui7Zzx0YqfY",
        "colab": {
          "base_uri": "https://localhost:8080/"
        },
        "outputId": "7eea881b-282d-4f54-bc31-db0f083b37a3"
      },
      "outputs": [
        {
          "output_type": "stream",
          "name": "stdout",
          "text": [
            "[[2. 0. 1. 1.]]\n"
          ]
        }
      ],
      "source": [
        "X = np.asarray([[1.0, 0.0, 3.0, 8.0],\n",
        "[2.0, 0.0, 1.0, 1.0],\n",
        "[1.5, 2.5, 1.0, 0.0]])\n",
        "n = 4\n",
        "M = np.logical_and.reduce(np.mod(X, 1) == 0, axis=-1)\n",
        "M &= (X.sum(axis=-1) == n)\n",
        "print(X[M])"
      ]
    },
    {
      "cell_type": "markdown",
      "metadata": {
        "id": "zVHjUPHMYqfY"
      },
      "source": [
        "#### 100. Compute bootstrapped 95% confidence intervals for the mean of a 1D array X (i.e., resample the elements of an array with replacement N times, compute the mean of each sample, and then compute percentiles over the means). (★★★) \n",
        "(**hint**: np.percentile)"
      ]
    },
    {
      "cell_type": "code",
      "execution_count": 55,
      "metadata": {
        "id": "s6eWQD0WYqfZ",
        "colab": {
          "base_uri": "https://localhost:8080/"
        },
        "outputId": "f0200f1f-d651-41a4-96a8-37a17ddf2cf1"
      },
      "outputs": [
        {
          "output_type": "stream",
          "name": "stdout",
          "text": [
            "[0.80440354]\n"
          ]
        }
      ],
      "source": [
        "a= np.random.randn(10)\n",
        "b = 100 \n",
        "c = np.random.randint(0, a.size, (b, a.size))\n",
        "means = a[c].mean(axis=1)\n",
        "d = np.percentile(means, [97.5])\n",
        "print(d)"
      ]
    },
    {
      "cell_type": "code",
      "source": [],
      "metadata": {
        "id": "yNBLRjDG8Q_w"
      },
      "execution_count": null,
      "outputs": []
    }
  ],
  "metadata": {
    "kernelspec": {
      "display_name": "Python 3",
      "language": "python",
      "name": "python3"
    },
    "language_info": {
      "codemirror_mode": {
        "name": "ipython",
        "version": 3
      },
      "file_extension": ".py",
      "mimetype": "text/x-python",
      "name": "python",
      "nbconvert_exporter": "python",
      "pygments_lexer": "ipython3",
      "version": "3.8.3"
    },
    "colab": {
      "provenance": []
    }
  },
  "nbformat": 4,
  "nbformat_minor": 0
}